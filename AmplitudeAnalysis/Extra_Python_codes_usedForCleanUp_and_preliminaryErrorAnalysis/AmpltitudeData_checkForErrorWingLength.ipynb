{
 "cells": [
  {
   "cell_type": "code",
   "execution_count": 1,
   "metadata": {},
   "outputs": [],
   "source": [
    "import pandas as pd\n",
    "import numpy as np\n",
    "import glob\n",
    "import os"
   ]
  },
  {
   "cell_type": "code",
   "execution_count": 2,
   "metadata": {},
   "outputs": [],
   "source": [
    "# direc = '../../../../Dropbox/Summer Project 2020 data/epi_ridge_cut/'\n",
    "# output = '../dataFolder/AmplitudeAnalysis/epi_ridge_cut/'"
   ]
  },
  {
   "cell_type": "code",
   "execution_count": 3,
   "metadata": {},
   "outputs": [],
   "source": [
    "direc = '../../../../Dropbox/Summer Project 2020 data/asymmetric_wings/'\n",
    "output = '../dataFolder/AmplitudeAnalysis/asymmetric_wings/'"
   ]
  },
  {
   "cell_type": "code",
   "execution_count": 4,
   "metadata": {},
   "outputs": [],
   "source": [
    "# read a random fly and check the length errors\n",
    "# mode = \n",
    "files = glob.glob(direc + 'fly*')"
   ]
  },
  {
   "cell_type": "code",
   "execution_count": 4,
   "metadata": {},
   "outputs": [],
   "source": [
    "# read the text file as a dictionary\n",
    "\n",
    "Nomenclature = pd.read_csv(direc + 'data_organization_asym.txt')\n",
    "\n",
    "d = {}\n",
    "with open(direc + 'data_organization_asym.txt') as f:\n",
    "    for line in f:\n",
    "        (key, val) = line.split('=')\n",
    "        d[key] = val.strip()\n",
    "\n",
    "mode = d['mode']\n",
    "del d['mode']\n",
    "\n",
    "for k in d:\n",
    "    d[k] = int(d[k])"
   ]
  },
  {
   "cell_type": "code",
   "execution_count": 5,
   "metadata": {},
   "outputs": [
    {
     "data": {
      "text/plain": [
       "{'lwapex': 1, 'rwapex': 2, 'lwbase': 3, 'rwbase': 4, 'fixed': 5}"
      ]
     },
     "execution_count": 5,
     "metadata": {},
     "output_type": "execute_result"
    }
   ],
   "source": [
    "d"
   ]
  },
  {
   "cell_type": "code",
   "execution_count": 6,
   "metadata": {},
   "outputs": [],
   "source": [
    "# lengthCheckFor = ['lw', 'rw', 'lh', 'rh']\n",
    "lengthCheckFor = ['lw', 'rw']"
   ]
  },
  {
   "cell_type": "code",
   "execution_count": 7,
   "metadata": {},
   "outputs": [],
   "source": [
    "def SliceColumnsForLocation(dictionary, df, bodypart, location):\n",
    "    k = [key for key in dictionary if bodypart + location in key][0]\n",
    "    index = dictionary[k]\n",
    "\n",
    "    pt1 = df.iloc[:, 3*index - 2 - 1 : 3*index]\n",
    "    pt1.columns = ['x', 'y', 'z']\n",
    "    return(pt1)"
   ]
  },
  {
   "cell_type": "code",
   "execution_count": 8,
   "metadata": {},
   "outputs": [],
   "source": [
    "for ff in files:\n",
    "    flyname = os.path.basename(ff)\n",
    "    \n",
    "    treatments  = glob.glob(ff + '/*/*xyzpts.csv')\n",
    "    \n",
    "    for readThis in treatments: \n",
    "    \n",
    "        df = pd.read_csv(readThis)\n",
    "\n",
    "        a = os.path.basename(readThis).split('_')[2]\n",
    "        b = os.path.basename(readThis).split('_')[3]\n",
    "        winglength = a + '_' + b\n",
    "\n",
    "        # extract the vectors for all the body parts \n",
    "\n",
    "        # make a pandas to hold all the vectors\n",
    "        midx = pd.MultiIndex.from_product([lengthCheckFor, ['x', 'y', 'z', 'length']])\n",
    "        uber_df = pd.DataFrame(data = None, columns = midx)\n",
    "        uber_df.head()\n",
    "\n",
    "        #loop through all body parts\n",
    "        for part in lengthCheckFor:\n",
    "            base = SliceColumnsForLocation(d, df, part, 'base')\n",
    "            tip = SliceColumnsForLocation(d, df, part, 'apex')\n",
    "            pt = tip - base\n",
    "\n",
    "            length =np.linalg.norm(pt, axis = 1, ord = 2)\n",
    "            pt['length'] = length\n",
    "            uber_df.loc[:,(part, 'x')] = pt['x']\n",
    "            uber_df.loc[:,(part, 'y')] = pt['y']\n",
    "            uber_df.loc[:,(part, 'z')] = pt['z']\n",
    "            uber_df.loc[:,(part, 'length')] = pt['length']\n",
    "\n",
    "        # save to folder\n",
    "        filename = flyname + '_' + winglength \n",
    "#         uber_df.to_csv(output +  filename + '_WingHaltereVectors.csv' )\n",
    "\n",
    "        # compute errors in lengths    \n",
    "        Results = pd.DataFrame(data = None\n",
    "                       , index = ['mean', 'std', 'mean Abs dev', 'mean % dev']\n",
    "                       , columns = lengthCheckFor)\n",
    "\n",
    "        for part in lengthCheckFor:\n",
    "            m = uber_df.loc[:,(part,'length')].mean(skipna = True)\n",
    "            s = uber_df.loc[:,(part,'length')].std(skipna = True)\n",
    "            mad = uber_df.loc[:,(part,'length')].mad(skipna = True)\n",
    "            pc = mad/m * 100\n",
    "\n",
    "            Results.loc['mean', part] = m\n",
    "            Results.loc['std', part] = s\n",
    "            Results.loc['mean Abs dev', part] = mad\n",
    "            Results.loc['mean % dev', part] = pc\n",
    "        Results.to_csv(output + filename + '_LengthError.csv')"
   ]
  },
  {
   "cell_type": "code",
   "execution_count": null,
   "metadata": {},
   "outputs": [],
   "source": []
  }
 ],
 "metadata": {
  "kernelspec": {
   "display_name": "Python 3",
   "language": "python",
   "name": "python3"
  },
  "language_info": {
   "codemirror_mode": {
    "name": "ipython",
    "version": 3
   },
   "file_extension": ".py",
   "mimetype": "text/x-python",
   "name": "python",
   "nbconvert_exporter": "python",
   "pygments_lexer": "ipython3",
   "version": "3.6.5"
  }
 },
 "nbformat": 4,
 "nbformat_minor": 2
}
