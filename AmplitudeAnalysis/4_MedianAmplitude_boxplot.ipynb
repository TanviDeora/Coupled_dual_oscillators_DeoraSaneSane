{
 "cells": [
  {
   "cell_type": "code",
   "execution_count": 1,
   "metadata": {},
   "outputs": [],
   "source": [
    "import glob\n",
    "import os\n",
    "import pandas as pd\n",
    "import numpy as np\n",
    "\n",
    "import seaborn as sns\n",
    "import matplotlib.pyplot as plt"
   ]
  },
  {
   "cell_type": "code",
   "execution_count": 2,
   "metadata": {},
   "outputs": [],
   "source": [
    "# compute bins for Asym, slit\n",
    "\n",
    "bins = [0.3, 0.5, 0.6, 0.7 ,0.9, 1]\n",
    "Exp = ['asymmetric_wings', 'Slit_sc']\n",
    "#        ,'epi_ridge_cut']\n",
    "for ex in Exp:\n",
    "    df = pd.read_csv('../dataFolder/AmplitudeAnalysis/v2/' + ex + '/median_summary.csv')\n",
    "    if 'binned' not in df.columns:\n",
    "        df['binned'] = pd.cut(df['winglength'], bins)\n",
    "        df.to_csv('../dataFolder/AmplitudeAnalysis/v2/' + ex + '/median_summary.csv')"
   ]
  },
  {
   "cell_type": "code",
   "execution_count": 15,
   "metadata": {},
   "outputs": [],
   "source": [
    "pal = {'RW': '#231f20', 'LW': '#ed1c24'}\n",
    "\n",
    "boxprops = {'edgecolor': 'k', 'linewidth': 2,'alpha': 0.5}\n",
    "lineprops = {'color': 'k', 'linewidth': 2}\n",
    "capprops = {'linewidth': 0}\n",
    "\n",
    "# Set up some general kwargs that we'll use in both the stripplot and boxplot\n",
    "# Note that you can change the order of hue variables here.\n",
    "kwargs = {'palette': pal, 'hue_order': ['LW', 'RW']}\n",
    "\n",
    "# The boxplot kwargs get passed to matplotlib's boxplot function.\n",
    "# Note how we can re-use our lineprops dict to make sure all the lines\n",
    "# match. You could also edit each line type (e.g. whiskers, caps, etc)\n",
    "# separately.\n",
    "boxplot_kwargs = dict({'boxprops': boxprops, 'medianprops': lineprops,\n",
    "                       'whiskerprops': lineprops, 'capprops': capprops,\n",
    "                       'width': 0.75},\n",
    "                      **kwargs\n",
    "                     )\n",
    "stripplot_kwargs = dict({'linewidth': 0.6, 'size': 6, 'alpha': 0.7},\n",
    "                        **kwargs\n",
    "                       )"
   ]
  },
  {
   "cell_type": "markdown",
   "metadata": {},
   "source": [
    "### Haltere loading"
   ]
  },
  {
   "cell_type": "code",
   "execution_count": 4,
   "metadata": {},
   "outputs": [],
   "source": [
    "df = pd.read_csv('../dataFolder/AmplitudeAnalysis/v2/haltere_loading/median_summary.csv')\n",
    "df = df.rename(columns={\"winglength\": \"treatment\"})\n",
    "\n",
    "# drop the haltere values \n",
    "i1 = df.loc[(df.body == 'LH')].index\n",
    "i2 = df.loc[(df.body == 'RH')].index\n",
    "indexNames = list(i1) + list(i2)\n",
    "df.drop(indexNames, inplace = True)\n",
    "df.drop(columns = 'Unnamed: 0', inplace = True)"
   ]
  },
  {
   "cell_type": "code",
   "execution_count": 5,
   "metadata": {},
   "outputs": [
    {
     "data": {
      "text/html": [
       "<div>\n",
       "<style scoped>\n",
       "    .dataframe tbody tr th:only-of-type {\n",
       "        vertical-align: middle;\n",
       "    }\n",
       "\n",
       "    .dataframe tbody tr th {\n",
       "        vertical-align: top;\n",
       "    }\n",
       "\n",
       "    .dataframe thead th {\n",
       "        text-align: right;\n",
       "    }\n",
       "</style>\n",
       "<table border=\"1\" class=\"dataframe\">\n",
       "  <thead>\n",
       "    <tr style=\"text-align: right;\">\n",
       "      <th></th>\n",
       "      <th>flyID</th>\n",
       "      <th>body</th>\n",
       "      <th>med_amplitude</th>\n",
       "      <th>treatment</th>\n",
       "    </tr>\n",
       "  </thead>\n",
       "  <tbody>\n",
       "    <tr>\n",
       "      <td>1</td>\n",
       "      <td>fly1</td>\n",
       "      <td>LW</td>\n",
       "      <td>158.869661</td>\n",
       "      <td>intacthalteres</td>\n",
       "    </tr>\n",
       "    <tr>\n",
       "      <td>3</td>\n",
       "      <td>fly1</td>\n",
       "      <td>RW</td>\n",
       "      <td>156.706477</td>\n",
       "      <td>intacthalteres</td>\n",
       "    </tr>\n",
       "    <tr>\n",
       "      <td>5</td>\n",
       "      <td>fly1</td>\n",
       "      <td>LW</td>\n",
       "      <td>150.092814</td>\n",
       "      <td>loadedhaltere1</td>\n",
       "    </tr>\n",
       "    <tr>\n",
       "      <td>7</td>\n",
       "      <td>fly1</td>\n",
       "      <td>RW</td>\n",
       "      <td>154.035367</td>\n",
       "      <td>loadedhaltere1</td>\n",
       "    </tr>\n",
       "    <tr>\n",
       "      <td>9</td>\n",
       "      <td>fly1</td>\n",
       "      <td>LW</td>\n",
       "      <td>138.465456</td>\n",
       "      <td>loadedhaltere2</td>\n",
       "    </tr>\n",
       "  </tbody>\n",
       "</table>\n",
       "</div>"
      ],
      "text/plain": [
       "  flyID body  med_amplitude       treatment\n",
       "1  fly1   LW     158.869661  intacthalteres\n",
       "3  fly1   RW     156.706477  intacthalteres\n",
       "5  fly1   LW     150.092814  loadedhaltere1\n",
       "7  fly1   RW     154.035367  loadedhaltere1\n",
       "9  fly1   LW     138.465456  loadedhaltere2"
      ]
     },
     "execution_count": 5,
     "metadata": {},
     "output_type": "execute_result"
    }
   ],
   "source": [
    "df.head()"
   ]
  },
  {
   "cell_type": "code",
   "execution_count": 7,
   "metadata": {},
   "outputs": [
    {
     "data": {
      "image/png": "[encoded data removed]",
      "text/plain": [
       "<Figure size 720x576 with 1 Axes>"
      ]
     },
     "metadata": {
      "needs_background": "light"
     },
     "output_type": "display_data"
    }
   ],
   "source": [
    "fig, ax = plt.subplots(figsize=(10,8))\n",
    "sns.boxplot(ax = ax, x = 'treatment', y = 'med_amplitude', hue = 'body', data = df,\n",
    "           order = ['intacthalteres', 'loadedhaltere1', 'loadedhaltere2', 'loadedhaltere3', 'removedload'],\n",
    "           fliersize=0, **boxplot_kwargs)\n",
    "sns.stripplot(ax = ax, x = 'treatment', y = 'med_amplitude', hue = 'body', data = df,\n",
    "              order = ['intacthalteres', 'loadedhaltere1', 'loadedhaltere2', 'loadedhaltere3', 'removedload'],\n",
    "              dodge=True, **stripplot_kwargs)\n",
    "plt.savefig('../dataFolder/Figure/AmplitudeAnalysis/v2/haltere_loading_MedWBA.pdf')"
   ]
  },
  {
   "cell_type": "markdown",
   "metadata": {},
   "source": [
    "### Epi Ridge"
   ]
  },
  {
   "cell_type": "code",
   "execution_count": 8,
   "metadata": {},
   "outputs": [],
   "source": [
    "# compute bins for epi ridge data\n",
    "\n",
    "bins = [0.3, 0.4, 0.5, 0.6, 0.7 ,0.9, 1]\n",
    "Exp = ['epi_ridge_cut']\n",
    "for ex in Exp:\n",
    "    df = pd.read_csv('../dataFolder/AmplitudeAnalysis/v2/' + ex + '/median_summary.csv')\n",
    "    if 'binned' not in df.columns:\n",
    "        df['binned'] = pd.cut(df['winglength'], bins)\n",
    "        df.to_csv('../dataFolder/AmplitudeAnalysis/v2/' + ex + '/median_summary.csv')"
   ]
  },
  {
   "cell_type": "code",
   "execution_count": 2,
   "metadata": {},
   "outputs": [],
   "source": [
    "df = pd.read_csv('../dataFolder/AmplitudeAnalysis/v2/epi_ridge_cut/median_summary.csv')\n",
    "df = df.rename(columns={\"winglength\": \"treatment\"})\n",
    "\n",
    "# drop the haltere values \n",
    "i1 = df.loc[(df.body == 'LH')].index\n",
    "i2 = df.loc[(df.body == 'RH')].index\n",
    "indexNames = list(i1) + list(i2)\n",
    "df.drop(indexNames, inplace = True)\n",
    "df.drop(columns = 'Unnamed: 0', inplace = True)"
   ]
  },
  {
   "cell_type": "code",
   "execution_count": 3,
   "metadata": {},
   "outputs": [
    {
     "data": {
      "text/plain": [
       "array(['fly1', 'fly2', 'fly3', 'fly5', 'fly7', 'fly8', 'fly9'],\n",
       "      dtype=object)"
      ]
     },
     "execution_count": 3,
     "metadata": {},
     "output_type": "execute_result"
    }
   ],
   "source": [
    "df.flyID.unique()"
   ]
  },
  {
   "cell_type": "code",
   "execution_count": 12,
   "metadata": {},
   "outputs": [],
   "source": [
    "#drop fly 8 and 9\n",
    "\n",
    "df.drop(df.loc[df.flyID.isin(['fly8', 'fly9']), :].index, inplace = True)"
   ]
  },
  {
   "cell_type": "code",
   "execution_count": 13,
   "metadata": {},
   "outputs": [
    {
     "data": {
      "text/html": [
       "<div>\n",
       "<style scoped>\n",
       "    .dataframe tbody tr th:only-of-type {\n",
       "        vertical-align: middle;\n",
       "    }\n",
       "\n",
       "    .dataframe tbody tr th {\n",
       "        vertical-align: top;\n",
       "    }\n",
       "\n",
       "    .dataframe thead th {\n",
       "        text-align: right;\n",
       "    }\n",
       "</style>\n",
       "<table border=\"1\" class=\"dataframe\">\n",
       "  <thead>\n",
       "    <tr style=\"text-align: right;\">\n",
       "      <th></th>\n",
       "      <th>Unnamed: 0.1</th>\n",
       "      <th>flyID</th>\n",
       "      <th>body</th>\n",
       "      <th>med_amplitude</th>\n",
       "      <th>treatment</th>\n",
       "      <th>binned</th>\n",
       "    </tr>\n",
       "  </thead>\n",
       "  <tbody>\n",
       "    <tr>\n",
       "      <td>1</td>\n",
       "      <td>1</td>\n",
       "      <td>fly1</td>\n",
       "      <td>LW</td>\n",
       "      <td>86.794979</td>\n",
       "      <td>0.38</td>\n",
       "      <td>(0.3, 0.4]</td>\n",
       "    </tr>\n",
       "    <tr>\n",
       "      <td>3</td>\n",
       "      <td>3</td>\n",
       "      <td>fly1</td>\n",
       "      <td>RW</td>\n",
       "      <td>107.727884</td>\n",
       "      <td>0.38</td>\n",
       "      <td>(0.3, 0.4]</td>\n",
       "    </tr>\n",
       "    <tr>\n",
       "      <td>5</td>\n",
       "      <td>5</td>\n",
       "      <td>fly1</td>\n",
       "      <td>LW</td>\n",
       "      <td>95.382313</td>\n",
       "      <td>0.50</td>\n",
       "      <td>(0.4, 0.5]</td>\n",
       "    </tr>\n",
       "    <tr>\n",
       "      <td>7</td>\n",
       "      <td>7</td>\n",
       "      <td>fly1</td>\n",
       "      <td>RW</td>\n",
       "      <td>108.199737</td>\n",
       "      <td>0.50</td>\n",
       "      <td>(0.4, 0.5]</td>\n",
       "    </tr>\n",
       "    <tr>\n",
       "      <td>9</td>\n",
       "      <td>9</td>\n",
       "      <td>fly1</td>\n",
       "      <td>LW</td>\n",
       "      <td>121.218422</td>\n",
       "      <td>0.58</td>\n",
       "      <td>(0.5, 0.6]</td>\n",
       "    </tr>\n",
       "  </tbody>\n",
       "</table>\n",
       "</div>"
      ],
      "text/plain": [
       "   Unnamed: 0.1 flyID body  med_amplitude  treatment      binned\n",
       "1             1  fly1   LW      86.794979       0.38  (0.3, 0.4]\n",
       "3             3  fly1   RW     107.727884       0.38  (0.3, 0.4]\n",
       "5             5  fly1   LW      95.382313       0.50  (0.4, 0.5]\n",
       "7             7  fly1   RW     108.199737       0.50  (0.4, 0.5]\n",
       "9             9  fly1   LW     121.218422       0.58  (0.5, 0.6]"
      ]
     },
     "execution_count": 13,
     "metadata": {},
     "output_type": "execute_result"
    }
   ],
   "source": [
    "df.head()"
   ]
  },
  {
   "cell_type": "code",
   "execution_count": 16,
   "metadata": {},
   "outputs": [
    {
     "data": {
      "image/png": "[encoded data removed]",
      "text/plain": [
       "<Figure size 720x576 with 1 Axes>"
      ]
     },
     "metadata": {
      "needs_background": "light"
     },
     "output_type": "display_data"
    }
   ],
   "source": [
    "fig, ax = plt.subplots(figsize=(10,8))\n",
    "sns.boxplot(ax = ax, x = 'binned', y = 'med_amplitude', hue = 'body', data = df,\n",
    "           order = ['(0.3, 0.4]', '(0.4, 0.5]', '(0.5, 0.6]' ,'(0.6, 0.7]', '(0.7, 0.9]', '(0.9, 1.0]'],\n",
    "            fliersize=0,\n",
    "            **boxplot_kwargs\n",
    "           )target \n",
    "sns.stripplot(ax = ax, x = 'binned', y = 'med_amplitude', hue = 'body', data = df,\n",
    "              order = ['(0.3, 0.4]', '(0.4, 0.5]', '(0.5, 0.6]' ,'(0.6, 0.7]', '(0.7, 0.9]', '(0.9, 1.0]'],\n",
    "           dodge=True, \n",
    "              **stripplot_kwargs\n",
    "             )\n",
    "plt.savefig('../dataFolder/Figure/AmplitudeAnalysis/v2/epi_ridge_cut_MedWBA_withoutFly8&9.pdf')"
   ]
  },
  {
   "cell_type": "markdown",
   "metadata": {},
   "source": [
    "### asymmetric wings"
   ]
  },
  {
   "cell_type": "code",
   "execution_count": 12,
   "metadata": {},
   "outputs": [],
   "source": [
    "pal = {'intact': '#231f20', 'clip': '#ed1c24'}\n",
    "\n",
    "boxprops = {'edgecolor': 'k', 'linewidth': 2,'alpha': 0.5}\n",
    "lineprops = {'color': 'k', 'linewidth': 2}\n",
    "capprops = {'linewidth': 0}\n",
    "\n",
    "# Set up some general kwargs that we'll use in both the stripplot and boxplot\n",
    "# Note that you can change the order of hue variables here.\n",
    "kwargs = {'palette': pal, 'hue_order': ['clip', 'intact']}\n",
    "\n",
    "# The boxplot kwargs get passed to matplotlib's boxplot function.\n",
    "# Note how we can re-use our lineprops dict to make sure all the lines\n",
    "# match. You could also edit each line type (e.g. whiskers, caps, etc)\n",
    "# separately.\n",
    "boxplot_kwargs = dict({'boxprops': boxprops, 'medianprops': lineprops,\n",
    "                       'whiskerprops': lineprops, 'capprops': capprops,\n",
    "                       'width': 0.75},\n",
    "                      **kwargs)\n",
    "stripplot_kwargs = dict({'linewidth': 0.6, 'size': 6, 'alpha': 0.7},\n",
    "                        **kwargs)"
   ]
  },
  {
   "cell_type": "code",
   "execution_count": 13,
   "metadata": {},
   "outputs": [],
   "source": [
    "df = pd.read_csv('../dataFolder/AmplitudeAnalysis/v2/asymmetric_wings/median_summary.csv')\n",
    "df = df.rename(columns={\"winglength\": \"treatment\"})\n",
    "\n",
    "# drop the haltere values \n",
    "i1 = df.loc[(df.body == 'LH')].index\n",
    "i2 = df.loc[(df.body == 'RH')].index\n",
    "indexNames = list(i1) + list(i2)\n",
    "df.drop(indexNames, inplace = True)"
   ]
  },
  {
   "cell_type": "code",
   "execution_count": 14,
   "metadata": {},
   "outputs": [
    {
     "data": {
      "text/html": [
       "<div>\n",
       "<style scoped>\n",
       "    .dataframe tbody tr th:only-of-type {\n",
       "        vertical-align: middle;\n",
       "    }\n",
       "\n",
       "    .dataframe tbody tr th {\n",
       "        vertical-align: top;\n",
       "    }\n",
       "\n",
       "    .dataframe thead th {\n",
       "        text-align: right;\n",
       "    }\n",
       "</style>\n",
       "<table border=\"1\" class=\"dataframe\">\n",
       "  <thead>\n",
       "    <tr style=\"text-align: right;\">\n",
       "      <th></th>\n",
       "      <th>Unnamed: 0</th>\n",
       "      <th>Unnamed: 0.1</th>\n",
       "      <th>flyID</th>\n",
       "      <th>body</th>\n",
       "      <th>med_amplitude</th>\n",
       "      <th>treatment</th>\n",
       "      <th>binned</th>\n",
       "    </tr>\n",
       "  </thead>\n",
       "  <tbody>\n",
       "    <tr>\n",
       "      <td>0</td>\n",
       "      <td>0</td>\n",
       "      <td>0</td>\n",
       "      <td>fly1</td>\n",
       "      <td>LW</td>\n",
       "      <td>106.300374</td>\n",
       "      <td>0.391743</td>\n",
       "      <td>(0.3, 0.5]</td>\n",
       "    </tr>\n",
       "    <tr>\n",
       "      <td>1</td>\n",
       "      <td>1</td>\n",
       "      <td>1</td>\n",
       "      <td>fly1</td>\n",
       "      <td>RW</td>\n",
       "      <td>141.388610</td>\n",
       "      <td>0.391743</td>\n",
       "      <td>(0.3, 0.5]</td>\n",
       "    </tr>\n",
       "    <tr>\n",
       "      <td>2</td>\n",
       "      <td>2</td>\n",
       "      <td>2</td>\n",
       "      <td>fly1</td>\n",
       "      <td>LW</td>\n",
       "      <td>108.509719</td>\n",
       "      <td>0.461742</td>\n",
       "      <td>(0.3, 0.5]</td>\n",
       "    </tr>\n",
       "    <tr>\n",
       "      <td>3</td>\n",
       "      <td>3</td>\n",
       "      <td>3</td>\n",
       "      <td>fly1</td>\n",
       "      <td>RW</td>\n",
       "      <td>137.794417</td>\n",
       "      <td>0.461742</td>\n",
       "      <td>(0.3, 0.5]</td>\n",
       "    </tr>\n",
       "    <tr>\n",
       "      <td>4</td>\n",
       "      <td>4</td>\n",
       "      <td>4</td>\n",
       "      <td>fly1</td>\n",
       "      <td>LW</td>\n",
       "      <td>129.176719</td>\n",
       "      <td>0.573657</td>\n",
       "      <td>(0.5, 0.6]</td>\n",
       "    </tr>\n",
       "  </tbody>\n",
       "</table>\n",
       "</div>"
      ],
      "text/plain": [
       "   Unnamed: 0  Unnamed: 0.1 flyID body  med_amplitude  treatment      binned\n",
       "0           0             0  fly1   LW     106.300374   0.391743  (0.3, 0.5]\n",
       "1           1             1  fly1   RW     141.388610   0.391743  (0.3, 0.5]\n",
       "2           2             2  fly1   LW     108.509719   0.461742  (0.3, 0.5]\n",
       "3           3             3  fly1   RW     137.794417   0.461742  (0.3, 0.5]\n",
       "4           4             4  fly1   LW     129.176719   0.573657  (0.5, 0.6]"
      ]
     },
     "execution_count": 14,
     "metadata": {},
     "output_type": "execute_result"
    }
   ],
   "source": [
    "df.head()"
   ]
  },
  {
   "cell_type": "code",
   "execution_count": 15,
   "metadata": {},
   "outputs": [
    {
     "data": {
      "text/html": [
       "<div>\n",
       "<style scoped>\n",
       "    .dataframe tbody tr th:only-of-type {\n",
       "        vertical-align: middle;\n",
       "    }\n",
       "\n",
       "    .dataframe tbody tr th {\n",
       "        vertical-align: top;\n",
       "    }\n",
       "\n",
       "    .dataframe thead th {\n",
       "        text-align: right;\n",
       "    }\n",
       "</style>\n",
       "<table border=\"1\" class=\"dataframe\">\n",
       "  <thead>\n",
       "    <tr style=\"text-align: right;\">\n",
       "      <th></th>\n",
       "      <th>name</th>\n",
       "      <th>clippedWing</th>\n",
       "    </tr>\n",
       "  </thead>\n",
       "  <tbody>\n",
       "    <tr>\n",
       "      <td>0</td>\n",
       "      <td>fly1</td>\n",
       "      <td>LW</td>\n",
       "    </tr>\n",
       "    <tr>\n",
       "      <td>1</td>\n",
       "      <td>fly2</td>\n",
       "      <td>LW</td>\n",
       "    </tr>\n",
       "    <tr>\n",
       "      <td>2</td>\n",
       "      <td>fly3</td>\n",
       "      <td>LW</td>\n",
       "    </tr>\n",
       "    <tr>\n",
       "      <td>3</td>\n",
       "      <td>fly5</td>\n",
       "      <td>RW</td>\n",
       "    </tr>\n",
       "    <tr>\n",
       "      <td>4</td>\n",
       "      <td>fly6</td>\n",
       "      <td>RW</td>\n",
       "    </tr>\n",
       "    <tr>\n",
       "      <td>5</td>\n",
       "      <td>fly7</td>\n",
       "      <td>RW</td>\n",
       "    </tr>\n",
       "  </tbody>\n",
       "</table>\n",
       "</div>"
      ],
      "text/plain": [
       "   name clippedWing\n",
       "0  fly1          LW\n",
       "1  fly2          LW\n",
       "2  fly3          LW\n",
       "3  fly5          RW\n",
       "4  fly6          RW\n",
       "5  fly7          RW"
      ]
     },
     "execution_count": 15,
     "metadata": {},
     "output_type": "execute_result"
    }
   ],
   "source": [
    "table = pd.read_csv('../dataFolder/AmplitudeAnalysis/v2/asymmetric_wings/Readme_leftRightWingClipped.txt', \n",
    "                   delimiter = \"\\t\")\n",
    "table\n",
    "# mapping_dict = table.set_index('name').T.to_dict('index')['clippedWing']\n",
    "# mapping_dict"
   ]
  },
  {
   "cell_type": "code",
   "execution_count": 16,
   "metadata": {},
   "outputs": [],
   "source": [
    "bodypart = []\n",
    "for r, line in df.iterrows():\n",
    "    ref = table[table.name == line.flyID]\n",
    "    if line.body == ref.clippedWing.values[0]:\n",
    "        bp = 'clip'\n",
    "    else:\n",
    "        bp = 'intact'\n",
    "    bodypart.append(bp)"
   ]
  },
  {
   "cell_type": "code",
   "execution_count": 17,
   "metadata": {},
   "outputs": [],
   "source": [
    "df['bodypart'] = bodypart"
   ]
  },
  {
   "cell_type": "code",
   "execution_count": 18,
   "metadata": {},
   "outputs": [
    {
     "data": {
      "text/html": [
       "<div>\n",
       "<style scoped>\n",
       "    .dataframe tbody tr th:only-of-type {\n",
       "        vertical-align: middle;\n",
       "    }\n",
       "\n",
       "    .dataframe tbody tr th {\n",
       "        vertical-align: top;\n",
       "    }\n",
       "\n",
       "    .dataframe thead th {\n",
       "        text-align: right;\n",
       "    }\n",
       "</style>\n",
       "<table border=\"1\" class=\"dataframe\">\n",
       "  <thead>\n",
       "    <tr style=\"text-align: right;\">\n",
       "      <th></th>\n",
       "      <th>Unnamed: 0</th>\n",
       "      <th>Unnamed: 0.1</th>\n",
       "      <th>flyID</th>\n",
       "      <th>body</th>\n",
       "      <th>med_amplitude</th>\n",
       "      <th>treatment</th>\n",
       "      <th>binned</th>\n",
       "      <th>bodypart</th>\n",
       "    </tr>\n",
       "  </thead>\n",
       "  <tbody>\n",
       "    <tr>\n",
       "      <td>0</td>\n",
       "      <td>0</td>\n",
       "      <td>0</td>\n",
       "      <td>fly1</td>\n",
       "      <td>LW</td>\n",
       "      <td>106.300374</td>\n",
       "      <td>0.391743</td>\n",
       "      <td>(0.3, 0.5]</td>\n",
       "      <td>clip</td>\n",
       "    </tr>\n",
       "    <tr>\n",
       "      <td>1</td>\n",
       "      <td>1</td>\n",
       "      <td>1</td>\n",
       "      <td>fly1</td>\n",
       "      <td>RW</td>\n",
       "      <td>141.388610</td>\n",
       "      <td>0.391743</td>\n",
       "      <td>(0.3, 0.5]</td>\n",
       "      <td>intact</td>\n",
       "    </tr>\n",
       "    <tr>\n",
       "      <td>2</td>\n",
       "      <td>2</td>\n",
       "      <td>2</td>\n",
       "      <td>fly1</td>\n",
       "      <td>LW</td>\n",
       "      <td>108.509719</td>\n",
       "      <td>0.461742</td>\n",
       "      <td>(0.3, 0.5]</td>\n",
       "      <td>clip</td>\n",
       "    </tr>\n",
       "    <tr>\n",
       "      <td>3</td>\n",
       "      <td>3</td>\n",
       "      <td>3</td>\n",
       "      <td>fly1</td>\n",
       "      <td>RW</td>\n",
       "      <td>137.794417</td>\n",
       "      <td>0.461742</td>\n",
       "      <td>(0.3, 0.5]</td>\n",
       "      <td>intact</td>\n",
       "    </tr>\n",
       "    <tr>\n",
       "      <td>4</td>\n",
       "      <td>4</td>\n",
       "      <td>4</td>\n",
       "      <td>fly1</td>\n",
       "      <td>LW</td>\n",
       "      <td>129.176719</td>\n",
       "      <td>0.573657</td>\n",
       "      <td>(0.5, 0.6]</td>\n",
       "      <td>clip</td>\n",
       "    </tr>\n",
       "    <tr>\n",
       "      <td>...</td>\n",
       "      <td>...</td>\n",
       "      <td>...</td>\n",
       "      <td>...</td>\n",
       "      <td>...</td>\n",
       "      <td>...</td>\n",
       "      <td>...</td>\n",
       "      <td>...</td>\n",
       "      <td>...</td>\n",
       "    </tr>\n",
       "    <tr>\n",
       "      <td>57</td>\n",
       "      <td>57</td>\n",
       "      <td>57</td>\n",
       "      <td>fly7</td>\n",
       "      <td>RW</td>\n",
       "      <td>142.443988</td>\n",
       "      <td>0.707680</td>\n",
       "      <td>(0.7, 0.9]</td>\n",
       "      <td>clip</td>\n",
       "    </tr>\n",
       "    <tr>\n",
       "      <td>58</td>\n",
       "      <td>58</td>\n",
       "      <td>58</td>\n",
       "      <td>fly7</td>\n",
       "      <td>LW</td>\n",
       "      <td>140.867385</td>\n",
       "      <td>0.770075</td>\n",
       "      <td>(0.7, 0.9]</td>\n",
       "      <td>intact</td>\n",
       "    </tr>\n",
       "    <tr>\n",
       "      <td>59</td>\n",
       "      <td>59</td>\n",
       "      <td>59</td>\n",
       "      <td>fly7</td>\n",
       "      <td>RW</td>\n",
       "      <td>128.026597</td>\n",
       "      <td>0.770075</td>\n",
       "      <td>(0.7, 0.9]</td>\n",
       "      <td>clip</td>\n",
       "    </tr>\n",
       "    <tr>\n",
       "      <td>60</td>\n",
       "      <td>60</td>\n",
       "      <td>60</td>\n",
       "      <td>fly7</td>\n",
       "      <td>LW</td>\n",
       "      <td>127.758904</td>\n",
       "      <td>1.000000</td>\n",
       "      <td>(0.9, 1.0]</td>\n",
       "      <td>intact</td>\n",
       "    </tr>\n",
       "    <tr>\n",
       "      <td>61</td>\n",
       "      <td>61</td>\n",
       "      <td>61</td>\n",
       "      <td>fly7</td>\n",
       "      <td>RW</td>\n",
       "      <td>142.796943</td>\n",
       "      <td>1.000000</td>\n",
       "      <td>(0.9, 1.0]</td>\n",
       "      <td>clip</td>\n",
       "    </tr>\n",
       "  </tbody>\n",
       "</table>\n",
       "<p>62 rows × 8 columns</p>\n",
       "</div>"
      ],
      "text/plain": [
       "    Unnamed: 0  Unnamed: 0.1 flyID body  med_amplitude  treatment      binned  \\\n",
       "0            0             0  fly1   LW     106.300374   0.391743  (0.3, 0.5]   \n",
       "1            1             1  fly1   RW     141.388610   0.391743  (0.3, 0.5]   \n",
       "2            2             2  fly1   LW     108.509719   0.461742  (0.3, 0.5]   \n",
       "3            3             3  fly1   RW     137.794417   0.461742  (0.3, 0.5]   \n",
       "4            4             4  fly1   LW     129.176719   0.573657  (0.5, 0.6]   \n",
       "..         ...           ...   ...  ...            ...        ...         ...   \n",
       "57          57            57  fly7   RW     142.443988   0.707680  (0.7, 0.9]   \n",
       "58          58            58  fly7   LW     140.867385   0.770075  (0.7, 0.9]   \n",
       "59          59            59  fly7   RW     128.026597   0.770075  (0.7, 0.9]   \n",
       "60          60            60  fly7   LW     127.758904   1.000000  (0.9, 1.0]   \n",
       "61          61            61  fly7   RW     142.796943   1.000000  (0.9, 1.0]   \n",
       "\n",
       "   bodypart  \n",
       "0      clip  \n",
       "1    intact  \n",
       "2      clip  \n",
       "3    intact  \n",
       "4      clip  \n",
       "..      ...  \n",
       "57     clip  \n",
       "58   intact  \n",
       "59     clip  \n",
       "60   intact  \n",
       "61     clip  \n",
       "\n",
       "[62 rows x 8 columns]"
      ]
     },
     "execution_count": 18,
     "metadata": {},
     "output_type": "execute_result"
    }
   ],
   "source": [
    "df"
   ]
  },
  {
   "cell_type": "code",
   "execution_count": 19,
   "metadata": {},
   "outputs": [],
   "source": [
    "df.to_csv('../dataFolder/AmplitudeAnalysis/v2/asymmetric_wings/median_summary_edited.csv')"
   ]
  },
  {
   "cell_type": "code",
   "execution_count": 20,
   "metadata": {
    "scrolled": true
   },
   "outputs": [
    {
     "data": {
      "image/png": "[encoded data removed]",
      "text/plain": [
       "<Figure size 720x576 with 1 Axes>"
      ]
     },
     "metadata": {
      "needs_background": "light"
     },
     "output_type": "display_data"
    }
   ],
   "source": [
    "fig, ax = plt.subplots(figsize=(10,8))\n",
    "sns.boxplot(ax = ax, x = 'binned', y = 'med_amplitude', hue = 'bodypart', data = df,\n",
    "           fliersize=0, **boxplot_kwargs)\n",
    "sns.stripplot(ax = ax, x = 'binned', y = 'med_amplitude', hue = 'bodypart', data = df,\n",
    "           dodge=True, **stripplot_kwargs)\n",
    "plt.savefig('../dataFolder/Figure/AmplitudeAnalysis/v2/asymmetric_wings_MedWBA.pdf')"
   ]
  },
  {
   "cell_type": "markdown",
   "metadata": {},
   "source": [
    "### slit sc"
   ]
  },
  {
   "cell_type": "code",
   "execution_count": 21,
   "metadata": {},
   "outputs": [],
   "source": [
    "df = pd.read_csv('../dataFolder/AmplitudeAnalysis/v2/slit_sc/median_summary.csv')\n",
    "df = df.rename(columns={\"winglength\": \"treatment\"})\n",
    "\n",
    "# drop the haltere values \n",
    "i1 = df.loc[(df.body == 'LH')].index\n",
    "i2 = df.loc[(df.body == 'RH')].index\n",
    "indexNames = list(i1) + list(i2)\n",
    "df.drop(indexNames, inplace = True)"
   ]
  },
  {
   "cell_type": "code",
   "execution_count": 22,
   "metadata": {},
   "outputs": [
    {
     "data": {
      "text/html": [
       "<div>\n",
       "<style scoped>\n",
       "    .dataframe tbody tr th:only-of-type {\n",
       "        vertical-align: middle;\n",
       "    }\n",
       "\n",
       "    .dataframe tbody tr th {\n",
       "        vertical-align: top;\n",
       "    }\n",
       "\n",
       "    .dataframe thead th {\n",
       "        text-align: right;\n",
       "    }\n",
       "</style>\n",
       "<table border=\"1\" class=\"dataframe\">\n",
       "  <thead>\n",
       "    <tr style=\"text-align: right;\">\n",
       "      <th></th>\n",
       "      <th>name</th>\n",
       "      <th>clippedWing</th>\n",
       "    </tr>\n",
       "  </thead>\n",
       "  <tbody>\n",
       "    <tr>\n",
       "      <td>0</td>\n",
       "      <td>fly1</td>\n",
       "      <td>LW</td>\n",
       "    </tr>\n",
       "    <tr>\n",
       "      <td>1</td>\n",
       "      <td>fly2</td>\n",
       "      <td>LW</td>\n",
       "    </tr>\n",
       "    <tr>\n",
       "      <td>2</td>\n",
       "      <td>fly7</td>\n",
       "      <td>RW</td>\n",
       "    </tr>\n",
       "    <tr>\n",
       "      <td>3</td>\n",
       "      <td>fly8</td>\n",
       "      <td>RW</td>\n",
       "    </tr>\n",
       "    <tr>\n",
       "      <td>4</td>\n",
       "      <td>fly9</td>\n",
       "      <td>LW</td>\n",
       "    </tr>\n",
       "  </tbody>\n",
       "</table>\n",
       "</div>"
      ],
      "text/plain": [
       "   name clippedWing\n",
       "0  fly1          LW\n",
       "1  fly2          LW\n",
       "2  fly7          RW\n",
       "3  fly8          RW\n",
       "4  fly9          LW"
      ]
     },
     "execution_count": 22,
     "metadata": {},
     "output_type": "execute_result"
    }
   ],
   "source": [
    "table = pd.read_csv('../dataFolder/AmplitudeAnalysis/v1/slit_sc/Readme_leftRightWingClipped.txt', \n",
    "                   delimiter = \"\\t\")\n",
    "table"
   ]
  },
  {
   "cell_type": "code",
   "execution_count": 23,
   "metadata": {},
   "outputs": [],
   "source": [
    "bodypart = []\n",
    "for r, line in df.iterrows():\n",
    "    ref = table[table.name == line.flyID]\n",
    "    if line.body == ref.clippedWing.values[0]:\n",
    "        bp = 'clip'\n",
    "    else:\n",
    "        bp = 'intact'\n",
    "    bodypart.append(bp)\n",
    "df['bodypart'] = bodypart"
   ]
  },
  {
   "cell_type": "code",
   "execution_count": 24,
   "metadata": {},
   "outputs": [
    {
     "data": {
      "text/html": [
       "<div>\n",
       "<style scoped>\n",
       "    .dataframe tbody tr th:only-of-type {\n",
       "        vertical-align: middle;\n",
       "    }\n",
       "\n",
       "    .dataframe tbody tr th {\n",
       "        vertical-align: top;\n",
       "    }\n",
       "\n",
       "    .dataframe thead th {\n",
       "        text-align: right;\n",
       "    }\n",
       "</style>\n",
       "<table border=\"1\" class=\"dataframe\">\n",
       "  <thead>\n",
       "    <tr style=\"text-align: right;\">\n",
       "      <th></th>\n",
       "      <th>Unnamed: 0</th>\n",
       "      <th>Unnamed: 0.1</th>\n",
       "      <th>flyID</th>\n",
       "      <th>body</th>\n",
       "      <th>med_amplitude</th>\n",
       "      <th>treatment</th>\n",
       "      <th>binned</th>\n",
       "      <th>bodypart</th>\n",
       "    </tr>\n",
       "  </thead>\n",
       "  <tbody>\n",
       "    <tr>\n",
       "      <td>0</td>\n",
       "      <td>0</td>\n",
       "      <td>0</td>\n",
       "      <td>fly1</td>\n",
       "      <td>LW</td>\n",
       "      <td>103.677600</td>\n",
       "      <td>0.450367</td>\n",
       "      <td>(0.3, 0.5]</td>\n",
       "      <td>clip</td>\n",
       "    </tr>\n",
       "    <tr>\n",
       "      <td>1</td>\n",
       "      <td>1</td>\n",
       "      <td>1</td>\n",
       "      <td>fly1</td>\n",
       "      <td>RW</td>\n",
       "      <td>96.487214</td>\n",
       "      <td>0.450367</td>\n",
       "      <td>(0.3, 0.5]</td>\n",
       "      <td>intact</td>\n",
       "    </tr>\n",
       "    <tr>\n",
       "      <td>2</td>\n",
       "      <td>2</td>\n",
       "      <td>2</td>\n",
       "      <td>fly1</td>\n",
       "      <td>LW</td>\n",
       "      <td>148.977524</td>\n",
       "      <td>0.617825</td>\n",
       "      <td>(0.6, 0.7]</td>\n",
       "      <td>clip</td>\n",
       "    </tr>\n",
       "    <tr>\n",
       "      <td>3</td>\n",
       "      <td>3</td>\n",
       "      <td>3</td>\n",
       "      <td>fly1</td>\n",
       "      <td>RW</td>\n",
       "      <td>114.640444</td>\n",
       "      <td>0.617825</td>\n",
       "      <td>(0.6, 0.7]</td>\n",
       "      <td>intact</td>\n",
       "    </tr>\n",
       "    <tr>\n",
       "      <td>4</td>\n",
       "      <td>4</td>\n",
       "      <td>4</td>\n",
       "      <td>fly1</td>\n",
       "      <td>LW</td>\n",
       "      <td>150.204065</td>\n",
       "      <td>0.719372</td>\n",
       "      <td>(0.7, 0.9]</td>\n",
       "      <td>clip</td>\n",
       "    </tr>\n",
       "  </tbody>\n",
       "</table>\n",
       "</div>"
      ],
      "text/plain": [
       "   Unnamed: 0  Unnamed: 0.1 flyID body  med_amplitude  treatment      binned  \\\n",
       "0           0             0  fly1   LW     103.677600   0.450367  (0.3, 0.5]   \n",
       "1           1             1  fly1   RW      96.487214   0.450367  (0.3, 0.5]   \n",
       "2           2             2  fly1   LW     148.977524   0.617825  (0.6, 0.7]   \n",
       "3           3             3  fly1   RW     114.640444   0.617825  (0.6, 0.7]   \n",
       "4           4             4  fly1   LW     150.204065   0.719372  (0.7, 0.9]   \n",
       "\n",
       "  bodypart  \n",
       "0     clip  \n",
       "1   intact  \n",
       "2     clip  \n",
       "3   intact  \n",
       "4     clip  "
      ]
     },
     "execution_count": 24,
     "metadata": {},
     "output_type": "execute_result"
    }
   ],
   "source": [
    "df.head()"
   ]
  },
  {
   "cell_type": "code",
   "execution_count": 25,
   "metadata": {},
   "outputs": [],
   "source": [
    "df.to_csv('../dataFolder/AmplitudeAnalysis/v2/slit_sc/median_summary_edited.csv')"
   ]
  },
  {
   "cell_type": "code",
   "execution_count": 26,
   "metadata": {},
   "outputs": [
    {
     "data": {
      "image/png": "[encoded data removed]",
      "text/plain": [
       "<Figure size 720x576 with 1 Axes>"
      ]
     },
     "metadata": {
      "needs_background": "light"
     },
     "output_type": "display_data"
    }
   ],
   "source": [
    "fig, ax = plt.subplots(figsize=(10,8))\n",
    "sns.boxplot(ax = ax, x = 'binned', y = 'med_amplitude', hue = 'bodypart', data = df,\n",
    "           fliersize=0, **boxplot_kwargs,\n",
    "           order = ['(0.3, 0.5]', '(0.5, 0.6]', '(0.6, 0.7]', '(0.7, 0.9]', '(0.9, 1.0]'])\n",
    "sns.stripplot(ax = ax, x = 'binned', y = 'med_amplitude', hue = 'bodypart', data = df,\n",
    "           dodge=True, **stripplot_kwargs,\n",
    "             order = ['(0.3, 0.5]', '(0.5, 0.6]', '(0.6, 0.7]', '(0.7, 0.9]', '(0.9, 1.0]'])\n",
    "plt.savefig('../dataFolder/Figure/AmplitudeAnalysis/v2/Slit_sc_MedWBA.pdf')"
   ]
  },
  {
   "cell_type": "code",
   "execution_count": null,
   "metadata": {},
   "outputs": [],
   "source": []
  }
 ],
 "metadata": {
  "kernelspec": {
   "display_name": "Python 3",
   "language": "python",
   "name": "python3"
  },
  "language_info": {
   "codemirror_mode": {
    "name": "ipython",
    "version": 3
   },
   "file_extension": ".py",
   "mimetype": "text/x-python",
   "name": "python",
   "nbconvert_exporter": "python",
   "pygments_lexer": "ipython3",
   "version": "3.6.5"
  }
 },
 "nbformat": 4,
 "nbformat_minor": 2
}
