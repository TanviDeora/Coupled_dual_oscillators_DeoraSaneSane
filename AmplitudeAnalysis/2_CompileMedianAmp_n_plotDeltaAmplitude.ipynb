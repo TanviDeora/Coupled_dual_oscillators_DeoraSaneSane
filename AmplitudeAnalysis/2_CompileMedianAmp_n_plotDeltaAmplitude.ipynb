{
 "cells": [
  {
   "cell_type": "code",
   "execution_count": 1,
   "metadata": {},
   "outputs": [],
   "source": [
    "import pandas as pd\n",
    "import glob\n",
    "import numpy as np\n",
    "import seaborn as sns\n",
    "import matplotlib.pyplot as plt"
   ]
  },
  {
   "cell_type": "code",
   "execution_count": 2,
   "metadata": {},
   "outputs": [],
   "source": [
    "# get the data in a format suitable for sns plot\n",
    "def GetMedianAmplitude(Exp):\n",
    "    am_list = glob.glob('../dataFolder/AmplitudeAnalysis/v2/' + Exp + '/fly*_AmpDataCompiled.csv')\n",
    "    \n",
    "    name = []\n",
    "    bodypart = []\n",
    "    median_amplitude = []\n",
    "    winglength = []\n",
    "\n",
    "    for f in am_list:\n",
    "        df = pd.read_csv(f)\n",
    "        if Exp == 'haltere_loading':\n",
    "            variable = 'treatment'\n",
    "        else:\n",
    "            variable = 'winglength'\n",
    "            \n",
    "        for wl, sub_df in df.groupby(variable):\n",
    "            for bd, specific_df in sub_df.groupby('body'):\n",
    "                m = np.median(specific_df.amplitude)\n",
    "\n",
    "                name.append(specific_df.flyID.unique()[0])\n",
    "                bodypart.append(bd)\n",
    "                median_amplitude.append(m)\n",
    "                winglength.append(wl)\n",
    "\n",
    "    new_df = pd.DataFrame({'flyID': name,\n",
    "                          'body': bodypart,\n",
    "                          'med_amplitude': median_amplitude,\n",
    "                           'winglength': winglength\n",
    "                          })\n",
    "    return(new_df)"
   ]
  },
  {
   "cell_type": "code",
   "execution_count": 3,
   "metadata": {},
   "outputs": [],
   "source": [
    "def getdelAmplitudeEachWing(median_Data):\n",
    "    # plot the delta change of each wing from intact to different lengths\n",
    "    \n",
    "    # read in the guide to figure out which was the clipped wing\n",
    "    guide = pd.read_table('../dataFolder/AmplitudeAnalysis/v2/' + Exp + '/Readme_leftRightWingClipped.txt')\n",
    "    # guide.head()\n",
    "\n",
    "    flyID = []\n",
    "    deltaAmplitude = []\n",
    "    treatment = []\n",
    "    winglength = []\n",
    "\n",
    "    for name, sub_df in median_Data.groupby('flyID'):\n",
    "        clippedWing = guide.loc[guide.name == name, 'clippedWing'].values[0]\n",
    "\n",
    "        for wl, specific in sub_df.groupby('winglength'):\n",
    "            for bodypart, phew in specific.groupby('body'):\n",
    "                ref = sub_df.loc[(sub_df.winglength == 1) & (sub_df.body == bodypart),\n",
    "                                'med_amplitude'].values\n",
    "                current = phew['med_amplitude'].values\n",
    "\n",
    "                delta = current[0] - ref[0]\n",
    "\n",
    "                if bodypart == clippedWing:\n",
    "                    wingTreatment = 'clip'\n",
    "                else:\n",
    "                    wingTreatment = 'intact'\n",
    "\n",
    "                flyID.append(name)\n",
    "                deltaAmplitude.append(delta)\n",
    "                treatment.append(wingTreatment)\n",
    "                winglength.append(wl)\n",
    "\n",
    "    summary_df = pd.DataFrame({'flyID': flyID,\n",
    "                              'deltaAmplitude': deltaAmplitude,\n",
    "                              'winglength': winglength,\n",
    "                              'WingStatus': treatment})\n",
    "    return(summary_df)"
   ]
  },
  {
   "cell_type": "code",
   "execution_count": 4,
   "metadata": {},
   "outputs": [],
   "source": [
    "def getdelAmplitudeEachWing_haltere(median_Data, xvariable):\n",
    "    # plot the delta change of each wing from intact to different lengths for epi and haltere loading\n",
    "    \n",
    "    flyID = []\n",
    "    deltaAmplitude = []\n",
    "    treatment = []\n",
    "    winglength = []\n",
    "    clippedWing = \"LW\"\n",
    "\n",
    "    if xvariable == 'winglength':\n",
    "        compare = 1\n",
    "    elif xvariable == 'treatment':\n",
    "        compare = 'intacthalteres'\n",
    "        \n",
    "    for name, sub_df in median_Data.groupby('flyID'):        \n",
    "        for wl, specific in sub_df.groupby(xvariable):\n",
    "            for bodypart, phew in specific.groupby('body'):\n",
    "                ref = sub_df.loc[(sub_df[xvariable] == compare) & (sub_df.body == bodypart),\n",
    "                                'med_amplitude'].values\n",
    "                current = phew['med_amplitude'].values\n",
    "\n",
    "                delta = current[0] - ref[0]\n",
    "\n",
    "                if bodypart == clippedWing:\n",
    "                    wingTreatment = 'clip'\n",
    "                else:\n",
    "                    wingTreatment = 'intact'\n",
    "\n",
    "                flyID.append(name)\n",
    "                deltaAmplitude.append(delta)\n",
    "                treatment.append(wingTreatment)\n",
    "                winglength.append(wl)\n",
    "\n",
    "    summary_df = pd.DataFrame({'flyID': flyID,\n",
    "                              'deltaAmplitude': deltaAmplitude,\n",
    "                              'winglength': winglength,\n",
    "                              'WingStatus': treatment})\n",
    "    return(summary_df)"
   ]
  },
  {
   "cell_type": "code",
   "execution_count": 5,
   "metadata": {},
   "outputs": [],
   "source": [
    "# left - right wing amplitude\n",
    "def getdelAmplitude(median_Data, Exp, xvariable):\n",
    "    flyID = []\n",
    "    deltaAmplitude = []\n",
    "    winglength = []\n",
    "    # intactWing = []\n",
    "\n",
    "    for name, sub_df in median_Data.groupby('flyID'):\n",
    "        if (Exp == 'haltere_loading') or (Exp == 'epi_ridge_cut'):\n",
    "            clippedWing = 'LW'\n",
    "            intactWing = 'RW'\n",
    "        else:\n",
    "            # read in the guide to figure out which was the clipped wing\n",
    "            guide = pd.read_table('../dataFolder/AmplitudeAnalysis/v2/' + Exp + '/Readme_leftRightWingClipped.txt')\n",
    "            clippedWing = guide.loc[guide.name == name, 'clippedWing'].values[0]\n",
    "            if clippedWing == 'LW':\n",
    "                intactWing = 'RW'\n",
    "            else:\n",
    "                intactWing = 'LW'\n",
    "\n",
    "        for wl, specific in sub_df.groupby(xvariable):\n",
    "            clip = specific.loc[specific.body == clippedWing, 'med_amplitude'].values\n",
    "            intact = specific.loc[specific.body == intactWing, 'med_amplitude'].values\n",
    "\n",
    "\n",
    "            deltaAmp = np.median(clip - intact)\n",
    "\n",
    "            flyID.append(name)\n",
    "            deltaAmplitude.append(deltaAmp)\n",
    "            winglength.append(wl)\n",
    "\n",
    "    summary_df = pd.DataFrame({'flyID': flyID,\n",
    "                              'deltaAmplitude': deltaAmplitude,\n",
    "                              'winglength': winglength})\n",
    "    return(summary_df)"
   ]
  },
  {
   "cell_type": "markdown",
   "metadata": {},
   "source": [
    "## Compile Median Amplitude for all flies"
   ]
  },
  {
   "cell_type": "markdown",
   "metadata": {},
   "source": [
    "## Del Amplitude for each wing independently"
   ]
  },
  {
   "cell_type": "code",
   "execution_count": 6,
   "metadata": {},
   "outputs": [],
   "source": [
    "## run the different treatments"
   ]
  },
  {
   "cell_type": "code",
   "execution_count": 7,
   "metadata": {},
   "outputs": [],
   "source": [
    "Exp = 'asymmetric_wings'\n",
    "\n",
    "data = GetMedianAmplitude(Exp)\n",
    "data.to_csv('../dataFolder/AmplitudeAnalysis/v2/asymmetric_wings/median_summary.csv')"
   ]
  },
  {
   "cell_type": "code",
   "execution_count": 14,
   "metadata": {},
   "outputs": [],
   "source": [
    "# summary_df = getdelAmplitudeEachWing(data)"
   ]
  },
  {
   "cell_type": "code",
   "execution_count": null,
   "metadata": {},
   "outputs": [],
   "source": [
    "# sns.lineplot(data = summary_df,\n",
    "#              x = 'winglength', y = 'deltaAmplitude', hue = 'WingStatus'\n",
    "#              , style = 'flyID'\n",
    "#              , markers=True\n",
    "#             , dashes=False)\n",
    "# plt.legend(bbox_to_anchor=(1.05, 1), loc=2, borderaxespad=0.)\n",
    "# plt.savefig('../dataFolder/Figure/AmplitudeAnalysis/v1/Asym_wings_deltaWing.pdf',\n",
    "#            bbox_inches = 'tight')"
   ]
  },
  {
   "cell_type": "code",
   "execution_count": 8,
   "metadata": {},
   "outputs": [],
   "source": [
    "Exp = 'Slit_sc'\n",
    "\n",
    "data = GetMedianAmplitude(Exp)\n",
    "data.to_csv('../dataFolder/AmplitudeAnalysis/v2/' + Exp + '/median_summary.csv')"
   ]
  },
  {
   "cell_type": "code",
   "execution_count": 9,
   "metadata": {},
   "outputs": [
    {
     "data": {
      "text/html": [
       "<div>\n",
       "<style scoped>\n",
       "    .dataframe tbody tr th:only-of-type {\n",
       "        vertical-align: middle;\n",
       "    }\n",
       "\n",
       "    .dataframe tbody tr th {\n",
       "        vertical-align: top;\n",
       "    }\n",
       "\n",
       "    .dataframe thead th {\n",
       "        text-align: right;\n",
       "    }\n",
       "</style>\n",
       "<table border=\"1\" class=\"dataframe\">\n",
       "  <thead>\n",
       "    <tr style=\"text-align: right;\">\n",
       "      <th></th>\n",
       "      <th>flyID</th>\n",
       "      <th>body</th>\n",
       "      <th>med_amplitude</th>\n",
       "      <th>winglength</th>\n",
       "    </tr>\n",
       "  </thead>\n",
       "  <tbody>\n",
       "    <tr>\n",
       "      <td>0</td>\n",
       "      <td>fly1</td>\n",
       "      <td>LW</td>\n",
       "      <td>103.677600</td>\n",
       "      <td>0.450367</td>\n",
       "    </tr>\n",
       "    <tr>\n",
       "      <td>1</td>\n",
       "      <td>fly1</td>\n",
       "      <td>RW</td>\n",
       "      <td>96.487214</td>\n",
       "      <td>0.450367</td>\n",
       "    </tr>\n",
       "    <tr>\n",
       "      <td>2</td>\n",
       "      <td>fly1</td>\n",
       "      <td>LW</td>\n",
       "      <td>148.977524</td>\n",
       "      <td>0.617825</td>\n",
       "    </tr>\n",
       "    <tr>\n",
       "      <td>3</td>\n",
       "      <td>fly1</td>\n",
       "      <td>RW</td>\n",
       "      <td>114.640444</td>\n",
       "      <td>0.617825</td>\n",
       "    </tr>\n",
       "    <tr>\n",
       "      <td>4</td>\n",
       "      <td>fly1</td>\n",
       "      <td>LW</td>\n",
       "      <td>150.204065</td>\n",
       "      <td>0.719372</td>\n",
       "    </tr>\n",
       "  </tbody>\n",
       "</table>\n",
       "</div>"
      ],
      "text/plain": [
       "  flyID body  med_amplitude  winglength\n",
       "0  fly1   LW     103.677600    0.450367\n",
       "1  fly1   RW      96.487214    0.450367\n",
       "2  fly1   LW     148.977524    0.617825\n",
       "3  fly1   RW     114.640444    0.617825\n",
       "4  fly1   LW     150.204065    0.719372"
      ]
     },
     "execution_count": 9,
     "metadata": {},
     "output_type": "execute_result"
    }
   ],
   "source": [
    "data.head()"
   ]
  },
  {
   "cell_type": "code",
   "execution_count": null,
   "metadata": {},
   "outputs": [],
   "source": [
    "# summary = getdelAmplitude(data)\n",
    "# sns.lineplot(data = summary,\n",
    "#              x = 'winglength', y = 'deltaAmplitude', hue = 'flyID'\n",
    "#              , style = 'flyID'\n",
    "#              , markers=True\n",
    "#             , dashes=False)"
   ]
  },
  {
   "cell_type": "code",
   "execution_count": null,
   "metadata": {},
   "outputs": [],
   "source": [
    "# summary_df = getdelAmplitudeEachWing(data)\n",
    "# sns.lineplot(data = summary_df,\n",
    "#              x = 'winglength', y = 'deltaAmplitude', hue = 'WingStatus'\n",
    "#              , style = 'flyID'\n",
    "#              , markers=True\n",
    "#             , dashes=False)\n",
    "# plt.legend(bbox_to_anchor=(1.05, 1), loc=2, borderaxespad=0.)\n",
    "# plt.savefig('../dataFolder/Figure/AmplitudeAnalysis/v1/Slit_sc_deltaWing.pdf',\n",
    "#            bbox_inches = 'tight')"
   ]
  },
  {
   "cell_type": "code",
   "execution_count": 10,
   "metadata": {},
   "outputs": [],
   "source": [
    "Exp = 'epi_ridge_cut'\n",
    "\n",
    "data = GetMedianAmplitude(Exp)\n",
    "data.to_csv('../dataFolder/AmplitudeAnalysis/v2/' + Exp + '/median_summary.csv')"
   ]
  },
  {
   "cell_type": "code",
   "execution_count": 21,
   "metadata": {},
   "outputs": [
    {
     "data": {
      "text/html": [
       "<div>\n",
       "<style scoped>\n",
       "    .dataframe tbody tr th:only-of-type {\n",
       "        vertical-align: middle;\n",
       "    }\n",
       "\n",
       "    .dataframe tbody tr th {\n",
       "        vertical-align: top;\n",
       "    }\n",
       "\n",
       "    .dataframe thead th {\n",
       "        text-align: right;\n",
       "    }\n",
       "</style>\n",
       "<table border=\"1\" class=\"dataframe\">\n",
       "  <thead>\n",
       "    <tr style=\"text-align: right;\">\n",
       "      <th></th>\n",
       "      <th>flyID</th>\n",
       "      <th>body</th>\n",
       "      <th>med_amplitude</th>\n",
       "      <th>winglength</th>\n",
       "    </tr>\n",
       "  </thead>\n",
       "  <tbody>\n",
       "    <tr>\n",
       "      <td>1</td>\n",
       "      <td>fly1</td>\n",
       "      <td>LW</td>\n",
       "      <td>67.457731</td>\n",
       "      <td>0.38</td>\n",
       "    </tr>\n",
       "    <tr>\n",
       "      <td>11</td>\n",
       "      <td>fly1</td>\n",
       "      <td>RW</td>\n",
       "      <td>143.516126</td>\n",
       "      <td>0.58</td>\n",
       "    </tr>\n",
       "    <tr>\n",
       "      <td>15</td>\n",
       "      <td>fly1</td>\n",
       "      <td>RW</td>\n",
       "      <td>137.901552</td>\n",
       "      <td>0.72</td>\n",
       "    </tr>\n",
       "    <tr>\n",
       "      <td>19</td>\n",
       "      <td>fly1</td>\n",
       "      <td>RW</td>\n",
       "      <td>143.012418</td>\n",
       "      <td>0.82</td>\n",
       "    </tr>\n",
       "    <tr>\n",
       "      <td>23</td>\n",
       "      <td>fly1</td>\n",
       "      <td>RW</td>\n",
       "      <td>136.840220</td>\n",
       "      <td>1.00</td>\n",
       "    </tr>\n",
       "  </tbody>\n",
       "</table>\n",
       "</div>"
      ],
      "text/plain": [
       "   flyID body  med_amplitude  winglength\n",
       "1   fly1   LW      67.457731        0.38\n",
       "11  fly1   RW     143.516126        0.58\n",
       "15  fly1   RW     137.901552        0.72\n",
       "19  fly1   RW     143.012418        0.82\n",
       "23  fly1   RW     136.840220        1.00"
      ]
     },
     "execution_count": 21,
     "metadata": {},
     "output_type": "execute_result"
    }
   ],
   "source": [
    "# subset1 = data.loc[(data.body == 'LW') ,:]\n",
    "# subset2 = data.loc[(data.body == 'RW') ,:]\n",
    "# subset = subset1.append(subset2).sort_values(by = 'flyID', axis = 0)\n",
    "# subset.head()"
   ]
  },
  {
   "cell_type": "code",
   "execution_count": 22,
   "metadata": {},
   "outputs": [],
   "source": [
    "# summary_df = getdelAmplitudeEachWing_haltere(subset, 'winglength')"
   ]
  },
  {
   "cell_type": "code",
   "execution_count": 23,
   "metadata": {},
   "outputs": [
    {
     "data": {
      "image/png": "[encoded data removed]",
      "text/plain": [
       "<Figure size 432x288 with 1 Axes>"
      ]
     },
     "metadata": {
      "needs_background": "light"
     },
     "output_type": "display_data"
    }
   ],
   "source": [
    "# sns.lineplot(data = summary_df,\n",
    "#              x = 'winglength', y = 'deltaAmplitude', hue = 'WingStatus'\n",
    "#              , style = 'flyID'\n",
    "#              , markers=True \n",
    "#             , dashes=False)\n",
    "# plt.legend(bbox_to_anchor=(1.05, 1), loc=2, borderaxespad=0.)\n",
    "# plt.savefig('../dataFolder/Figure/AmplitudeAnalysis/v1/epi_ridge_cut_deltaWing.pdf',\n",
    "#            bbox_inches = 'tight')"
   ]
  },
  {
   "cell_type": "code",
   "execution_count": 11,
   "metadata": {},
   "outputs": [],
   "source": [
    "Exp = 'haltere_loading'\n",
    "\n",
    "data = GetMedianAmplitude(Exp)\n",
    "data.to_csv('../dataFolder/AmplitudeAnalysis/v2/' + Exp + '/median_summary.csv')"
   ]
  },
  {
   "cell_type": "code",
   "execution_count": 19,
   "metadata": {},
   "outputs": [],
   "source": [
    "# subset1 = data.loc[(data.body == 'LW') ,:]\n",
    "# subset2 = data.loc[(data.body == 'RW') ,:]\n",
    "# subset = subset1.append(subset2).sort_values(by = 'flyID', axis = 0)\n",
    "# subset = subset.rename(columns = {'winglength' : 'treatment'})\n",
    "# subset.head()"
   ]
  },
  {
   "cell_type": "code",
   "execution_count": 20,
   "metadata": {},
   "outputs": [],
   "source": [
    "# summary_df = getdelAmplitudeEachWing_haltere(subset, 'treatment')"
   ]
  },
  {
   "cell_type": "code",
   "execution_count": 21,
   "metadata": {},
   "outputs": [],
   "source": [
    "# sns.lineplot(data = summary_df,\n",
    "#              x = 'winglength', y = 'deltaAmplitude', hue = 'WingStatus'\n",
    "# #               \n",
    "#              , style = 'flyID'\n",
    "#              , markers=True\n",
    "#             , dashes=False)\n",
    "# plt.legend(bbox_to_anchor=(1.05, 1), loc=2, borderaxespad=0.)\n",
    "# plt.savefig('../dataFolder/Figure/AmplitudeAnalysis/v1/haltere_loading_deltaWing.pdf',\n",
    "#            bbox_inches = 'tight')"
   ]
  },
  {
   "cell_type": "markdown",
   "metadata": {},
   "source": [
    "## Delta Amplitude between L-R wings"
   ]
  },
  {
   "cell_type": "code",
   "execution_count": null,
   "metadata": {},
   "outputs": [],
   "source": [
    "Exp = 'asymmetric_wings'\n",
    "\n",
    "data = GetMedianAmplitude(Exp)\n",
    "data.head()"
   ]
  },
  {
   "cell_type": "code",
   "execution_count": null,
   "metadata": {},
   "outputs": [],
   "source": [
    "# plot the delta L-R wing amplitude as a function of winglength\n",
    "summary = getdelAmplitude(data, Exp, 'winglength')\n",
    "sns.lineplot(data = summary,\n",
    "             x = 'winglength', y = 'deltaAmplitude', hue = 'flyID'\n",
    "             , style = 'flyID'\n",
    "             , markers=True\n",
    "            , dashes=False)\n",
    "plt.legend(bbox_to_anchor=(1.05, 1), loc=2, borderaxespad=0.)\n",
    "plt.savefig('../dataFolder/Figure/AmplitudeAnalysis/v1/' + Exp + '_deltaL_R.pdf',\n",
    "           bbox_inches = 'tight')"
   ]
  },
  {
   "cell_type": "code",
   "execution_count": null,
   "metadata": {},
   "outputs": [],
   "source": [
    "Exp = 'Slit_sc'\n",
    "\n",
    "data = GetMedianAmplitude(Exp)\n",
    "data.head()"
   ]
  },
  {
   "cell_type": "code",
   "execution_count": null,
   "metadata": {},
   "outputs": [],
   "source": [
    "# plot the delta L-R wing amplitude as a function of winglength\n",
    "summary = getdelAmplitude(data, Exp, 'winglength')\n",
    "sns.lineplot(data = summary,\n",
    "             x = 'winglength', y = 'deltaAmplitude', hue = 'flyID'\n",
    "             , style = 'flyID'\n",
    "             , markers=True\n",
    "            , dashes=False)\n",
    "plt.legend(bbox_to_anchor=(1.05, 1), loc=2, borderaxespad=0.)\n",
    "plt.savefig('../dataFolder/Figure/AmplitudeAnalysis/v1/' + Exp + '_deltaL_R.pdf',\n",
    "           bbox_inches = 'tight')"
   ]
  },
  {
   "cell_type": "code",
   "execution_count": 24,
   "metadata": {},
   "outputs": [
    {
     "data": {
      "text/html": [
       "<div>\n",
       "<style scoped>\n",
       "    .dataframe tbody tr th:only-of-type {\n",
       "        vertical-align: middle;\n",
       "    }\n",
       "\n",
       "    .dataframe tbody tr th {\n",
       "        vertical-align: top;\n",
       "    }\n",
       "\n",
       "    .dataframe thead th {\n",
       "        text-align: right;\n",
       "    }\n",
       "</style>\n",
       "<table border=\"1\" class=\"dataframe\">\n",
       "  <thead>\n",
       "    <tr style=\"text-align: right;\">\n",
       "      <th></th>\n",
       "      <th>flyID</th>\n",
       "      <th>body</th>\n",
       "      <th>med_amplitude</th>\n",
       "      <th>winglength</th>\n",
       "    </tr>\n",
       "  </thead>\n",
       "  <tbody>\n",
       "    <tr>\n",
       "      <td>0</td>\n",
       "      <td>fly1</td>\n",
       "      <td>LH</td>\n",
       "      <td>123.092827</td>\n",
       "      <td>0.38</td>\n",
       "    </tr>\n",
       "    <tr>\n",
       "      <td>1</td>\n",
       "      <td>fly1</td>\n",
       "      <td>LW</td>\n",
       "      <td>67.457731</td>\n",
       "      <td>0.38</td>\n",
       "    </tr>\n",
       "    <tr>\n",
       "      <td>2</td>\n",
       "      <td>fly1</td>\n",
       "      <td>RH</td>\n",
       "      <td>123.358511</td>\n",
       "      <td>0.38</td>\n",
       "    </tr>\n",
       "    <tr>\n",
       "      <td>3</td>\n",
       "      <td>fly1</td>\n",
       "      <td>RW</td>\n",
       "      <td>107.727884</td>\n",
       "      <td>0.38</td>\n",
       "    </tr>\n",
       "    <tr>\n",
       "      <td>4</td>\n",
       "      <td>fly1</td>\n",
       "      <td>LH</td>\n",
       "      <td>145.689576</td>\n",
       "      <td>0.50</td>\n",
       "    </tr>\n",
       "  </tbody>\n",
       "</table>\n",
       "</div>"
      ],
      "text/plain": [
       "  flyID body  med_amplitude  winglength\n",
       "0  fly1   LH     123.092827        0.38\n",
       "1  fly1   LW      67.457731        0.38\n",
       "2  fly1   RH     123.358511        0.38\n",
       "3  fly1   RW     107.727884        0.38\n",
       "4  fly1   LH     145.689576        0.50"
      ]
     },
     "execution_count": 24,
     "metadata": {},
     "output_type": "execute_result"
    }
   ],
   "source": [
    "Exp = 'epi_ridge_cut'\n",
    "\n",
    "data = GetMedianAmplitude(Exp)\n",
    "data.head()"
   ]
  },
  {
   "cell_type": "code",
   "execution_count": 25,
   "metadata": {},
   "outputs": [
    {
     "data": {
      "image/png": "[encoded data removed]",
      "text/plain": [
       "<Figure size 432x288 with 1 Axes>"
      ]
     },
     "metadata": {
      "needs_background": "light"
     },
     "output_type": "display_data"
    }
   ],
   "source": [
    "# plot the delta L-R wing amplitude as a function of winglength\n",
    "summary = getdelAmplitude(data, Exp, 'winglength')\n",
    "sns.lineplot(data = summary,\n",
    "             x = 'winglength', y = 'deltaAmplitude', hue = 'flyID'\n",
    "             , style = 'flyID'\n",
    "             , markers=True\n",
    "            , dashes=False)\n",
    "plt.legend(bbox_to_anchor=(1.05, 1), loc=2, borderaxespad=0.)\n",
    "plt.savefig('../dataFolder/Figure/AmplitudeAnalysis/v1/' + Exp + '_deltaL_R.pdf',\n",
    "           bbox_inches = 'tight')"
   ]
  },
  {
   "cell_type": "code",
   "execution_count": 26,
   "metadata": {},
   "outputs": [
    {
     "data": {
      "text/html": [
       "<div>\n",
       "<style scoped>\n",
       "    .dataframe tbody tr th:only-of-type {\n",
       "        vertical-align: middle;\n",
       "    }\n",
       "\n",
       "    .dataframe tbody tr th {\n",
       "        vertical-align: top;\n",
       "    }\n",
       "\n",
       "    .dataframe thead th {\n",
       "        text-align: right;\n",
       "    }\n",
       "</style>\n",
       "<table border=\"1\" class=\"dataframe\">\n",
       "  <thead>\n",
       "    <tr style=\"text-align: right;\">\n",
       "      <th></th>\n",
       "      <th>flyID</th>\n",
       "      <th>body</th>\n",
       "      <th>med_amplitude</th>\n",
       "      <th>winglength</th>\n",
       "    </tr>\n",
       "  </thead>\n",
       "  <tbody>\n",
       "    <tr>\n",
       "      <td>0</td>\n",
       "      <td>fly1</td>\n",
       "      <td>LH</td>\n",
       "      <td>149.877798</td>\n",
       "      <td>intacthalteres</td>\n",
       "    </tr>\n",
       "    <tr>\n",
       "      <td>1</td>\n",
       "      <td>fly1</td>\n",
       "      <td>LW</td>\n",
       "      <td>143.449808</td>\n",
       "      <td>intacthalteres</td>\n",
       "    </tr>\n",
       "    <tr>\n",
       "      <td>2</td>\n",
       "      <td>fly1</td>\n",
       "      <td>RH</td>\n",
       "      <td>144.618297</td>\n",
       "      <td>intacthalteres</td>\n",
       "    </tr>\n",
       "    <tr>\n",
       "      <td>3</td>\n",
       "      <td>fly1</td>\n",
       "      <td>RW</td>\n",
       "      <td>156.706477</td>\n",
       "      <td>intacthalteres</td>\n",
       "    </tr>\n",
       "    <tr>\n",
       "      <td>4</td>\n",
       "      <td>fly1</td>\n",
       "      <td>LH</td>\n",
       "      <td>144.068284</td>\n",
       "      <td>loadedhaltere1</td>\n",
       "    </tr>\n",
       "  </tbody>\n",
       "</table>\n",
       "</div>"
      ],
      "text/plain": [
       "  flyID body  med_amplitude      winglength\n",
       "0  fly1   LH     149.877798  intacthalteres\n",
       "1  fly1   LW     143.449808  intacthalteres\n",
       "2  fly1   RH     144.618297  intacthalteres\n",
       "3  fly1   RW     156.706477  intacthalteres\n",
       "4  fly1   LH     144.068284  loadedhaltere1"
      ]
     },
     "execution_count": 26,
     "metadata": {},
     "output_type": "execute_result"
    }
   ],
   "source": [
    "Exp = 'haltere_loading'\n",
    "\n",
    "data = GetMedianAmplitude(Exp)\n",
    "data.head()"
   ]
  },
  {
   "cell_type": "code",
   "execution_count": 27,
   "metadata": {},
   "outputs": [
    {
     "data": {
      "image/png": "[encoded data removed]",
      "text/plain": [
       "<Figure size 432x288 with 1 Axes>"
      ]
     },
     "metadata": {
      "needs_background": "light"
     },
     "output_type": "display_data"
    }
   ],
   "source": [
    "# plot the delta L-R wing amplitude as a function of winglength\n",
    "summary = getdelAmplitude(data, Exp, 'winglength')\n",
    "sns.lineplot(data = summary,\n",
    "             x = 'winglength', y = 'deltaAmplitude', hue = 'flyID'\n",
    "             , style = 'flyID'\n",
    "             , markers=True\n",
    "            , dashes=False)\n",
    "plt.legend(bbox_to_anchor=(1.05, 1), loc=2, borderaxespad=0.)\n",
    "plt.savefig('../dataFolder/Figure/AmplitudeAnalysis/v1/' + Exp + '_deltaL_R.pdf',\n",
    "           bbox_inches = 'tight')"
   ]
  },
  {
   "cell_type": "code",
   "execution_count": null,
   "metadata": {},
   "outputs": [],
   "source": []
  }
 ],
 "metadata": {
  "kernelspec": {
   "display_name": "Python 3",
   "language": "python",
   "name": "python3"
  },
  "language_info": {
   "codemirror_mode": {
    "name": "ipython",
    "version": 3
   },
   "file_extension": ".py",
   "mimetype": "text/x-python",
   "name": "python",
   "nbconvert_exporter": "python",
   "pygments_lexer": "ipython3",
   "version": "3.6.5"
  }
 },
 "nbformat": 4,
 "nbformat_minor": 2
}
