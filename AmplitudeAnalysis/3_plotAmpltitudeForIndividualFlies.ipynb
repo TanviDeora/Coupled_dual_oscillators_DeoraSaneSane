{
 "cells": [
  {
   "cell_type": "code",
   "execution_count": 1,
   "metadata": {},
   "outputs": [],
   "source": [
    "import pandas as pd\n",
    "import numpy as np\n",
    "import glob\n",
    "import os\n",
    "import matplotlib.pyplot as plt"
   ]
  },
  {
   "cell_type": "markdown",
   "metadata": {},
   "source": [
    "# plot the DATA!"
   ]
  },
  {
   "cell_type": "code",
   "execution_count": 2,
   "metadata": {},
   "outputs": [],
   "source": [
    "def plotIndividual(df, ax, o, var1):\n",
    "    import seaborn as sns\n",
    "    sns.set(font_scale=2)\n",
    "    \n",
    "#     if Exp == 'haltere_loading':\n",
    "#         order = ['intacthalteres', 'loadedhaltere1', 'loadedhaltere2', 'loadedhaltere3', 'removedload']\n",
    "#     else:\n",
    "#         order = ['cutwing5', 'cutwing4', 'cutwing3',  'cutwing2', 'cutwing1', 'intactwings']\n",
    "\n",
    "    g = sns.boxplot(x=var1, y=\"amplitude\", hue=\"body\", data=df, \n",
    "                    order=o,\n",
    "                    fliersize=0,\n",
    "                    **boxplot_kwargs,\n",
    "                    ax = ax\n",
    "                    )\n",
    "    g = sns.stripplot(x=var1, y=\"amplitude\", hue=\"body\", data=df, \n",
    "                  dodge=True,\n",
    "                  order=o,\n",
    "                  ax = ax,\n",
    "                  **stripplot_kwargs)\n",
    "                  \n",
    "    g.set(xlabel='', ylabel='Amplitude (degree)')\n",
    "    plt.legend(bbox_to_anchor=(1.05, 1), loc=2, borderaxespad=0.)"
   ]
  },
  {
   "cell_type": "code",
   "execution_count": 3,
   "metadata": {},
   "outputs": [],
   "source": [
    "pal = {'left wing': '#b8e186', #light green\n",
    "       'right wing': '#4dac26', #dark green\n",
    "       'left haltere': '#fdb863', #light brown\n",
    "       'right haltere': '#e66101' #dark brown\n",
    "      }\n",
    "\n",
    "boxprops = {'edgecolor': 'k', 'linewidth': 2,'alpha': 0.5}\n",
    "lineprops = {'color': 'k', 'linewidth': 2}\n",
    "capprops = {'linewidth': 0}\n",
    "\n",
    "# Set up some general kwargs that we'll use in both the stripplot and boxplot\n",
    "kwargs = {'palette': pal, 'hue_order': ['left wing', 'right wing', 'left haltere', 'right haltere']}\n",
    "\n",
    "# The boxplot kwargs get passed to matplotlib's boxplot function.\n",
    "# Note how we can re-use our lineprops dict to make sure all the lines\n",
    "# match. You could also edit each line type (e.g. whiskers, caps, etc)\n",
    "# separately.\n",
    "boxplot_kwargs = dict({'boxprops': boxprops, 'medianprops': lineprops,\n",
    "                       'whiskerprops': lineprops, 'capprops': capprops,\n",
    "                       'width': 0.75},\n",
    "                      **kwargs)\n",
    "stripplot_kwargs = dict({'linewidth': 0.6, 'size': 6, 'alpha': 0.7},\n",
    "                        **kwargs)"
   ]
  },
  {
   "cell_type": "markdown",
   "metadata": {},
   "source": [
    "## haltere loading"
   ]
  },
  {
   "cell_type": "code",
   "execution_count": 4,
   "metadata": {},
   "outputs": [],
   "source": [
    "Exp = 'haltere_loading'"
   ]
  },
  {
   "cell_type": "code",
   "execution_count": 5,
   "metadata": {},
   "outputs": [],
   "source": [
    "am_list = glob.glob('../dataFolder/AmplitudeAnalysis/v2/' + Exp + '/fly*_AmpDataCompiled.csv')"
   ]
  },
  {
   "cell_type": "code",
   "execution_count": 6,
   "metadata": {},
   "outputs": [
    {
     "data": {
      "text/html": [
       "<div>\n",
       "<style scoped>\n",
       "    .dataframe tbody tr th:only-of-type {\n",
       "        vertical-align: middle;\n",
       "    }\n",
       "\n",
       "    .dataframe tbody tr th {\n",
       "        vertical-align: top;\n",
       "    }\n",
       "\n",
       "    .dataframe thead th {\n",
       "        text-align: right;\n",
       "    }\n",
       "</style>\n",
       "<table border=\"1\" class=\"dataframe\">\n",
       "  <thead>\n",
       "    <tr style=\"text-align: right;\">\n",
       "      <th></th>\n",
       "      <th>Unnamed: 0</th>\n",
       "      <th>body</th>\n",
       "      <th>amplitude</th>\n",
       "      <th>flyID</th>\n",
       "      <th>experiment</th>\n",
       "      <th>treatment</th>\n",
       "    </tr>\n",
       "  </thead>\n",
       "  <tbody>\n",
       "    <tr>\n",
       "      <td>0</td>\n",
       "      <td>0</td>\n",
       "      <td>LW</td>\n",
       "      <td>160.891691</td>\n",
       "      <td>fly1</td>\n",
       "      <td>halLoad</td>\n",
       "      <td>intacthalteres</td>\n",
       "    </tr>\n",
       "    <tr>\n",
       "      <td>1</td>\n",
       "      <td>1</td>\n",
       "      <td>LW</td>\n",
       "      <td>156.949047</td>\n",
       "      <td>fly1</td>\n",
       "      <td>halLoad</td>\n",
       "      <td>intacthalteres</td>\n",
       "    </tr>\n",
       "    <tr>\n",
       "      <td>2</td>\n",
       "      <td>2</td>\n",
       "      <td>LW</td>\n",
       "      <td>157.513086</td>\n",
       "      <td>fly1</td>\n",
       "      <td>halLoad</td>\n",
       "      <td>intacthalteres</td>\n",
       "    </tr>\n",
       "    <tr>\n",
       "      <td>3</td>\n",
       "      <td>3</td>\n",
       "      <td>LW</td>\n",
       "      <td>156.536839</td>\n",
       "      <td>fly1</td>\n",
       "      <td>halLoad</td>\n",
       "      <td>intacthalteres</td>\n",
       "    </tr>\n",
       "    <tr>\n",
       "      <td>4</td>\n",
       "      <td>4</td>\n",
       "      <td>LW</td>\n",
       "      <td>163.698372</td>\n",
       "      <td>fly1</td>\n",
       "      <td>halLoad</td>\n",
       "      <td>intacthalteres</td>\n",
       "    </tr>\n",
       "  </tbody>\n",
       "</table>\n",
       "</div>"
      ],
      "text/plain": [
       "   Unnamed: 0 body   amplitude flyID experiment       treatment\n",
       "0           0   LW  160.891691  fly1    halLoad  intacthalteres\n",
       "1           1   LW  156.949047  fly1    halLoad  intacthalteres\n",
       "2           2   LW  157.513086  fly1    halLoad  intacthalteres\n",
       "3           3   LW  156.536839  fly1    halLoad  intacthalteres\n",
       "4           4   LW  163.698372  fly1    halLoad  intacthalteres"
      ]
     },
     "execution_count": 6,
     "metadata": {},
     "output_type": "execute_result"
    }
   ],
   "source": [
    "df = pd.read_csv(am_list[0])\n",
    "df.head()"
   ]
  },
  {
   "cell_type": "code",
   "execution_count": 7,
   "metadata": {},
   "outputs": [
    {
     "data": {
      "image/png": "[encoded data removed]",
      "text/plain": [
       "<Figure size 1440x720 with 1 Axes>"
      ]
     },
     "metadata": {
      "needs_background": "light"
     },
     "output_type": "display_data"
    }
   ],
   "source": [
    "fig, ax = plt.subplots(figsize = (20, 10))\n",
    "\n",
    "for f in am_list:\n",
    "    df = pd.read_csv(f)\n",
    "    flyID, _ = os.path.basename(f).split('_', 1)\n",
    "    \n",
    "    df['body'] = df['body'].replace({'LW':'left wing',\n",
    "                    'RW':'right wing',\n",
    "                   'LH': 'left haltere',\n",
    "                   'RH': 'right haltere'})\n",
    "    order = ['intacthalteres', 'loadedhaltere1', 'loadedhaltere2', 'loadedhaltere3', 'removedload']\n",
    "    plotIndividual(df, ax, order, 'treatment')\n",
    "    fig.savefig('../dataFolder/Figure/AmplitudeAnalysis/v2/' + Exp + '/IndividualAmpltitude_' + flyID + '.pdf',\n",
    "                bbox_inches = 'tight')\n",
    "    ax.clear()"
   ]
  },
  {
   "cell_type": "markdown",
   "metadata": {},
   "source": [
    "## Epi ridge data"
   ]
  },
  {
   "cell_type": "code",
   "execution_count": 8,
   "metadata": {},
   "outputs": [],
   "source": [
    "Exp = 'epi_ridge_cut'\n",
    "am_list = glob.glob('../dataFolder/AmplitudeAnalysis/v2/' + Exp + '/fly*_AmpDataCompiled.csv')"
   ]
  },
  {
   "cell_type": "code",
   "execution_count": 9,
   "metadata": {},
   "outputs": [
    {
     "data": {
      "text/html": [
       "<div>\n",
       "<style scoped>\n",
       "    .dataframe tbody tr th:only-of-type {\n",
       "        vertical-align: middle;\n",
       "    }\n",
       "\n",
       "    .dataframe tbody tr th {\n",
       "        vertical-align: top;\n",
       "    }\n",
       "\n",
       "    .dataframe thead th {\n",
       "        text-align: right;\n",
       "    }\n",
       "</style>\n",
       "<table border=\"1\" class=\"dataframe\">\n",
       "  <thead>\n",
       "    <tr style=\"text-align: right;\">\n",
       "      <th></th>\n",
       "      <th>Unnamed: 0</th>\n",
       "      <th>Unnamed: 0.1</th>\n",
       "      <th>body</th>\n",
       "      <th>amplitude</th>\n",
       "      <th>flyID</th>\n",
       "      <th>experiment</th>\n",
       "      <th>treatment</th>\n",
       "      <th>winglength</th>\n",
       "    </tr>\n",
       "  </thead>\n",
       "  <tbody>\n",
       "    <tr>\n",
       "      <td>0</td>\n",
       "      <td>0</td>\n",
       "      <td>0</td>\n",
       "      <td>LW</td>\n",
       "      <td>123.878042</td>\n",
       "      <td>fly1</td>\n",
       "      <td>epi</td>\n",
       "      <td>cutwing1</td>\n",
       "      <td>0.82</td>\n",
       "    </tr>\n",
       "    <tr>\n",
       "      <td>1</td>\n",
       "      <td>1</td>\n",
       "      <td>1</td>\n",
       "      <td>LW</td>\n",
       "      <td>130.424716</td>\n",
       "      <td>fly1</td>\n",
       "      <td>epi</td>\n",
       "      <td>cutwing1</td>\n",
       "      <td>0.82</td>\n",
       "    </tr>\n",
       "    <tr>\n",
       "      <td>2</td>\n",
       "      <td>2</td>\n",
       "      <td>2</td>\n",
       "      <td>LW</td>\n",
       "      <td>129.254658</td>\n",
       "      <td>fly1</td>\n",
       "      <td>epi</td>\n",
       "      <td>cutwing1</td>\n",
       "      <td>0.82</td>\n",
       "    </tr>\n",
       "    <tr>\n",
       "      <td>3</td>\n",
       "      <td>3</td>\n",
       "      <td>3</td>\n",
       "      <td>LW</td>\n",
       "      <td>129.843487</td>\n",
       "      <td>fly1</td>\n",
       "      <td>epi</td>\n",
       "      <td>cutwing1</td>\n",
       "      <td>0.82</td>\n",
       "    </tr>\n",
       "    <tr>\n",
       "      <td>4</td>\n",
       "      <td>4</td>\n",
       "      <td>4</td>\n",
       "      <td>LW</td>\n",
       "      <td>120.911644</td>\n",
       "      <td>fly1</td>\n",
       "      <td>epi</td>\n",
       "      <td>cutwing1</td>\n",
       "      <td>0.82</td>\n",
       "    </tr>\n",
       "  </tbody>\n",
       "</table>\n",
       "</div>"
      ],
      "text/plain": [
       "   Unnamed: 0  Unnamed: 0.1 body   amplitude flyID experiment treatment  \\\n",
       "0           0             0   LW  123.878042  fly1        epi  cutwing1   \n",
       "1           1             1   LW  130.424716  fly1        epi  cutwing1   \n",
       "2           2             2   LW  129.254658  fly1        epi  cutwing1   \n",
       "3           3             3   LW  129.843487  fly1        epi  cutwing1   \n",
       "4           4             4   LW  120.911644  fly1        epi  cutwing1   \n",
       "\n",
       "   winglength  \n",
       "0        0.82  \n",
       "1        0.82  \n",
       "2        0.82  \n",
       "3        0.82  \n",
       "4        0.82  "
      ]
     },
     "execution_count": 9,
     "metadata": {},
     "output_type": "execute_result"
    }
   ],
   "source": [
    "df = pd.read_csv(am_list[0])\n",
    "df.head()"
   ]
  },
  {
   "cell_type": "code",
   "execution_count": 10,
   "metadata": {
    "scrolled": true
   },
   "outputs": [
    {
     "data": {
      "image/png": "[encoded data removed]",
      "text/plain": [
       "<Figure size 1440x720 with 1 Axes>"
      ]
     },
     "metadata": {},
     "output_type": "display_data"
    }
   ],
   "source": [
    "fig, ax = plt.subplots(figsize = (20, 10))\n",
    "\n",
    "for f in am_list:\n",
    "    df = pd.read_csv(f)\n",
    "    flyID, _ = os.path.basename(f).split('_', 1)\n",
    "    \n",
    "    df['body'] = df['body'].replace({'LW':'left wing',\n",
    "                    'RW':'right wing',\n",
    "                   'LH': 'left haltere',\n",
    "                   'RH': 'right haltere'})\n",
    "      \n",
    "    order = sorted(df.winglength.unique())\n",
    "    plotIndividual(df, ax, order, 'winglength')\n",
    "    fig.savefig('../dataFolder/Figure/AmplitudeAnalysis/v2/' + Exp + '/IndividualAmpltitude_' + flyID + '.pdf',\n",
    "               bbox_inches = 'tight')\n",
    "    ax.clear()"
   ]
  },
  {
   "cell_type": "markdown",
   "metadata": {},
   "source": [
    "## Slit Sc"
   ]
  },
  {
   "cell_type": "code",
   "execution_count": 11,
   "metadata": {},
   "outputs": [],
   "source": [
    "Exp = 'Slit_sc'\n",
    "am_list = glob.glob('../dataFolder/AmplitudeAnalysis/v2/' + Exp + '/fly*_AmpDataCompiled.csv')"
   ]
  },
  {
   "cell_type": "code",
   "execution_count": 12,
   "metadata": {},
   "outputs": [
    {
     "data": {
      "text/html": [
       "<div>\n",
       "<style scoped>\n",
       "    .dataframe tbody tr th:only-of-type {\n",
       "        vertical-align: middle;\n",
       "    }\n",
       "\n",
       "    .dataframe tbody tr th {\n",
       "        vertical-align: top;\n",
       "    }\n",
       "\n",
       "    .dataframe thead th {\n",
       "        text-align: right;\n",
       "    }\n",
       "</style>\n",
       "<table border=\"1\" class=\"dataframe\">\n",
       "  <thead>\n",
       "    <tr style=\"text-align: right;\">\n",
       "      <th></th>\n",
       "      <th>Unnamed: 0</th>\n",
       "      <th>Unnamed: 0.1</th>\n",
       "      <th>body</th>\n",
       "      <th>amplitude</th>\n",
       "      <th>flyID</th>\n",
       "      <th>experiment</th>\n",
       "      <th>treatment</th>\n",
       "      <th>winglength</th>\n",
       "    </tr>\n",
       "  </thead>\n",
       "  <tbody>\n",
       "    <tr>\n",
       "      <td>0</td>\n",
       "      <td>0</td>\n",
       "      <td>0</td>\n",
       "      <td>LW</td>\n",
       "      <td>165.147680</td>\n",
       "      <td>fly1</td>\n",
       "      <td>sc</td>\n",
       "      <td>cutwing1</td>\n",
       "      <td>0.719372</td>\n",
       "    </tr>\n",
       "    <tr>\n",
       "      <td>1</td>\n",
       "      <td>1</td>\n",
       "      <td>1</td>\n",
       "      <td>LW</td>\n",
       "      <td>175.922602</td>\n",
       "      <td>fly1</td>\n",
       "      <td>sc</td>\n",
       "      <td>cutwing1</td>\n",
       "      <td>0.719372</td>\n",
       "    </tr>\n",
       "    <tr>\n",
       "      <td>2</td>\n",
       "      <td>2</td>\n",
       "      <td>2</td>\n",
       "      <td>LW</td>\n",
       "      <td>177.831563</td>\n",
       "      <td>fly1</td>\n",
       "      <td>sc</td>\n",
       "      <td>cutwing1</td>\n",
       "      <td>0.719372</td>\n",
       "    </tr>\n",
       "    <tr>\n",
       "      <td>3</td>\n",
       "      <td>3</td>\n",
       "      <td>3</td>\n",
       "      <td>LW</td>\n",
       "      <td>166.982474</td>\n",
       "      <td>fly1</td>\n",
       "      <td>sc</td>\n",
       "      <td>cutwing1</td>\n",
       "      <td>0.719372</td>\n",
       "    </tr>\n",
       "    <tr>\n",
       "      <td>4</td>\n",
       "      <td>4</td>\n",
       "      <td>4</td>\n",
       "      <td>LW</td>\n",
       "      <td>147.339696</td>\n",
       "      <td>fly1</td>\n",
       "      <td>sc</td>\n",
       "      <td>cutwing1</td>\n",
       "      <td>0.719372</td>\n",
       "    </tr>\n",
       "  </tbody>\n",
       "</table>\n",
       "</div>"
      ],
      "text/plain": [
       "   Unnamed: 0  Unnamed: 0.1 body   amplitude flyID experiment treatment  \\\n",
       "0           0             0   LW  165.147680  fly1         sc  cutwing1   \n",
       "1           1             1   LW  175.922602  fly1         sc  cutwing1   \n",
       "2           2             2   LW  177.831563  fly1         sc  cutwing1   \n",
       "3           3             3   LW  166.982474  fly1         sc  cutwing1   \n",
       "4           4             4   LW  147.339696  fly1         sc  cutwing1   \n",
       "\n",
       "   winglength  \n",
       "0    0.719372  \n",
       "1    0.719372  \n",
       "2    0.719372  \n",
       "3    0.719372  \n",
       "4    0.719372  "
      ]
     },
     "execution_count": 12,
     "metadata": {},
     "output_type": "execute_result"
    }
   ],
   "source": [
    "df = pd.read_csv(am_list[0])\n",
    "df.head()"
   ]
  },
  {
   "cell_type": "code",
   "execution_count": 13,
   "metadata": {
    "scrolled": true
   },
   "outputs": [
    {
     "data": {
      "image/png": "[encoded data removed]",
      "text/plain": [
       "<Figure size 1440x720 with 1 Axes>"
      ]
     },
     "metadata": {},
     "output_type": "display_data"
    }
   ],
   "source": [
    "fig, ax = plt.subplots(figsize = (20, 10))\n",
    "\n",
    "for f in am_list:\n",
    "    df = pd.read_csv(f)\n",
    "    flyID, _ = os.path.basename(f).split('_', 1)\n",
    "    \n",
    "    df['body'] = df['body'].replace({'LW':'left wing',\n",
    "                    'RW':'right wing'})\n",
    "      \n",
    "    order = sorted(df.winglength.unique())\n",
    "    plotIndividual(df, ax, order, 'winglength')\n",
    "    fig.savefig('../dataFolder/Figure/AmplitudeAnalysis/v2/' + Exp + '/IndividualAmpltitude_' + flyID + '.pdf',\n",
    "               bbox_inches = 'tight')\n",
    "    ax.clear()"
   ]
  },
  {
   "cell_type": "markdown",
   "metadata": {},
   "source": [
    "## asymmetric_wings"
   ]
  },
  {
   "cell_type": "code",
   "execution_count": 14,
   "metadata": {},
   "outputs": [],
   "source": [
    "Exp = 'asymmetric_wings'\n",
    "am_list = glob.glob('../dataFolder/AmplitudeAnalysis/v2/' + Exp + '/fly*_AmpDataCompiled.csv')"
   ]
  },
  {
   "cell_type": "code",
   "execution_count": 15,
   "metadata": {},
   "outputs": [
    {
     "data": {
      "text/html": [
       "<div>\n",
       "<style scoped>\n",
       "    .dataframe tbody tr th:only-of-type {\n",
       "        vertical-align: middle;\n",
       "    }\n",
       "\n",
       "    .dataframe tbody tr th {\n",
       "        vertical-align: top;\n",
       "    }\n",
       "\n",
       "    .dataframe thead th {\n",
       "        text-align: right;\n",
       "    }\n",
       "</style>\n",
       "<table border=\"1\" class=\"dataframe\">\n",
       "  <thead>\n",
       "    <tr style=\"text-align: right;\">\n",
       "      <th></th>\n",
       "      <th>Unnamed: 0</th>\n",
       "      <th>Unnamed: 0.1</th>\n",
       "      <th>body</th>\n",
       "      <th>amplitude</th>\n",
       "      <th>flyID</th>\n",
       "      <th>experiment</th>\n",
       "      <th>treatment</th>\n",
       "      <th>winglength</th>\n",
       "    </tr>\n",
       "  </thead>\n",
       "  <tbody>\n",
       "    <tr>\n",
       "      <td>0</td>\n",
       "      <td>0</td>\n",
       "      <td>0</td>\n",
       "      <td>LW</td>\n",
       "      <td>124.826119</td>\n",
       "      <td>fly1</td>\n",
       "      <td>asym</td>\n",
       "      <td>cutwing1</td>\n",
       "      <td>0.821102</td>\n",
       "    </tr>\n",
       "    <tr>\n",
       "      <td>1</td>\n",
       "      <td>1</td>\n",
       "      <td>1</td>\n",
       "      <td>LW</td>\n",
       "      <td>124.222012</td>\n",
       "      <td>fly1</td>\n",
       "      <td>asym</td>\n",
       "      <td>cutwing1</td>\n",
       "      <td>0.821102</td>\n",
       "    </tr>\n",
       "    <tr>\n",
       "      <td>2</td>\n",
       "      <td>2</td>\n",
       "      <td>2</td>\n",
       "      <td>LW</td>\n",
       "      <td>130.476163</td>\n",
       "      <td>fly1</td>\n",
       "      <td>asym</td>\n",
       "      <td>cutwing1</td>\n",
       "      <td>0.821102</td>\n",
       "    </tr>\n",
       "    <tr>\n",
       "      <td>3</td>\n",
       "      <td>3</td>\n",
       "      <td>3</td>\n",
       "      <td>LW</td>\n",
       "      <td>124.713235</td>\n",
       "      <td>fly1</td>\n",
       "      <td>asym</td>\n",
       "      <td>cutwing1</td>\n",
       "      <td>0.821102</td>\n",
       "    </tr>\n",
       "    <tr>\n",
       "      <td>4</td>\n",
       "      <td>4</td>\n",
       "      <td>4</td>\n",
       "      <td>LW</td>\n",
       "      <td>124.917476</td>\n",
       "      <td>fly1</td>\n",
       "      <td>asym</td>\n",
       "      <td>cutwing1</td>\n",
       "      <td>0.821102</td>\n",
       "    </tr>\n",
       "  </tbody>\n",
       "</table>\n",
       "</div>"
      ],
      "text/plain": [
       "   Unnamed: 0  Unnamed: 0.1 body   amplitude flyID experiment treatment  \\\n",
       "0           0             0   LW  124.826119  fly1       asym  cutwing1   \n",
       "1           1             1   LW  124.222012  fly1       asym  cutwing1   \n",
       "2           2             2   LW  130.476163  fly1       asym  cutwing1   \n",
       "3           3             3   LW  124.713235  fly1       asym  cutwing1   \n",
       "4           4             4   LW  124.917476  fly1       asym  cutwing1   \n",
       "\n",
       "   winglength  \n",
       "0    0.821102  \n",
       "1    0.821102  \n",
       "2    0.821102  \n",
       "3    0.821102  \n",
       "4    0.821102  "
      ]
     },
     "execution_count": 15,
     "metadata": {},
     "output_type": "execute_result"
    }
   ],
   "source": [
    "df = pd.read_csv(am_list[0])\n",
    "df.head()"
   ]
  },
  {
   "cell_type": "code",
   "execution_count": 16,
   "metadata": {},
   "outputs": [
    {
     "name": "stderr",
     "output_type": "stream",
     "text": [
      "C:\\Users\\Tanvi\\AppData\\Local\\Continuum\\anaconda3\\lib\\site-packages\\seaborn\\categorical.py:1187: FutureWarning: elementwise comparison failed; returning scalar instead, but in the future will perform elementwise comparison\n",
      "  hue_mask = self.plot_hues[i] == hue_level\n",
      "C:\\Users\\Tanvi\\AppData\\Local\\Continuum\\anaconda3\\lib\\site-packages\\seaborn\\categorical.py:1187: FutureWarning: elementwise comparison failed; returning scalar instead, but in the future will perform elementwise comparison\n",
      "  hue_mask = self.plot_hues[i] == hue_level\n"
     ]
    },
    {
     "data": {
      "image/png": "[encoded data removed]",
      "text/plain": [
       "<Figure size 1440x720 with 1 Axes>"
      ]
     },
     "metadata": {},
     "output_type": "display_data"
    }
   ],
   "source": [
    "fig, ax = plt.subplots(figsize = (20, 10))\n",
    "\n",
    "for f in am_list:\n",
    "    df = pd.read_csv(f)\n",
    "    flyID, _ = os.path.basename(f).split('_', 1)\n",
    "    \n",
    "    df['body'] = df['body'].replace({'LW':'left wing',\n",
    "                    'RW':'right wing'})\n",
    "      \n",
    "    order = sorted(df.winglength.unique())\n",
    "    plotIndividual(df, ax, order, 'winglength')\n",
    "    fig.savefig('../dataFolder/Figure/AmplitudeAnalysis/v2/' + Exp + '/IndividualAmpltitude_' + flyID + '.pdf',\n",
    "               bbox_inches = 'tight')\n",
    "    ax.clear()"
   ]
  },
  {
   "cell_type": "code",
   "execution_count": null,
   "metadata": {},
   "outputs": [],
   "source": []
  }
 ],
 "metadata": {
  "kernelspec": {
   "display_name": "Python 3",
   "language": "python",
   "name": "python3"
  },
  "language_info": {
   "codemirror_mode": {
    "name": "ipython",
    "version": 3
   },
   "file_extension": ".py",
   "mimetype": "text/x-python",
   "name": "python",
   "nbconvert_exporter": "python",
   "pygments_lexer": "ipython3",
   "version": "3.6.5"
  }
 },
 "nbformat": 4,
 "nbformat_minor": 2
}
