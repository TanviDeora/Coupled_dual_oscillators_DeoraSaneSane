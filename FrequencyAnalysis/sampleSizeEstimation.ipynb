{
 "cells": [
  {
   "cell_type": "code",
   "execution_count": 12,
   "metadata": {},
   "outputs": [],
   "source": [
    "import numpy as np\n",
    "import pandas as pd\n",
    "import glob\n",
    "import os\n",
    "from scipy.io import loadmat\n",
    "\n",
    "import seaborn as sns\n",
    "import matplotlib.pyplot as plt\n",
    "import matplotlib as mpl\n",
    "mpl.rcParams['pdf.fonttype'] = 42\n",
    "\n",
    "from scipy import stats"
   ]
  },
  {
   "cell_type": "code",
   "execution_count": 2,
   "metadata": {},
   "outputs": [],
   "source": [
    "def simulate_test_paired(samp_size_ctrl, mean_ctrl, sd_ctrl, \n",
    "                  samp_size_trt,  mean_trt,  sd_trt):\n",
    "    '''\n",
    "    Simulate data from two normal distributions and calculate p-value\n",
    "    from paired t-test\n",
    "    \n",
    "        Args: \n",
    "        sample sizes, means, and sd's from control and trt groups\n",
    "\n",
    "        Returns:\n",
    "        p-value from simulated data\n",
    "    '''\n",
    "    simdata_ctrl = np.random.normal(loc = mean_ctrl, scale = sd_ctrl, size = samp_size_ctrl)\n",
    "    simdata_trt = np.random.normal(loc = mean_trt, scale = sd_trt, size = samp_size_trt)\n",
    "    _, p = stats.ttest_rel(simdata_ctrl, simdata_trt)\n",
    "    return(p)"
   ]
  },
  {
   "cell_type": "code",
   "execution_count": 3,
   "metadata": {},
   "outputs": [],
   "source": [
    "def simulate_wilcoxon(samp_size_ctrl, mean_ctrl, sd_ctrl, \n",
    "                  samp_size_trt,  mean_trt,  sd_trt):\n",
    "    '''\n",
    "    Simulate data from two normal distributions and calculate p-value\n",
    "    from paired t-test\n",
    "    \n",
    "        Args: \n",
    "        sample sizes, means, and sd's from control and trt groups\n",
    "        Returns:\n",
    "        p-value from simulated data\n",
    "    '''\n",
    "    simdata_ctrl = np.random.normal(loc = mean_ctrl, scale = sd_ctrl, size = samp_size_ctrl)\n",
    "    simdata_trt = np.random.normal(loc = mean_trt, scale = sd_trt, size = samp_size_trt)\n",
    "    _, p = stats.wilcoxon(simdata_trt, simdata_ctrl, alternative = 'less' , mode = 'approx')\n",
    "    return(p)"
   ]
  },
  {
   "cell_type": "code",
   "execution_count": 4,
   "metadata": {},
   "outputs": [],
   "source": [
    "def runPower(control, treatment, nmin, nmax):\n",
    "    mean_ctrl, sd_ctrl = control\n",
    "    mean_trt, sd_trt = treatment\n",
    "\n",
    "    power = []\n",
    "    for ss in range(nmin,nmax):\n",
    "        samp_size_ctrl = ss\n",
    "        samp_size_trt = ss\n",
    "        # simulate 10000 samples\n",
    "        \n",
    "        simulated_pvals = [simulate_wilcoxon(samp_size_ctrl, mean_ctrl, sd_ctrl, \n",
    "                                     samp_size_trt, mean_trt, sd_trt) for ii in range(1000)]\n",
    "        p = np.mean(np.array(simulated_pvals) < 0.05)\n",
    "        power.append(p)\n",
    "    return(power)"
   ]
  },
  {
   "cell_type": "code",
   "execution_count": 5,
   "metadata": {},
   "outputs": [],
   "source": [
    "output_fig = r\"./dataFolder/SummaryStats_data/elifeRevision/\""
   ]
  },
  {
   "cell_type": "markdown",
   "metadata": {},
   "source": [
    "# Haltere loading"
   ]
  },
  {
   "cell_type": "code",
   "execution_count": 117,
   "metadata": {},
   "outputs": [],
   "source": [
    "# to match the stats in paper\n",
    "\n",
    "hal_df = pd.read_csv('./dataFolder/Submission 3/Final Submission/Data to be uploaded to Dryad/HaltereLoading_Figure5/compiledDataForAggregratePlots.csv')"
   ]
  },
  {
   "cell_type": "code",
   "execution_count": 118,
   "metadata": {},
   "outputs": [
    {
     "data": {
      "text/html": [
       "<div>\n",
       "<style scoped>\n",
       "    .dataframe tbody tr th:only-of-type {\n",
       "        vertical-align: middle;\n",
       "    }\n",
       "\n",
       "    .dataframe tbody tr th {\n",
       "        vertical-align: top;\n",
       "    }\n",
       "\n",
       "    .dataframe thead th {\n",
       "        text-align: right;\n",
       "    }\n",
       "</style>\n",
       "<table border=\"1\" class=\"dataframe\">\n",
       "  <thead>\n",
       "    <tr style=\"text-align: right;\">\n",
       "      <th></th>\n",
       "      <th>Unnamed: 0</th>\n",
       "      <th>flyID</th>\n",
       "      <th>wingHz</th>\n",
       "      <th>leftHalHz</th>\n",
       "      <th>rightHalHz</th>\n",
       "      <th>treatment</th>\n",
       "    </tr>\n",
       "  </thead>\n",
       "  <tbody>\n",
       "    <tr>\n",
       "      <td>0</td>\n",
       "      <td>0</td>\n",
       "      <td>fly1</td>\n",
       "      <td>96.904762</td>\n",
       "      <td>97.142857</td>\n",
       "      <td>96.904762</td>\n",
       "      <td>intacthaltere</td>\n",
       "    </tr>\n",
       "    <tr>\n",
       "      <td>1</td>\n",
       "      <td>1</td>\n",
       "      <td>fly1</td>\n",
       "      <td>102.130326</td>\n",
       "      <td>102.393484</td>\n",
       "      <td>102.393484</td>\n",
       "      <td>loadedhaltere1</td>\n",
       "    </tr>\n",
       "    <tr>\n",
       "      <td>2</td>\n",
       "      <td>2</td>\n",
       "      <td>fly1</td>\n",
       "      <td>112.452700</td>\n",
       "      <td>107.893285</td>\n",
       "      <td>112.125903</td>\n",
       "      <td>loadedhaltere2</td>\n",
       "    </tr>\n",
       "    <tr>\n",
       "      <td>3</td>\n",
       "      <td>3</td>\n",
       "      <td>fly1</td>\n",
       "      <td>109.064327</td>\n",
       "      <td>49.968041</td>\n",
       "      <td>109.356725</td>\n",
       "      <td>loadedhaltere3</td>\n",
       "    </tr>\n",
       "    <tr>\n",
       "      <td>4</td>\n",
       "      <td>4</td>\n",
       "      <td>fly1</td>\n",
       "      <td>109.064327</td>\n",
       "      <td>109.356725</td>\n",
       "      <td>109.064327</td>\n",
       "      <td>removedload</td>\n",
       "    </tr>\n",
       "  </tbody>\n",
       "</table>\n",
       "</div>"
      ],
      "text/plain": [
       "   Unnamed: 0 flyID      wingHz   leftHalHz  rightHalHz       treatment\n",
       "0           0  fly1   96.904762   97.142857   96.904762   intacthaltere\n",
       "1           1  fly1  102.130326  102.393484  102.393484  loadedhaltere1\n",
       "2           2  fly1  112.452700  107.893285  112.125903  loadedhaltere2\n",
       "3           3  fly1  109.064327   49.968041  109.356725  loadedhaltere3\n",
       "4           4  fly1  109.064327  109.356725  109.064327     removedload"
      ]
     },
     "execution_count": 118,
     "metadata": {},
     "output_type": "execute_result"
    }
   ],
   "source": [
    "hal_df.head()"
   ]
  },
  {
   "cell_type": "code",
   "execution_count": 119,
   "metadata": {},
   "outputs": [
    {
     "data": {
      "text/html": [
       "<div>\n",
       "<style scoped>\n",
       "    .dataframe tbody tr th:only-of-type {\n",
       "        vertical-align: middle;\n",
       "    }\n",
       "\n",
       "    .dataframe tbody tr th {\n",
       "        vertical-align: top;\n",
       "    }\n",
       "\n",
       "    .dataframe thead th {\n",
       "        text-align: right;\n",
       "    }\n",
       "</style>\n",
       "<table border=\"1\" class=\"dataframe\">\n",
       "  <thead>\n",
       "    <tr style=\"text-align: right;\">\n",
       "      <th></th>\n",
       "      <th>Unnamed: 0</th>\n",
       "      <th>flyID</th>\n",
       "      <th>wingHz</th>\n",
       "      <th>leftHalHz</th>\n",
       "      <th>rightHalHz</th>\n",
       "      <th>treatment</th>\n",
       "    </tr>\n",
       "  </thead>\n",
       "  <tbody>\n",
       "    <tr>\n",
       "      <td>3</td>\n",
       "      <td>3</td>\n",
       "      <td>fly1</td>\n",
       "      <td>109.064327</td>\n",
       "      <td>49.968041</td>\n",
       "      <td>109.356725</td>\n",
       "      <td>loadedhaltere3</td>\n",
       "    </tr>\n",
       "    <tr>\n",
       "      <td>8</td>\n",
       "      <td>8</td>\n",
       "      <td>fly2</td>\n",
       "      <td>85.540184</td>\n",
       "      <td>52.579224</td>\n",
       "      <td>85.552701</td>\n",
       "      <td>loadedhaltere3</td>\n",
       "    </tr>\n",
       "    <tr>\n",
       "      <td>13</td>\n",
       "      <td>13</td>\n",
       "      <td>fly3</td>\n",
       "      <td>91.182006</td>\n",
       "      <td>45.245099</td>\n",
       "      <td>91.433747</td>\n",
       "      <td>loadedhaltere3</td>\n",
       "    </tr>\n",
       "    <tr>\n",
       "      <td>18</td>\n",
       "      <td>18</td>\n",
       "      <td>fly4</td>\n",
       "      <td>108.919111</td>\n",
       "      <td>62.792650</td>\n",
       "      <td>109.449604</td>\n",
       "      <td>loadedhaltere3</td>\n",
       "    </tr>\n",
       "    <tr>\n",
       "      <td>23</td>\n",
       "      <td>23</td>\n",
       "      <td>fly5</td>\n",
       "      <td>90.389140</td>\n",
       "      <td>36.092735</td>\n",
       "      <td>90.532656</td>\n",
       "      <td>loadedhaltere3</td>\n",
       "    </tr>\n",
       "    <tr>\n",
       "      <td>28</td>\n",
       "      <td>28</td>\n",
       "      <td>fly8</td>\n",
       "      <td>93.741765</td>\n",
       "      <td>46.934931</td>\n",
       "      <td>93.939394</td>\n",
       "      <td>loadedhaltere3</td>\n",
       "    </tr>\n",
       "  </tbody>\n",
       "</table>\n",
       "</div>"
      ],
      "text/plain": [
       "    Unnamed: 0 flyID      wingHz  leftHalHz  rightHalHz       treatment\n",
       "3            3  fly1  109.064327  49.968041  109.356725  loadedhaltere3\n",
       "8            8  fly2   85.540184  52.579224   85.552701  loadedhaltere3\n",
       "13          13  fly3   91.182006  45.245099   91.433747  loadedhaltere3\n",
       "18          18  fly4  108.919111  62.792650  109.449604  loadedhaltere3\n",
       "23          23  fly5   90.389140  36.092735   90.532656  loadedhaltere3\n",
       "28          28  fly8   93.741765  46.934931   93.939394  loadedhaltere3"
      ]
     },
     "execution_count": 119,
     "metadata": {},
     "output_type": "execute_result"
    }
   ],
   "source": [
    "subset = hal_df[hal_df.treatment == 'loadedhaltere3']\n",
    "subset"
   ]
  },
  {
   "cell_type": "code",
   "execution_count": 120,
   "metadata": {},
   "outputs": [
    {
     "data": {
      "image/png": "[encoded data removed]",
      "text/plain": [
       "<Figure size 252x252 with 1 Axes>"
      ]
     },
     "metadata": {
      "needs_background": "light"
     },
     "output_type": "display_data"
    }
   ],
   "source": [
    "data = pd.DataFrame({'wing': subset.wingHz, 'loadedHaltere': subset.leftHalHz})\n",
    "f, ax = plt.subplots(figsize = (3.5,3.5))\n",
    "ax = sns.pointplot(data = data\n",
    "              ,linestyles = ''\n",
    "#                 , markers= \n",
    "              , color = 'k', \n",
    "                  ax = ax)\n",
    "sns.swarmplot(data = data)\n",
    "ax.set_ylabel('Frequency (Hz)')\n",
    "plt.savefig(output_fig + 'haltereLoading.pdf')"
   ]
  },
  {
   "cell_type": "code",
   "execution_count": 121,
   "metadata": {},
   "outputs": [
    {
     "name": "stderr",
     "output_type": "stream",
     "text": [
      "C:\\Users\\Tanvi\\AppData\\Local\\Continuum\\anaconda3\\lib\\site-packages\\scipy\\stats\\morestats.py:2971: UserWarning: Sample size too small for normal approximation.\n",
      "  warnings.warn(\"Sample size too small for normal approximation.\")\n"
     ]
    },
    {
     "data": {
      "text/plain": [
       "WilcoxonResult(statistic=0.0, pvalue=0.013853924679039932)"
      ]
     },
     "execution_count": 121,
     "metadata": {},
     "output_type": "execute_result"
    }
   ],
   "source": [
    "stats.wilcoxon(subset.leftHalHz, subset.wingHz, alternative='less', mode = 'approx')"
   ]
  },
  {
   "cell_type": "code",
   "execution_count": 17,
   "metadata": {},
   "outputs": [],
   "source": [
    "# get my estimated sample size\n",
    "wing = (np.mean(subset.wingHz), np.std(subset.wingHz))\n",
    "haltere = (np.mean(subset.leftHalHz), np.std(subset.leftHalHz))"
   ]
  },
  {
   "cell_type": "code",
   "execution_count": 18,
   "metadata": {},
   "outputs": [
    {
     "name": "stderr",
     "output_type": "stream",
     "text": [
      "C:\\Users\\Tanvi\\AppData\\Local\\Continuum\\anaconda3\\lib\\site-packages\\scipy\\stats\\morestats.py:2971: UserWarning: Sample size too small for normal approximation.\n",
      "  warnings.warn(\"Sample size too small for normal approximation.\")\n"
     ]
    },
    {
     "data": {
      "image/png": "[encoded data removed]",
      "text/plain": [
       "<Figure size 432x288 with 1 Axes>"
      ]
     },
     "metadata": {
      "needs_background": "light"
     },
     "output_type": "display_data"
    },
    {
     "name": "stdout",
     "output_type": "stream",
     "text": [
      "Power for sample size ( 6 6 ) =  1.0\n"
     ]
    }
   ],
   "source": [
    "samp_size_ctrl = 6\n",
    "mean_ctrl, sd_ctrl = wing\n",
    "\n",
    "samp_size_trt = 6\n",
    "mean_trt, sd_trt = haltere\n",
    "\n",
    "# simulate 10000 samples\n",
    "simulated_pvals = [simulate_wilcoxon(samp_size_ctrl, mean_ctrl, sd_ctrl, \n",
    "                                 samp_size_trt, mean_trt, sd_trt) for ii in range(1000)]\n",
    "\n",
    "plt.hist(simulated_pvals)\n",
    "plt.show()\n",
    "\n",
    "# report power\n",
    "print(\"Power for sample size (\", samp_size_ctrl, samp_size_trt, \") = \",np.mean(np.array(simulated_pvals) < 0.05))"
   ]
  },
  {
   "cell_type": "code",
   "execution_count": 19,
   "metadata": {},
   "outputs": [],
   "source": [
    "power = runPower(wing, haltere, 2, 10)"
   ]
  },
  {
   "cell_type": "code",
   "execution_count": 21,
   "metadata": {},
   "outputs": [
    {
     "data": {
      "image/png": "[encoded data removed]",
      "text/plain": [
       "<Figure size 252x252 with 1 Axes>"
      ]
     },
     "metadata": {
      "needs_background": "light"
     },
     "output_type": "display_data"
    }
   ],
   "source": [
    "f = plt.figure(figsize = (3.5, 3.5))\n",
    "plt.plot(range(2,10), power, marker = 'o', color = 'k')\n",
    "plt.axhline(y = 0.8, linestyle = '--', color = 'k')\n",
    "plt.ylabel(\"power\")\n",
    "plt.xlabel('Sample Size')\n",
    "plt.savefig(output_fig + 'PowerAnalysis_haltereLoading.pdf')"
   ]
  },
  {
   "cell_type": "markdown",
   "metadata": {},
   "source": [
    "## Epi Ridge Cut"
   ]
  },
  {
   "cell_type": "code",
   "execution_count": 107,
   "metadata": {},
   "outputs": [],
   "source": [
    "ridge_df = pd.read_csv('./dataFolder/Submission 3/Final Submission/Data to be uploaded to Dryad/EpiRidgeCut_Figure3/compiledDataForAggregratePlots.csv')"
   ]
  },
  {
   "cell_type": "code",
   "execution_count": 108,
   "metadata": {},
   "outputs": [
    {
     "data": {
      "text/html": [
       "<div>\n",
       "<style scoped>\n",
       "    .dataframe tbody tr th:only-of-type {\n",
       "        vertical-align: middle;\n",
       "    }\n",
       "\n",
       "    .dataframe tbody tr th {\n",
       "        vertical-align: top;\n",
       "    }\n",
       "\n",
       "    .dataframe thead th {\n",
       "        text-align: right;\n",
       "    }\n",
       "</style>\n",
       "<table border=\"1\" class=\"dataframe\">\n",
       "  <thead>\n",
       "    <tr style=\"text-align: right;\">\n",
       "      <th></th>\n",
       "      <th>Unnamed: 0</th>\n",
       "      <th>flyID</th>\n",
       "      <th>treatment</th>\n",
       "      <th>winglength</th>\n",
       "      <th>wingHz</th>\n",
       "      <th>leftHalHz</th>\n",
       "      <th>rightHalHz</th>\n",
       "      <th>binned</th>\n",
       "    </tr>\n",
       "  </thead>\n",
       "  <tbody>\n",
       "    <tr>\n",
       "      <td>7</td>\n",
       "      <td>7</td>\n",
       "      <td>fly2</td>\n",
       "      <td>cutwing2_1</td>\n",
       "      <td>0.62</td>\n",
       "      <td>116.462418</td>\n",
       "      <td>80.912690</td>\n",
       "      <td>117.622549</td>\n",
       "      <td>(0.6, 0.7]</td>\n",
       "    </tr>\n",
       "    <tr>\n",
       "      <td>13</td>\n",
       "      <td>13</td>\n",
       "      <td>fly3</td>\n",
       "      <td>cutwing2_1</td>\n",
       "      <td>0.65</td>\n",
       "      <td>133.928571</td>\n",
       "      <td>133.988095</td>\n",
       "      <td>133.809524</td>\n",
       "      <td>(0.6, 0.7]</td>\n",
       "    </tr>\n",
       "    <tr>\n",
       "      <td>19</td>\n",
       "      <td>19</td>\n",
       "      <td>fly5</td>\n",
       "      <td>cutwing2_1</td>\n",
       "      <td>0.63</td>\n",
       "      <td>136.058710</td>\n",
       "      <td>71.784505</td>\n",
       "      <td>104.832561</td>\n",
       "      <td>(0.6, 0.7]</td>\n",
       "    </tr>\n",
       "    <tr>\n",
       "      <td>24</td>\n",
       "      <td>24</td>\n",
       "      <td>fly6</td>\n",
       "      <td>cutwing2_2</td>\n",
       "      <td>0.64</td>\n",
       "      <td>113.939628</td>\n",
       "      <td>74.407437</td>\n",
       "      <td>128.014706</td>\n",
       "      <td>(0.6, 0.7]</td>\n",
       "    </tr>\n",
       "    <tr>\n",
       "      <td>29</td>\n",
       "      <td>29</td>\n",
       "      <td>fly7</td>\n",
       "      <td>cutwing2_1</td>\n",
       "      <td>0.61</td>\n",
       "      <td>143.699634</td>\n",
       "      <td>122.206435</td>\n",
       "      <td>144.102564</td>\n",
       "      <td>(0.6, 0.7]</td>\n",
       "    </tr>\n",
       "  </tbody>\n",
       "</table>\n",
       "</div>"
      ],
      "text/plain": [
       "    Unnamed: 0 flyID   treatment  winglength      wingHz   leftHalHz  \\\n",
       "7            7  fly2  cutwing2_1        0.62  116.462418   80.912690   \n",
       "13          13  fly3  cutwing2_1        0.65  133.928571  133.988095   \n",
       "19          19  fly5  cutwing2_1        0.63  136.058710   71.784505   \n",
       "24          24  fly6  cutwing2_2        0.64  113.939628   74.407437   \n",
       "29          29  fly7  cutwing2_1        0.61  143.699634  122.206435   \n",
       "\n",
       "    rightHalHz      binned  \n",
       "7   117.622549  (0.6, 0.7]  \n",
       "13  133.809524  (0.6, 0.7]  \n",
       "19  104.832561  (0.6, 0.7]  \n",
       "24  128.014706  (0.6, 0.7]  \n",
       "29  144.102564  (0.6, 0.7]  "
      ]
     },
     "execution_count": 108,
     "metadata": {},
     "output_type": "execute_result"
    }
   ],
   "source": [
    "subset = ridge_df[(ridge_df.binned == '(0.6, 0.7]') \n",
    "#                   & (ridge_df.flyID != 'fly6')\n",
    "                 ]\n",
    "subset"
   ]
  },
  {
   "cell_type": "code",
   "execution_count": 109,
   "metadata": {},
   "outputs": [
    {
     "data": {
      "image/png": "[encoded data removed]",
      "text/plain": [
       "<Figure size 252x252 with 1 Axes>"
      ]
     },
     "metadata": {
      "needs_background": "light"
     },
     "output_type": "display_data"
    }
   ],
   "source": [
    "data = pd.DataFrame({'wing': subset.wingHz, 'RidgeHaltere': subset.leftHalHz})\n",
    "f, ax = plt.subplots(figsize = (3.5, 3.5))\n",
    "ax = sns.pointplot(data = data\n",
    "              ,linestyles = ''\n",
    "              , color = 'k',\n",
    "                  ax = ax)\n",
    "sns.swarmplot(data = data)\n",
    "ax.set_ylabel('Frequency (Hz)')\n",
    "plt.savefig(output_fig + 'ERidge.pdf')"
   ]
  },
  {
   "cell_type": "code",
   "execution_count": 110,
   "metadata": {},
   "outputs": [
    {
     "name": "stderr",
     "output_type": "stream",
     "text": [
      "C:\\Users\\Tanvi\\AppData\\Local\\Continuum\\anaconda3\\lib\\site-packages\\scipy\\stats\\morestats.py:2971: UserWarning: Sample size too small for normal approximation.\n",
      "  warnings.warn(\"Sample size too small for normal approximation.\")\n"
     ]
    },
    {
     "data": {
      "text/plain": [
       "WilcoxonResult(statistic=1.0, pvalue=0.03980790073005672)"
      ]
     },
     "execution_count": 110,
     "metadata": {},
     "output_type": "execute_result"
    }
   ],
   "source": [
    "stats.wilcoxon(subset.leftHalHz, subset.wingHz, alternative='less', mode = 'approx')"
   ]
  },
  {
   "cell_type": "code",
   "execution_count": 111,
   "metadata": {},
   "outputs": [
    {
     "data": {
      "text/plain": [
       "WilcoxonResult(statistic=9.0, pvalue=0.6570847827741971)"
      ]
     },
     "execution_count": 111,
     "metadata": {},
     "output_type": "execute_result"
    }
   ],
   "source": [
    "stats.wilcoxon(subset.rightHalHz, subset.wingHz, alternative='less', mode = 'approx')"
   ]
  },
  {
   "cell_type": "code",
   "execution_count": 112,
   "metadata": {},
   "outputs": [],
   "source": [
    "# get my estimated sample size\n",
    "wing = (np.mean(subset.wingHz), np.std(subset.wingHz))\n",
    "ridgeHaltere = (np.mean(subset.leftHalHz), np.std(subset.leftHalHz))"
   ]
  },
  {
   "cell_type": "code",
   "execution_count": 116,
   "metadata": {},
   "outputs": [
    {
     "data": {
      "image/png": "[encoded data removed]",
      "text/plain": [
       "<Figure size 432x288 with 1 Axes>"
      ]
     },
     "metadata": {
      "needs_background": "light"
     },
     "output_type": "display_data"
    },
    {
     "name": "stdout",
     "output_type": "stream",
     "text": [
      "Power for sample size ( 5 5 ) =  0.693\n"
     ]
    }
   ],
   "source": [
    "samp_size_ctrl = 5\n",
    "mean_ctrl, sd_ctrl = wing\n",
    "\n",
    "samp_size_trt = 5\n",
    "mean_trt, sd_trt = ridgeHaltere\n",
    "\n",
    "# simulate 10000 samples\n",
    "simulated_pvals = [simulate_wilcoxon(samp_size_ctrl, mean_ctrl, sd_ctrl, \n",
    "                                 samp_size_trt, mean_trt, sd_trt) for ii in range(1000)]\n",
    "\n",
    "plt.hist(simulated_pvals)\n",
    "plt.show()\n",
    "\n",
    "# report power\n",
    "print(\"Power for sample size (\", samp_size_ctrl, samp_size_trt, \") = \",np.mean(np.array(simulated_pvals) < 0.05))"
   ]
  },
  {
   "cell_type": "code",
   "execution_count": 114,
   "metadata": {},
   "outputs": [],
   "source": [
    "power = runPower(wing, ridgeHaltere, 2, 10)"
   ]
  },
  {
   "cell_type": "code",
   "execution_count": 115,
   "metadata": {},
   "outputs": [
    {
     "data": {
      "image/png": "[encoded data removed]",
      "text/plain": [
       "<Figure size 252x252 with 1 Axes>"
      ]
     },
     "metadata": {
      "needs_background": "light"
     },
     "output_type": "display_data"
    }
   ],
   "source": [
    "f = plt.figure(figsize = (3.5, 3.5))\n",
    "plt.plot(range(2,10), power, marker = 'o', color = 'k')\n",
    "plt.axhline(y = 0.8, linestyle = '--', color = 'k')\n",
    "plt.ylabel(\"power\")\n",
    "plt.xlabel('Sample Size')\n",
    "plt.savefig(output_fig + 'ERidge-PowerAnalysis.pdf')"
   ]
  },
  {
   "cell_type": "markdown",
   "metadata": {},
   "source": [
    "# Wing Coupling "
   ]
  },
  {
   "cell_type": "code",
   "execution_count": 32,
   "metadata": {},
   "outputs": [
    {
     "data": {
      "text/html": [
       "<div>\n",
       "<style scoped>\n",
       "    .dataframe tbody tr th:only-of-type {\n",
       "        vertical-align: middle;\n",
       "    }\n",
       "\n",
       "    .dataframe tbody tr th {\n",
       "        vertical-align: top;\n",
       "    }\n",
       "\n",
       "    .dataframe thead th {\n",
       "        text-align: right;\n",
       "    }\n",
       "</style>\n",
       "<table border=\"1\" class=\"dataframe\">\n",
       "  <thead>\n",
       "    <tr style=\"text-align: right;\">\n",
       "      <th></th>\n",
       "      <th>Unnamed: 0</th>\n",
       "      <th>treatment</th>\n",
       "      <th>flyID</th>\n",
       "      <th>winglength</th>\n",
       "      <th>ClippedWingHz</th>\n",
       "      <th>IntactWingHz</th>\n",
       "      <th>binned</th>\n",
       "    </tr>\n",
       "  </thead>\n",
       "  <tbody>\n",
       "    <tr>\n",
       "      <td>0</td>\n",
       "      <td>0</td>\n",
       "      <td>Intact</td>\n",
       "      <td>Fly1</td>\n",
       "      <td>0.391743</td>\n",
       "      <td>84.506527</td>\n",
       "      <td>83.927994</td>\n",
       "      <td>0.3</td>\n",
       "    </tr>\n",
       "    <tr>\n",
       "      <td>1</td>\n",
       "      <td>1</td>\n",
       "      <td>Intact</td>\n",
       "      <td>Fly2</td>\n",
       "      <td>1.000000</td>\n",
       "      <td>109.348125</td>\n",
       "      <td>112.487110</td>\n",
       "      <td>0.9</td>\n",
       "    </tr>\n",
       "    <tr>\n",
       "      <td>2</td>\n",
       "      <td>2</td>\n",
       "      <td>Intact</td>\n",
       "      <td>Fly3</td>\n",
       "      <td>0.759073</td>\n",
       "      <td>119.158525</td>\n",
       "      <td>119.983680</td>\n",
       "      <td>0.7</td>\n",
       "    </tr>\n",
       "    <tr>\n",
       "      <td>3</td>\n",
       "      <td>3</td>\n",
       "      <td>Intact</td>\n",
       "      <td>Fly5</td>\n",
       "      <td>0.620712</td>\n",
       "      <td>117.361145</td>\n",
       "      <td>117.687945</td>\n",
       "      <td>0.6</td>\n",
       "    </tr>\n",
       "    <tr>\n",
       "      <td>4</td>\n",
       "      <td>4</td>\n",
       "      <td>Intact</td>\n",
       "      <td>Fly6</td>\n",
       "      <td>0.720811</td>\n",
       "      <td>141.340205</td>\n",
       "      <td>140.790750</td>\n",
       "      <td>0.7</td>\n",
       "    </tr>\n",
       "    <tr>\n",
       "      <td>5</td>\n",
       "      <td>5</td>\n",
       "      <td>Intact</td>\n",
       "      <td>Fly7</td>\n",
       "      <td>0.582596</td>\n",
       "      <td>121.059640</td>\n",
       "      <td>120.698435</td>\n",
       "      <td>0.5</td>\n",
       "    </tr>\n",
       "    <tr>\n",
       "      <td>6</td>\n",
       "      <td>6</td>\n",
       "      <td>Slit</td>\n",
       "      <td>Fly1</td>\n",
       "      <td>0.617825</td>\n",
       "      <td>150.000000</td>\n",
       "      <td>110.000000</td>\n",
       "      <td>0.6</td>\n",
       "    </tr>\n",
       "    <tr>\n",
       "      <td>7</td>\n",
       "      <td>7</td>\n",
       "      <td>Slit</td>\n",
       "      <td>Fly2</td>\n",
       "      <td>0.407029</td>\n",
       "      <td>156.900000</td>\n",
       "      <td>86.270000</td>\n",
       "      <td>0.3</td>\n",
       "    </tr>\n",
       "    <tr>\n",
       "      <td>8</td>\n",
       "      <td>8</td>\n",
       "      <td>Slit</td>\n",
       "      <td>Fly7</td>\n",
       "      <td>0.516695</td>\n",
       "      <td>134.600000</td>\n",
       "      <td>84.620000</td>\n",
       "      <td>0.5</td>\n",
       "    </tr>\n",
       "    <tr>\n",
       "      <td>9</td>\n",
       "      <td>9</td>\n",
       "      <td>Slit</td>\n",
       "      <td>Fly8</td>\n",
       "      <td>0.453098</td>\n",
       "      <td>145.800000</td>\n",
       "      <td>83.330000</td>\n",
       "      <td>0.3</td>\n",
       "    </tr>\n",
       "    <tr>\n",
       "      <td>10</td>\n",
       "      <td>10</td>\n",
       "      <td>Slit</td>\n",
       "      <td>Fly9</td>\n",
       "      <td>0.411131</td>\n",
       "      <td>164.900000</td>\n",
       "      <td>80.700000</td>\n",
       "      <td>0.3</td>\n",
       "    </tr>\n",
       "  </tbody>\n",
       "</table>\n",
       "</div>"
      ],
      "text/plain": [
       "    Unnamed: 0 treatment flyID  winglength  ClippedWingHz  IntactWingHz  \\\n",
       "0            0    Intact  Fly1    0.391743      84.506527     83.927994   \n",
       "1            1    Intact  Fly2    1.000000     109.348125    112.487110   \n",
       "2            2    Intact  Fly3    0.759073     119.158525    119.983680   \n",
       "3            3    Intact  Fly5    0.620712     117.361145    117.687945   \n",
       "4            4    Intact  Fly6    0.720811     141.340205    140.790750   \n",
       "5            5    Intact  Fly7    0.582596     121.059640    120.698435   \n",
       "6            6      Slit  Fly1    0.617825     150.000000    110.000000   \n",
       "7            7      Slit  Fly2    0.407029     156.900000     86.270000   \n",
       "8            8      Slit  Fly7    0.516695     134.600000     84.620000   \n",
       "9            9      Slit  Fly8    0.453098     145.800000     83.330000   \n",
       "10          10      Slit  Fly9    0.411131     164.900000     80.700000   \n",
       "\n",
       "    binned  \n",
       "0      0.3  \n",
       "1      0.9  \n",
       "2      0.7  \n",
       "3      0.6  \n",
       "4      0.7  \n",
       "5      0.5  \n",
       "6      0.6  \n",
       "7      0.3  \n",
       "8      0.5  \n",
       "9      0.3  \n",
       "10     0.3  "
      ]
     },
     "execution_count": 32,
     "metadata": {},
     "output_type": "execute_result"
    }
   ],
   "source": [
    "direc = r\"./dataFolder/Submission 3/Final Submission/Data to be uploaded to Dryad/Figure2/\"\n",
    "Sc = pd.read_csv(direc + 'maxDiffDF.csv')\n",
    "Sc"
   ]
  },
  {
   "cell_type": "code",
   "execution_count": 33,
   "metadata": {},
   "outputs": [],
   "source": [
    "ctrl = Sc.loc[Sc.treatment == 'Slit', 'IntactWingHz']\n",
    "trt = Sc.loc[Sc.treatment == 'Slit', 'ClippedWingHz']"
   ]
  },
  {
   "cell_type": "code",
   "execution_count": 34,
   "metadata": {},
   "outputs": [
    {
     "data": {
      "image/png": "[encoded data removed]",
      "text/plain": [
       "<Figure size 252x252 with 1 Axes>"
      ]
     },
     "metadata": {
      "needs_background": "light"
     },
     "output_type": "display_data"
    }
   ],
   "source": [
    "data = pd.DataFrame({'intactWing': ctrl, 'clippedWing': trt})\n",
    "f, ax = plt.subplots(figsize = (3.5,3.5))\n",
    "ax = sns.pointplot(data = data\n",
    "              ,linestyles = ''\n",
    "              , color = 'k', \n",
    "                  ax = ax)\n",
    "sns.swarmplot(data = data)\n",
    "ax.set_ylabel('Frequency (Hz)')\n",
    "plt.savefig(output_fig + 'Sc.pdf')"
   ]
  },
  {
   "cell_type": "code",
   "execution_count": 106,
   "metadata": {},
   "outputs": [
    {
     "data": {
      "text/plain": [
       "WilcoxonResult(statistic=0.0, pvalue=0.021557223391537678)"
      ]
     },
     "execution_count": 106,
     "metadata": {},
     "output_type": "execute_result"
    }
   ],
   "source": [
    "stats.wilcoxon(ctrl, trt, alternative = 'less', mode = 'approx')"
   ]
  },
  {
   "cell_type": "code",
   "execution_count": 36,
   "metadata": {},
   "outputs": [
    {
     "data": {
      "text/plain": [
       "((88.984, 10.664660519679002), (150.44, 10.231832680414591))"
      ]
     },
     "execution_count": 36,
     "metadata": {},
     "output_type": "execute_result"
    }
   ],
   "source": [
    "# get my estimated sample size\n",
    "controlWing = (np.mean(ctrl), np.std(ctrl))\n",
    "clippedWing = (np.mean(trt), np.std(trt))\n",
    "controlWing, clippedWing"
   ]
  },
  {
   "cell_type": "code",
   "execution_count": 37,
   "metadata": {},
   "outputs": [
    {
     "name": "stderr",
     "output_type": "stream",
     "text": [
      "C:\\Users\\Tanvi\\AppData\\Local\\Continuum\\anaconda3\\lib\\site-packages\\scipy\\stats\\morestats.py:2971: UserWarning: Sample size too small for normal approximation.\n",
      "  warnings.warn(\"Sample size too small for normal approximation.\")\n"
     ]
    },
    {
     "data": {
      "image/png": "[encoded data removed]",
      "text/plain": [
       "<Figure size 432x288 with 1 Axes>"
      ]
     },
     "metadata": {
      "needs_background": "light"
     },
     "output_type": "display_data"
    },
    {
     "name": "stdout",
     "output_type": "stream",
     "text": [
      "Power for sample size ( 5 5 ) =  1.0\n"
     ]
    }
   ],
   "source": [
    "# flipped my control and clipped data to match the alternative less in function simulate wilcoxon\n",
    "samp_size_ctrl = 5\n",
    "mean_ctrl, sd_ctrl = clippedWing\n",
    "\n",
    "samp_size_trt = 5\n",
    "mean_trt, sd_trt = controlWing\n",
    "\n",
    "# simulate 10000 samples\n",
    "simulated_pvals = [simulate_wilcoxon(samp_size_ctrl, mean_ctrl, sd_ctrl, \n",
    "                                 samp_size_trt, mean_trt, sd_trt) for ii in range(1000)]\n",
    "\n",
    "plt.hist(simulated_pvals)\n",
    "plt.show()\n",
    "\n",
    "# report power\n",
    "print(\"Power for sample size (\", samp_size_ctrl, samp_size_trt, \") = \",np.mean(np.array(simulated_pvals) < 0.05))"
   ]
  },
  {
   "cell_type": "code",
   "execution_count": 38,
   "metadata": {},
   "outputs": [],
   "source": [
    "power = runPower(clippedWing, controlWing, 2, 10)"
   ]
  },
  {
   "cell_type": "code",
   "execution_count": 39,
   "metadata": {},
   "outputs": [
    {
     "data": {
      "image/png": "[encoded data removed]",
      "text/plain": [
       "<Figure size 252x252 with 1 Axes>"
      ]
     },
     "metadata": {
      "needs_background": "light"
     },
     "output_type": "display_data"
    }
   ],
   "source": [
    "f = plt.figure(figsize = (3.5, 3.5))\n",
    "plt.plot(range(2,10), power, marker = 'o', color = 'k')\n",
    "plt.axhline(y = 0.8, linestyle = '--', color = 'k')\n",
    "plt.ylabel(\"power\")\n",
    "plt.xlabel('Sample Size')\n",
    "plt.savefig(output_fig + \"Sc-PowerAnalysis.pdf\")"
   ]
  },
  {
   "cell_type": "markdown",
   "metadata": {},
   "source": [
    "# thoracic intergrity - ridge cut "
   ]
  },
  {
   "cell_type": "code",
   "execution_count": 89,
   "metadata": {},
   "outputs": [],
   "source": [
    "direc = r\"./dataFolder/Submission 3/Final submission/Data to be uploaded to Dryad/delFreq_Figure4/delFreqWithoutLength/\"\n",
    "# direc = r'C:\\Users\\Tanvi\\Dropbox\\Coupled oscillator paper\\Submission 2\\Data to be uploaded to Dryad\\delFreq_Figure4\\delFreqWithoutLength/'\n",
    "data = loadmat(direc + 'KruskalWallisPlusMultCompare.mat')\n",
    "# power test for ANOVA (used on any F stats)"
   ]
  },
  {
   "cell_type": "code",
   "execution_count": 90,
   "metadata": {},
   "outputs": [
    {
     "data": {
      "text/html": [
       "<div>\n",
       "<style scoped>\n",
       "    .dataframe tbody tr th:only-of-type {\n",
       "        vertical-align: middle;\n",
       "    }\n",
       "\n",
       "    .dataframe tbody tr th {\n",
       "        vertical-align: top;\n",
       "    }\n",
       "\n",
       "    .dataframe thead th {\n",
       "        text-align: right;\n",
       "    }\n",
       "</style>\n",
       "<table border=\"1\" class=\"dataframe\">\n",
       "  <thead>\n",
       "    <tr style=\"text-align: right;\">\n",
       "      <th></th>\n",
       "      <th>Source</th>\n",
       "      <th>SS</th>\n",
       "      <th>df</th>\n",
       "      <th>MS</th>\n",
       "      <th>Chi-sq</th>\n",
       "      <th>Prob&gt;Chi-sq</th>\n",
       "    </tr>\n",
       "    <tr>\n",
       "      <th>Source</th>\n",
       "      <th></th>\n",
       "      <th></th>\n",
       "      <th></th>\n",
       "      <th></th>\n",
       "      <th></th>\n",
       "      <th></th>\n",
       "    </tr>\n",
       "  </thead>\n",
       "  <tbody>\n",
       "    <tr>\n",
       "      <td>Groups</td>\n",
       "      <td>Groups</td>\n",
       "      <td>1142.625</td>\n",
       "      <td>3</td>\n",
       "      <td>380.875</td>\n",
       "      <td>19.55879836</td>\n",
       "      <td>0.000209498</td>\n",
       "    </tr>\n",
       "    <tr>\n",
       "      <td>Error</td>\n",
       "      <td>Error</td>\n",
       "      <td>317.875</td>\n",
       "      <td>22</td>\n",
       "      <td>14.44886364</td>\n",
       "      <td>[]</td>\n",
       "      <td>[]</td>\n",
       "    </tr>\n",
       "    <tr>\n",
       "      <td>Total</td>\n",
       "      <td>Total</td>\n",
       "      <td>1460.500</td>\n",
       "      <td>25</td>\n",
       "      <td>[]</td>\n",
       "      <td>[]</td>\n",
       "      <td>[]</td>\n",
       "    </tr>\n",
       "  </tbody>\n",
       "</table>\n",
       "</div>"
      ],
      "text/plain": [
       "        Source        SS  df           MS       Chi-sq  Prob>Chi-sq\n",
       "Source                                                             \n",
       "Groups  Groups  1142.625   3      380.875  19.55879836  0.000209498\n",
       "Error    Error   317.875  22  14.44886364           []           []\n",
       "Total    Total  1460.500  25           []           []           []"
      ]
     },
     "execution_count": 90,
     "metadata": {},
     "output_type": "execute_result"
    }
   ],
   "source": [
    "table = pd.read_csv(direc + 'anovaTable.csv')\n",
    "table.index = table['Source']\n",
    "table"
   ]
  },
  {
   "cell_type": "code",
   "execution_count": 91,
   "metadata": {},
   "outputs": [],
   "source": [
    "control = data['delFreqWithoutLength'].T[0]\n",
    "oneRidge = data['delFreqWithoutLength'].T[1][:-2]\n",
    "twoRidge = data['delFreqWithoutLength'].T[2][:-2]\n",
    "HaltereAb = data['delFreqWithoutLength'].T[3][:-2]"
   ]
  },
  {
   "cell_type": "code",
   "execution_count": 92,
   "metadata": {},
   "outputs": [
    {
     "data": {
      "text/plain": [
       "KruskalResult(statistic=19.558798356727166, pvalue=0.00020949826322100518)"
      ]
     },
     "execution_count": 92,
     "metadata": {},
     "output_type": "execute_result"
    }
   ],
   "source": [
    "# stats.kruskal(data['delFreqWithoutLength'].T)\n",
    "stats.kruskal(control, oneRidge, twoRidge, HaltereAb)"
   ]
  },
  {
   "cell_type": "code",
   "execution_count": 93,
   "metadata": {},
   "outputs": [],
   "source": [
    "def simulate_kruskal(samp_size_ctrl, mean_ctrl, sd_ctrl, \n",
    "                  samp_size_trt1,  mean_trt1,  sd_trt1,\n",
    "                    samp_size_trt2,  mean_trt2,  sd_trt2,\n",
    "                    samp_size_trt3,  mean_trt3,  sd_trt3):\n",
    "    '''\n",
    "    Simulate data from two normal distributions and calculate p-value\n",
    "    from paired t-test\n",
    "    \n",
    "        Args: \n",
    "        sample sizes, means, and sd's from control and trt groups\n",
    "\n",
    "        Returns:\n",
    "        p-value from simulated data\n",
    "    '''\n",
    "    simdata_ctrl = np.random.normal(loc = mean_ctrl, scale = sd_ctrl, size = samp_size_ctrl)\n",
    "    simdata_trt1 = np.random.normal(loc = mean_trt1, scale = sd_trt1, size = samp_size_trt1)\n",
    "    simdata_trt2 = np.random.normal(loc = mean_trt2, scale = sd_trt2, size = samp_size_trt2)\n",
    "    simdata_trt3 = np.random.normal(loc = mean_trt3, scale = sd_trt3, size = samp_size_trt3)\n",
    "    \n",
    "    _, p = stats.kruskal(simdata_ctrl, simdata_trt1, simdata_trt1, simdata_trt1)\n",
    "    return(p)  "
   ]
  },
  {
   "cell_type": "code",
   "execution_count": 94,
   "metadata": {},
   "outputs": [],
   "source": [
    "samp_size_ctrl = 8\n",
    "mean_ctrl = np.nanmean(control)\n",
    "sd_ctrl = np.nanstd(control)\n",
    "\n",
    "samp_size_trt1 = 6\n",
    "mean_trt1 = np.nanmean(oneRidge)\n",
    "sd_trt1 = np.nanstd(oneRidge)\n",
    "                    \n",
    "samp_size_trt2 = 6  \n",
    "mean_trt2 = np.nanmean(twoRidge)\n",
    "sd_trt2 = np.nanstd(twoRidge)\n",
    "\n",
    "samp_size_trt3 = 6\n",
    "mean_trt3 = np.nanmean(HaltereAb)\n",
    "sd_trt3 = np.nanstd(HaltereAb)"
   ]
  },
  {
   "cell_type": "code",
   "execution_count": 95,
   "metadata": {},
   "outputs": [
    {
     "data": {
      "text/plain": [
       "0.028317144990835406"
      ]
     },
     "execution_count": 95,
     "metadata": {},
     "output_type": "execute_result"
    }
   ],
   "source": [
    "simulate_kruskal(samp_size_ctrl, mean_ctrl, sd_ctrl, \n",
    "                  samp_size_trt1,  mean_trt1,  sd_trt1,\n",
    "                    samp_size_trt2,  mean_trt2,  sd_trt2,\n",
    "                    samp_size_trt3,  mean_trt3,  sd_trt3)"
   ]
  },
  {
   "cell_type": "code",
   "execution_count": 96,
   "metadata": {},
   "outputs": [],
   "source": [
    "power = []\n",
    "for ss in range(2,15):\n",
    "    samp_size_ctrl = ss\n",
    "    samp_size_trt1 = ss\n",
    "    samp_size_trt2 = ss\n",
    "    samp_size_trt3 = ss    \n",
    "    # simulate 10000 samples\n",
    "    simulated_pvals = [simulate_kruskal(samp_size_ctrl, mean_ctrl, sd_ctrl, \n",
    "                  samp_size_trt1,  mean_trt1,  sd_trt1,\n",
    "                    samp_size_trt2,  mean_trt2,  sd_trt2,\n",
    "                    samp_size_trt3,  mean_trt3,  sd_trt3) for ii in range(1000)]\n",
    "    p = np.mean(np.array(simulated_pvals) < 0.05)\n",
    "    power.append(p)"
   ]
  },
  {
   "cell_type": "code",
   "execution_count": 97,
   "metadata": {},
   "outputs": [
    {
     "data": {
      "image/png": "[encoded data removed]",
      "text/plain": [
       "<Figure size 252x252 with 1 Axes>"
      ]
     },
     "metadata": {
      "needs_background": "light"
     },
     "output_type": "display_data"
    }
   ],
   "source": [
    "f = plt.figure(figsize = (3.5, 3.5))\n",
    "plt.plot(range(2,15), power, marker = 'o', color = 'k')\n",
    "plt.axhline(y = 0.8, linestyle = '--', color = 'k')\n",
    "# locs, labels = plt.xticks()\n",
    "plt.xticks(np.arange(2, 15))\n",
    "\n",
    "plt.ylabel(\"power\")\n",
    "plt.xlabel('Sample Size')\n",
    "plt.savefig(output_fig + 'DelFreq-PowerAnalysis.pdf')"
   ]
  },
  {
   "cell_type": "code",
   "execution_count": 98,
   "metadata": {},
   "outputs": [
    {
     "data": {
      "text/plain": [
       "[0.0,\n",
       " 0.0,\n",
       " 0.424,\n",
       " 0.443,\n",
       " 0.573,\n",
       " 0.682,\n",
       " 0.737,\n",
       " 0.785,\n",
       " 0.834,\n",
       " 0.899,\n",
       " 0.915,\n",
       " 0.94,\n",
       " 0.941]"
      ]
     },
     "execution_count": 98,
     "metadata": {},
     "output_type": "execute_result"
    }
   ],
   "source": [
    "power"
   ]
  },
  {
   "cell_type": "code",
   "execution_count": 99,
   "metadata": {},
   "outputs": [
    {
     "data": {
      "text/plain": [
       "0.7452993362543503"
      ]
     },
     "execution_count": 99,
     "metadata": {},
     "output_type": "execute_result"
    }
   ],
   "source": [
    "SSeffect = float(table.loc['Groups', 'SS'])\n",
    "dfeffect = float(table.loc['Groups', 'df'])\n",
    "MSerror = float(table.loc['Error', 'MS'])\n",
    "SStotal = float(table.loc['Total', 'SS'])\n",
    "\n",
    "# omega_sq = (SSeffect – (dfeffect*MSerror)) / MSerror + SStotal\n",
    "d = MSerror + SStotal\n",
    "n = dfeffect*MSerror\n",
    "\n",
    "omega_sq = (SSeffect - n)/d\n",
    "omega_sq"
   ]
  },
  {
   "cell_type": "code",
   "execution_count": 100,
   "metadata": {},
   "outputs": [],
   "source": [
    "import statsmodels.stats.power as power"
   ]
  },
  {
   "cell_type": "code",
   "execution_count": 101,
   "metadata": {},
   "outputs": [
    {
     "data": {
      "text/plain": [
       "0.14754429870179753"
      ]
     },
     "execution_count": 101,
     "metadata": {},
     "output_type": "execute_result"
    }
   ],
   "source": [
    "power.FTestPower().power(omega_sq, \n",
    "                             table.loc['Groups', 'df'],\n",
    "                             table.loc['Error', 'df'],\n",
    "                             0.05, ncc = 25)"
   ]
  }
 ],
 "metadata": {
  "kernelspec": {
   "display_name": "Python 3",
   "language": "python",
   "name": "python3"
  },
  "language_info": {
   "codemirror_mode": {
    "name": "ipython",
    "version": 3
   },
   "file_extension": ".py",
   "mimetype": "text/x-python",
   "name": "python",
   "nbconvert_exporter": "python",
   "pygments_lexer": "ipython3",
   "version": "3.6.5"
  }
 },
 "nbformat": 4,
 "nbformat_minor": 2
}
