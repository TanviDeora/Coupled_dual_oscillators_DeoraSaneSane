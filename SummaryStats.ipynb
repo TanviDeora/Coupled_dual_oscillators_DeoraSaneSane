{
 "cells": [
  {
   "cell_type": "code",
   "execution_count": 3,
   "metadata": {},
   "outputs": [],
   "source": [
    "import numpy as np\n",
    "import pandas as pd\n",
    "import glob\n",
    "import os\n",
    "\n",
    "from scipy.io import loadmat\n",
    "from scipy import stats\n",
    "import scikit_posthocs as sp\n",
    "\n",
    "import seaborn as sns\n",
    "import matplotlib.pyplot as plt"
   ]
  },
  {
   "cell_type": "markdown",
   "metadata": {},
   "source": [
    "## Slit Sc"
   ]
  },
  {
   "cell_type": "markdown",
   "metadata": {},
   "source": [
    "## Frequency"
   ]
  },
  {
   "cell_type": "code",
   "execution_count": 2,
   "metadata": {},
   "outputs": [],
   "source": [
    "direc = r\"./dataFolder/Submission 3/Final Submission/Data to be uploaded to Dryad/Figure2/\""
   ]
  },
  {
   "cell_type": "code",
   "execution_count": 3,
   "metadata": {},
   "outputs": [],
   "source": [
    "file = pd.read_csv(direc + 'merged_TD', sep = \"\\t\")\n",
    "data = file.loc[:,('Treatment', 'Fly', 'wing_mean.Corleft', 'Average.Corleft', 'Average.Corright')]\n",
    "data.columns = ['treatment', 'flyID', 'winglength', 'ClippedWingHz', 'IntactWingHz']\n",
    "\n",
    "bins = [0.3, 0.5, 0.6, 0.7 ,0.9, 1]\n",
    "data['binned'] = pd.cut(data['winglength'], bins, \n",
    "                        labels=np.array([0.3, 0.5, 0.6, 0.7, 0.9]))\n",
    "new_df = data.drop(['winglength'], axis=1)"
   ]
  },
  {
   "cell_type": "code",
   "execution_count": 4,
   "metadata": {},
   "outputs": [
    {
     "data": {
      "text/html": [
       "<div>\n",
       "<style scoped>\n",
       "    .dataframe tbody tr th:only-of-type {\n",
       "        vertical-align: middle;\n",
       "    }\n",
       "\n",
       "    .dataframe tbody tr th {\n",
       "        vertical-align: top;\n",
       "    }\n",
       "\n",
       "    .dataframe thead th {\n",
       "        text-align: right;\n",
       "    }\n",
       "</style>\n",
       "<table border=\"1\" class=\"dataframe\">\n",
       "  <thead>\n",
       "    <tr style=\"text-align: right;\">\n",
       "      <th></th>\n",
       "      <th>treatment</th>\n",
       "      <th>flyID</th>\n",
       "      <th>winglength</th>\n",
       "      <th>ClippedWingHz</th>\n",
       "      <th>IntactWingHz</th>\n",
       "      <th>binned</th>\n",
       "    </tr>\n",
       "  </thead>\n",
       "  <tbody>\n",
       "    <tr>\n",
       "      <td>0</td>\n",
       "      <td>Intact</td>\n",
       "      <td>Fly1</td>\n",
       "      <td>0.821102</td>\n",
       "      <td>93.154528</td>\n",
       "      <td>93.349334</td>\n",
       "      <td>0.7</td>\n",
       "    </tr>\n",
       "    <tr>\n",
       "      <td>1</td>\n",
       "      <td>Intact</td>\n",
       "      <td>Fly1</td>\n",
       "      <td>0.666827</td>\n",
       "      <td>101.806114</td>\n",
       "      <td>102.028900</td>\n",
       "      <td>0.6</td>\n",
       "    </tr>\n",
       "    <tr>\n",
       "      <td>2</td>\n",
       "      <td>Intact</td>\n",
       "      <td>Fly1</td>\n",
       "      <td>0.573657</td>\n",
       "      <td>108.858352</td>\n",
       "      <td>108.810557</td>\n",
       "      <td>0.5</td>\n",
       "    </tr>\n",
       "    <tr>\n",
       "      <td>3</td>\n",
       "      <td>Intact</td>\n",
       "      <td>Fly1</td>\n",
       "      <td>0.461742</td>\n",
       "      <td>93.192249</td>\n",
       "      <td>92.950641</td>\n",
       "      <td>0.3</td>\n",
       "    </tr>\n",
       "    <tr>\n",
       "      <td>4</td>\n",
       "      <td>Intact</td>\n",
       "      <td>Fly1</td>\n",
       "      <td>0.391743</td>\n",
       "      <td>84.506527</td>\n",
       "      <td>83.927994</td>\n",
       "      <td>0.3</td>\n",
       "    </tr>\n",
       "  </tbody>\n",
       "</table>\n",
       "</div>"
      ],
      "text/plain": [
       "  treatment flyID  winglength  ClippedWingHz  IntactWingHz binned\n",
       "0    Intact  Fly1    0.821102      93.154528     93.349334    0.7\n",
       "1    Intact  Fly1    0.666827     101.806114    102.028900    0.6\n",
       "2    Intact  Fly1    0.573657     108.858352    108.810557    0.5\n",
       "3    Intact  Fly1    0.461742      93.192249     92.950641    0.3\n",
       "4    Intact  Fly1    0.391743      84.506527     83.927994    0.3"
      ]
     },
     "execution_count": 4,
     "metadata": {},
     "output_type": "execute_result"
    }
   ],
   "source": [
    "data.head()"
   ]
  },
  {
   "cell_type": "markdown",
   "metadata": {},
   "source": [
    "### compute the largest difference between clipped and intact wings for each fly"
   ]
  },
  {
   "cell_type": "code",
   "execution_count": 5,
   "metadata": {},
   "outputs": [],
   "source": [
    "new_df = pd.DataFrame(data = None, columns = data.columns)\n",
    "\n",
    "ii = 0\n",
    "for trt, df in data.groupby('treatment'):\n",
    "    for flyID, flydf in df.groupby('flyID'):\n",
    "        # get the intact and clip wing frequency where the difference is maximum\n",
    "        temp = flydf.loc[(flydf['IntactWingHz'] - flydf['ClippedWingHz']).abs().idxmax(), :]\n",
    "        new_df = new_df.append(temp, ignore_index = True)"
   ]
  },
  {
   "cell_type": "code",
   "execution_count": 85,
   "metadata": {},
   "outputs": [
    {
     "data": {
      "text/html": [
       "<div>\n",
       "<style scoped>\n",
       "    .dataframe tbody tr th:only-of-type {\n",
       "        vertical-align: middle;\n",
       "    }\n",
       "\n",
       "    .dataframe tbody tr th {\n",
       "        vertical-align: top;\n",
       "    }\n",
       "\n",
       "    .dataframe thead th {\n",
       "        text-align: right;\n",
       "    }\n",
       "</style>\n",
       "<table border=\"1\" class=\"dataframe\">\n",
       "  <thead>\n",
       "    <tr style=\"text-align: right;\">\n",
       "      <th></th>\n",
       "      <th>treatment</th>\n",
       "      <th>flyID</th>\n",
       "      <th>winglength</th>\n",
       "      <th>ClippedWingHz</th>\n",
       "      <th>IntactWingHz</th>\n",
       "      <th>binned</th>\n",
       "    </tr>\n",
       "  </thead>\n",
       "  <tbody>\n",
       "    <tr>\n",
       "      <td>0</td>\n",
       "      <td>Intact</td>\n",
       "      <td>Fly1</td>\n",
       "      <td>0.391743</td>\n",
       "      <td>84.506527</td>\n",
       "      <td>83.927994</td>\n",
       "      <td>0.3</td>\n",
       "    </tr>\n",
       "    <tr>\n",
       "      <td>1</td>\n",
       "      <td>Intact</td>\n",
       "      <td>Fly2</td>\n",
       "      <td>1.000000</td>\n",
       "      <td>109.348125</td>\n",
       "      <td>112.487110</td>\n",
       "      <td>0.9</td>\n",
       "    </tr>\n",
       "    <tr>\n",
       "      <td>2</td>\n",
       "      <td>Intact</td>\n",
       "      <td>Fly3</td>\n",
       "      <td>0.759073</td>\n",
       "      <td>119.158525</td>\n",
       "      <td>119.983680</td>\n",
       "      <td>0.7</td>\n",
       "    </tr>\n",
       "    <tr>\n",
       "      <td>3</td>\n",
       "      <td>Intact</td>\n",
       "      <td>Fly5</td>\n",
       "      <td>0.620712</td>\n",
       "      <td>117.361145</td>\n",
       "      <td>117.687945</td>\n",
       "      <td>0.6</td>\n",
       "    </tr>\n",
       "    <tr>\n",
       "      <td>4</td>\n",
       "      <td>Intact</td>\n",
       "      <td>Fly6</td>\n",
       "      <td>0.720811</td>\n",
       "      <td>141.340205</td>\n",
       "      <td>140.790750</td>\n",
       "      <td>0.7</td>\n",
       "    </tr>\n",
       "  </tbody>\n",
       "</table>\n",
       "</div>"
      ],
      "text/plain": [
       "  treatment flyID  winglength  ClippedWingHz  IntactWingHz  binned\n",
       "0    Intact  Fly1    0.391743      84.506527     83.927994     0.3\n",
       "1    Intact  Fly2    1.000000     109.348125    112.487110     0.9\n",
       "2    Intact  Fly3    0.759073     119.158525    119.983680     0.7\n",
       "3    Intact  Fly5    0.620712     117.361145    117.687945     0.6\n",
       "4    Intact  Fly6    0.720811     141.340205    140.790750     0.7"
      ]
     },
     "execution_count": 85,
     "metadata": {},
     "output_type": "execute_result"
    }
   ],
   "source": [
    "new_df.head()"
   ]
  },
  {
   "cell_type": "code",
   "execution_count": 7,
   "metadata": {},
   "outputs": [
    {
     "name": "stdout",
     "output_type": "stream",
     "text": [
      "Intact thorax contralateral wings, p value is 0.623 and U value is 12.000\n",
      "Slit thorax contralateral wings, p value is 0.022 and U value is 0.000\n"
     ]
    },
    {
     "name": "stderr",
     "output_type": "stream",
     "text": [
      "C:\\Users\\Tanvi\\AppData\\Local\\Continuum\\anaconda3\\lib\\site-packages\\scipy\\stats\\morestats.py:2971: UserWarning: Sample size too small for normal approximation.\n",
      "  warnings.warn(\"Sample size too small for normal approximation.\")\n"
     ]
    }
   ],
   "source": [
    "# test the alternate hypothesis that intact wings lesser frequency as compared to that of the clipped wings\n",
    "\n",
    "for trt, df in new_df.groupby('treatment'):\n",
    "    clipw = df.ClippedWingHz.values  \n",
    "    intactw = df.IntactWingHz.values\n",
    "    U, p = stats.wilcoxon(intactw,clipw, alternative = 'less', mode = 'approx')\n",
    "    print('%s thorax contralateral wings, p value is %0.3f and U value is %0.3f' %(trt, p, U))"
   ]
  },
  {
   "cell_type": "code",
   "execution_count": 8,
   "metadata": {},
   "outputs": [
    {
     "data": {
      "text/plain": [
       "<AxesSubplot:xlabel='treatment', ylabel='freq'>"
      ]
     },
     "execution_count": 8,
     "metadata": {},
     "output_type": "execute_result"
    },
    {
     "data": {
      "image/png": "[encoded data removed]",
      "text/plain": [
       "<Figure size 432x288 with 1 Axes>"
      ]
     },
     "metadata": {
      "needs_background": "light"
     },
     "output_type": "display_data"
    }
   ],
   "source": [
    "temp = pd.DataFrame({'clip': clipw, 'intact': intactw})\n",
    "temp_sns = pd.melt(temp, value_vars = ['clip', 'intact'],\n",
    "                  value_name = 'freq',\n",
    "                  var_name = 'treatment')\n",
    "sns.stripplot(x = 'treatment', y = 'freq', data = temp_sns)"
   ]
  },
  {
   "cell_type": "code",
   "execution_count": 9,
   "metadata": {},
   "outputs": [],
   "source": [
    "SlitSc_SumStat = pd.DataFrame(data = None,\n",
    "                             index = data.binned.unique(),\n",
    "                             columns = data.treatment.unique())"
   ]
  },
  {
   "cell_type": "code",
   "execution_count": 10,
   "metadata": {},
   "outputs": [
    {
     "name": "stderr",
     "output_type": "stream",
     "text": [
      "C:\\Users\\Tanvi\\AppData\\Local\\Continuum\\anaconda3\\lib\\site-packages\\scipy\\stats\\morestats.py:2957: UserWarning: Exact p-value calculation does not work if there are ties. Switching to normal approximation.\n",
      "  warnings.warn(\"Exact p-value calculation does not work if there are \"\n"
     ]
    }
   ],
   "source": [
    "# stats for each winglength\n",
    "\n",
    "for trt, df_trt in data.groupby('treatment'):\n",
    "    for binned, df_binned in df_trt.groupby('binned'):\n",
    "        clipw = df_binned.ClippedWingHz.values  \n",
    "        intactw = df_binned.IntactWingHz.values\n",
    "        U, p = stats.wilcoxon(intactw, clipw, alternative = 'two-sided')\n",
    "        SlitSc_SumStat.loc[binned,trt] = p\n",
    "#         print('%s and %s, p value is %0.3f and U value is %0.8f' %(trt, binned, p, U))"
   ]
  },
  {
   "cell_type": "code",
   "execution_count": 11,
   "metadata": {},
   "outputs": [
    {
     "data": {
      "text/html": [
       "<div>\n",
       "<style scoped>\n",
       "    .dataframe tbody tr th:only-of-type {\n",
       "        vertical-align: middle;\n",
       "    }\n",
       "\n",
       "    .dataframe tbody tr th {\n",
       "        vertical-align: top;\n",
       "    }\n",
       "\n",
       "    .dataframe thead th {\n",
       "        text-align: right;\n",
       "    }\n",
       "</style>\n",
       "<table border=\"1\" class=\"dataframe\">\n",
       "  <thead>\n",
       "    <tr style=\"text-align: right;\">\n",
       "      <th></th>\n",
       "      <th>Intact</th>\n",
       "      <th>Slit</th>\n",
       "    </tr>\n",
       "  </thead>\n",
       "  <tbody>\n",
       "    <tr>\n",
       "      <td>0.7</td>\n",
       "      <td>0.248864</td>\n",
       "      <td>0.317311</td>\n",
       "    </tr>\n",
       "    <tr>\n",
       "      <td>0.6</td>\n",
       "      <td>0.875</td>\n",
       "      <td>0.125</td>\n",
       "    </tr>\n",
       "    <tr>\n",
       "      <td>0.5</td>\n",
       "      <td>0.345448</td>\n",
       "      <td>0.125</td>\n",
       "    </tr>\n",
       "    <tr>\n",
       "      <td>0.3</td>\n",
       "      <td>0.03125</td>\n",
       "      <td>0.108809</td>\n",
       "    </tr>\n",
       "    <tr>\n",
       "      <td>0.9</td>\n",
       "      <td>0.0796158</td>\n",
       "      <td>0.59298</td>\n",
       "    </tr>\n",
       "  </tbody>\n",
       "</table>\n",
       "</div>"
      ],
      "text/plain": [
       "        Intact      Slit\n",
       "0.7   0.248864  0.317311\n",
       "0.6      0.875     0.125\n",
       "0.5   0.345448     0.125\n",
       "0.3    0.03125  0.108809\n",
       "0.9  0.0796158   0.59298"
      ]
     },
     "execution_count": 11,
     "metadata": {},
     "output_type": "execute_result"
    }
   ],
   "source": [
    "SlitSc_SumStat"
   ]
  },
  {
   "cell_type": "markdown",
   "metadata": {},
   "source": [
    "## amplitude"
   ]
  },
  {
   "cell_type": "code",
   "execution_count": 91,
   "metadata": {},
   "outputs": [
    {
     "data": {
      "text/html": [
       "<div>\n",
       "<style scoped>\n",
       "    .dataframe tbody tr th:only-of-type {\n",
       "        vertical-align: middle;\n",
       "    }\n",
       "\n",
       "    .dataframe tbody tr th {\n",
       "        vertical-align: top;\n",
       "    }\n",
       "\n",
       "    .dataframe thead th {\n",
       "        text-align: right;\n",
       "    }\n",
       "</style>\n",
       "<table border=\"1\" class=\"dataframe\">\n",
       "  <thead>\n",
       "    <tr style=\"text-align: right;\">\n",
       "      <th></th>\n",
       "      <th>Unnamed: 0</th>\n",
       "      <th>Unnamed: 0.1</th>\n",
       "      <th>Unnamed: 0.1.1</th>\n",
       "      <th>flyID</th>\n",
       "      <th>body</th>\n",
       "      <th>med_amplitude</th>\n",
       "      <th>treatment</th>\n",
       "      <th>binned</th>\n",
       "      <th>bodypart</th>\n",
       "    </tr>\n",
       "  </thead>\n",
       "  <tbody>\n",
       "    <tr>\n",
       "      <td>0</td>\n",
       "      <td>0</td>\n",
       "      <td>0</td>\n",
       "      <td>0</td>\n",
       "      <td>fly1</td>\n",
       "      <td>LW</td>\n",
       "      <td>103.677600</td>\n",
       "      <td>0.450367</td>\n",
       "      <td>(0.3, 0.5]</td>\n",
       "      <td>clip</td>\n",
       "    </tr>\n",
       "    <tr>\n",
       "      <td>1</td>\n",
       "      <td>1</td>\n",
       "      <td>1</td>\n",
       "      <td>1</td>\n",
       "      <td>fly1</td>\n",
       "      <td>RW</td>\n",
       "      <td>96.487214</td>\n",
       "      <td>0.450367</td>\n",
       "      <td>(0.3, 0.5]</td>\n",
       "      <td>intact</td>\n",
       "    </tr>\n",
       "    <tr>\n",
       "      <td>2</td>\n",
       "      <td>2</td>\n",
       "      <td>2</td>\n",
       "      <td>2</td>\n",
       "      <td>fly1</td>\n",
       "      <td>LW</td>\n",
       "      <td>148.977524</td>\n",
       "      <td>0.617825</td>\n",
       "      <td>(0.6, 0.7]</td>\n",
       "      <td>clip</td>\n",
       "    </tr>\n",
       "    <tr>\n",
       "      <td>3</td>\n",
       "      <td>3</td>\n",
       "      <td>3</td>\n",
       "      <td>3</td>\n",
       "      <td>fly1</td>\n",
       "      <td>RW</td>\n",
       "      <td>114.640444</td>\n",
       "      <td>0.617825</td>\n",
       "      <td>(0.6, 0.7]</td>\n",
       "      <td>intact</td>\n",
       "    </tr>\n",
       "    <tr>\n",
       "      <td>4</td>\n",
       "      <td>4</td>\n",
       "      <td>4</td>\n",
       "      <td>4</td>\n",
       "      <td>fly1</td>\n",
       "      <td>LW</td>\n",
       "      <td>150.204065</td>\n",
       "      <td>0.719372</td>\n",
       "      <td>(0.7, 0.9]</td>\n",
       "      <td>clip</td>\n",
       "    </tr>\n",
       "  </tbody>\n",
       "</table>\n",
       "</div>"
      ],
      "text/plain": [
       "   Unnamed: 0  Unnamed: 0.1  Unnamed: 0.1.1 flyID body  med_amplitude  \\\n",
       "0           0             0               0  fly1   LW     103.677600   \n",
       "1           1             1               1  fly1   RW      96.487214   \n",
       "2           2             2               2  fly1   LW     148.977524   \n",
       "3           3             3               3  fly1   RW     114.640444   \n",
       "4           4             4               4  fly1   LW     150.204065   \n",
       "\n",
       "   treatment      binned bodypart  \n",
       "0   0.450367  (0.3, 0.5]     clip  \n",
       "1   0.450367  (0.3, 0.5]   intact  \n",
       "2   0.617825  (0.6, 0.7]     clip  \n",
       "3   0.617825  (0.6, 0.7]   intact  \n",
       "4   0.719372  (0.7, 0.9]     clip  "
      ]
     },
     "execution_count": 91,
     "metadata": {},
     "output_type": "execute_result"
    }
   ],
   "source": [
    "# Slit Sc\n",
    "df_amp = pd.read_csv('./dataFolder/AmplitudeAnalysis/v2/Slit_sc/median_summary_edited.csv')\n",
    "df_amp.head()"
   ]
  },
  {
   "cell_type": "code",
   "execution_count": 92,
   "metadata": {},
   "outputs": [
    {
     "name": "stdout",
     "output_type": "stream",
     "text": [
      "clip has a p value of 0.06778 and U values of 8.746\n",
      "intact has a p value of 0.18357 and U values of 6.216\n"
     ]
    }
   ],
   "source": [
    "for wing, s_df in df_amp.groupby('bodypart'):\n",
    "    U, p = stats.kruskal(*[group[\"med_amplitude\"].values for name, group in s_df.groupby(\"binned\")])\n",
    "    print('%s has a p value of %0.5f and U values of %0.3f' %(wing, p, U))\n",
    "    if p < 0.05:\n",
    "        print(sp.posthoc_dunn(s_df, val_col='med_amplitude', group_col='binned'))"
   ]
  },
  {
   "cell_type": "code",
   "execution_count": 89,
   "metadata": {},
   "outputs": [
    {
     "data": {
      "text/html": [
       "<div>\n",
       "<style scoped>\n",
       "    .dataframe tbody tr th:only-of-type {\n",
       "        vertical-align: middle;\n",
       "    }\n",
       "\n",
       "    .dataframe tbody tr th {\n",
       "        vertical-align: top;\n",
       "    }\n",
       "\n",
       "    .dataframe thead th {\n",
       "        text-align: right;\n",
       "    }\n",
       "</style>\n",
       "<table border=\"1\" class=\"dataframe\">\n",
       "  <thead>\n",
       "    <tr style=\"text-align: right;\">\n",
       "      <th></th>\n",
       "      <th>Unnamed: 0</th>\n",
       "      <th>Unnamed: 0.1</th>\n",
       "      <th>Unnamed: 0.1.1</th>\n",
       "      <th>flyID</th>\n",
       "      <th>body</th>\n",
       "      <th>med_amplitude</th>\n",
       "      <th>treatment</th>\n",
       "      <th>binned</th>\n",
       "      <th>bodypart</th>\n",
       "    </tr>\n",
       "  </thead>\n",
       "  <tbody>\n",
       "    <tr>\n",
       "      <td>0</td>\n",
       "      <td>0</td>\n",
       "      <td>0</td>\n",
       "      <td>0</td>\n",
       "      <td>fly1</td>\n",
       "      <td>LW</td>\n",
       "      <td>106.300374</td>\n",
       "      <td>0.391743</td>\n",
       "      <td>(0.3, 0.5]</td>\n",
       "      <td>clip</td>\n",
       "    </tr>\n",
       "    <tr>\n",
       "      <td>1</td>\n",
       "      <td>1</td>\n",
       "      <td>1</td>\n",
       "      <td>1</td>\n",
       "      <td>fly1</td>\n",
       "      <td>RW</td>\n",
       "      <td>141.388610</td>\n",
       "      <td>0.391743</td>\n",
       "      <td>(0.3, 0.5]</td>\n",
       "      <td>intact</td>\n",
       "    </tr>\n",
       "    <tr>\n",
       "      <td>2</td>\n",
       "      <td>2</td>\n",
       "      <td>2</td>\n",
       "      <td>2</td>\n",
       "      <td>fly1</td>\n",
       "      <td>LW</td>\n",
       "      <td>108.509719</td>\n",
       "      <td>0.461742</td>\n",
       "      <td>(0.3, 0.5]</td>\n",
       "      <td>clip</td>\n",
       "    </tr>\n",
       "    <tr>\n",
       "      <td>3</td>\n",
       "      <td>3</td>\n",
       "      <td>3</td>\n",
       "      <td>3</td>\n",
       "      <td>fly1</td>\n",
       "      <td>RW</td>\n",
       "      <td>137.794417</td>\n",
       "      <td>0.461742</td>\n",
       "      <td>(0.3, 0.5]</td>\n",
       "      <td>intact</td>\n",
       "    </tr>\n",
       "    <tr>\n",
       "      <td>4</td>\n",
       "      <td>4</td>\n",
       "      <td>4</td>\n",
       "      <td>4</td>\n",
       "      <td>fly1</td>\n",
       "      <td>LW</td>\n",
       "      <td>129.176719</td>\n",
       "      <td>0.573657</td>\n",
       "      <td>(0.5, 0.6]</td>\n",
       "      <td>clip</td>\n",
       "    </tr>\n",
       "  </tbody>\n",
       "</table>\n",
       "</div>"
      ],
      "text/plain": [
       "   Unnamed: 0  Unnamed: 0.1  Unnamed: 0.1.1 flyID body  med_amplitude  \\\n",
       "0           0             0               0  fly1   LW     106.300374   \n",
       "1           1             1               1  fly1   RW     141.388610   \n",
       "2           2             2               2  fly1   LW     108.509719   \n",
       "3           3             3               3  fly1   RW     137.794417   \n",
       "4           4             4               4  fly1   LW     129.176719   \n",
       "\n",
       "   treatment      binned bodypart  \n",
       "0   0.391743  (0.3, 0.5]     clip  \n",
       "1   0.391743  (0.3, 0.5]   intact  \n",
       "2   0.461742  (0.3, 0.5]     clip  \n",
       "3   0.461742  (0.3, 0.5]   intact  \n",
       "4   0.573657  (0.5, 0.6]     clip  "
      ]
     },
     "execution_count": 89,
     "metadata": {},
     "output_type": "execute_result"
    }
   ],
   "source": [
    "# intact thorax\n",
    "df_amp = pd.read_csv('./dataFolder/AmplitudeAnalysis/v2/asymmetric_wings/median_summary_edited.csv')\n",
    "df_amp.head()"
   ]
  },
  {
   "cell_type": "code",
   "execution_count": 90,
   "metadata": {},
   "outputs": [
    {
     "name": "stdout",
     "output_type": "stream",
     "text": [
      "clip has a p value of 0.00021 and U values of 21.899\n",
      "            (0.3, 0.5]  (0.5, 0.6]  (0.6, 0.7]  (0.7, 0.9]  (0.9, 1.0]\n",
      "(0.3, 0.5]    1.000000    0.093803    0.025797    0.000553    0.000018\n",
      "(0.5, 0.6]    0.093803    1.000000    0.418836    0.071458    0.005565\n",
      "(0.6, 0.7]    0.025797    0.418836    1.000000    0.486447    0.108606\n",
      "(0.7, 0.9]    0.000553    0.071458    0.486447    1.000000    0.259076\n",
      "(0.9, 1.0]    0.000018    0.005565    0.108606    0.259076    1.000000\n",
      "intact has a p value of 0.21822 and U values of 5.755\n"
     ]
    }
   ],
   "source": [
    "for wing, s_df in df_amp.groupby('bodypart'):\n",
    "    U, p = stats.kruskal(*[group[\"med_amplitude\"].values for name, group in s_df.groupby(\"binned\")])\n",
    "    print('%s has a p value of %0.5f and U values of %0.3f' %(wing, p, U))\n",
    "    if p < 0.05:\n",
    "        print(sp.posthoc_dunn(s_df, val_col='med_amplitude', group_col='binned'))"
   ]
  },
  {
   "cell_type": "markdown",
   "metadata": {},
   "source": [
    "## EpiRidge Cut"
   ]
  },
  {
   "cell_type": "code",
   "execution_count": 4,
   "metadata": {},
   "outputs": [],
   "source": [
    "direc= r\"./dataFolder/Submission 3/Final Submission/Data to be uploaded to Dryad/EpiRidgeCut_Figure3/\""
   ]
  },
  {
   "cell_type": "code",
   "execution_count": 5,
   "metadata": {},
   "outputs": [],
   "source": [
    "data = pd.read_csv(direc + 'compiledDataForAggregratePlots.csv')"
   ]
  },
  {
   "cell_type": "code",
   "execution_count": 6,
   "metadata": {},
   "outputs": [
    {
     "data": {
      "text/html": [
       "<div>\n",
       "<style scoped>\n",
       "    .dataframe tbody tr th:only-of-type {\n",
       "        vertical-align: middle;\n",
       "    }\n",
       "\n",
       "    .dataframe tbody tr th {\n",
       "        vertical-align: top;\n",
       "    }\n",
       "\n",
       "    .dataframe thead th {\n",
       "        text-align: right;\n",
       "    }\n",
       "</style>\n",
       "<table border=\"1\" class=\"dataframe\">\n",
       "  <thead>\n",
       "    <tr style=\"text-align: right;\">\n",
       "      <th></th>\n",
       "      <th>Unnamed: 0</th>\n",
       "      <th>flyID</th>\n",
       "      <th>treatment</th>\n",
       "      <th>winglength</th>\n",
       "      <th>wingHz</th>\n",
       "      <th>leftHalHz</th>\n",
       "      <th>rightHalHz</th>\n",
       "      <th>binned</th>\n",
       "    </tr>\n",
       "  </thead>\n",
       "  <tbody>\n",
       "    <tr>\n",
       "      <td>0</td>\n",
       "      <td>0</td>\n",
       "      <td>fly1</td>\n",
       "      <td>cutwing1_1</td>\n",
       "      <td>0.82</td>\n",
       "      <td>138.095238</td>\n",
       "      <td>138.095238</td>\n",
       "      <td>138.095238</td>\n",
       "      <td>(0.7, 0.9]</td>\n",
       "    </tr>\n",
       "    <tr>\n",
       "      <td>1</td>\n",
       "      <td>1</td>\n",
       "      <td>fly1</td>\n",
       "      <td>cutwing2_1</td>\n",
       "      <td>0.72</td>\n",
       "      <td>132.321429</td>\n",
       "      <td>132.797619</td>\n",
       "      <td>132.310924</td>\n",
       "      <td>(0.7, 0.9]</td>\n",
       "    </tr>\n",
       "    <tr>\n",
       "      <td>2</td>\n",
       "      <td>2</td>\n",
       "      <td>fly1</td>\n",
       "      <td>cutwing3_1</td>\n",
       "      <td>0.58</td>\n",
       "      <td>151.648352</td>\n",
       "      <td>151.904762</td>\n",
       "      <td>151.831502</td>\n",
       "      <td>(0.5, 0.6]</td>\n",
       "    </tr>\n",
       "    <tr>\n",
       "      <td>3</td>\n",
       "      <td>3</td>\n",
       "      <td>fly1</td>\n",
       "      <td>cutwing4_1</td>\n",
       "      <td>0.50</td>\n",
       "      <td>138.387470</td>\n",
       "      <td>130.766537</td>\n",
       "      <td>137.388943</td>\n",
       "      <td>(0.4, 0.5]</td>\n",
       "    </tr>\n",
       "    <tr>\n",
       "      <td>4</td>\n",
       "      <td>4</td>\n",
       "      <td>fly1</td>\n",
       "      <td>cutwing5_1</td>\n",
       "      <td>0.38</td>\n",
       "      <td>187.272727</td>\n",
       "      <td>124.550654</td>\n",
       "      <td>125.486992</td>\n",
       "      <td>(0.3, 0.4]</td>\n",
       "    </tr>\n",
       "  </tbody>\n",
       "</table>\n",
       "</div>"
      ],
      "text/plain": [
       "   Unnamed: 0 flyID   treatment  winglength      wingHz   leftHalHz  \\\n",
       "0           0  fly1  cutwing1_1        0.82  138.095238  138.095238   \n",
       "1           1  fly1  cutwing2_1        0.72  132.321429  132.797619   \n",
       "2           2  fly1  cutwing3_1        0.58  151.648352  151.904762   \n",
       "3           3  fly1  cutwing4_1        0.50  138.387470  130.766537   \n",
       "4           4  fly1  cutwing5_1        0.38  187.272727  124.550654   \n",
       "\n",
       "   rightHalHz      binned  \n",
       "0  138.095238  (0.7, 0.9]  \n",
       "1  132.310924  (0.7, 0.9]  \n",
       "2  151.831502  (0.5, 0.6]  \n",
       "3  137.388943  (0.4, 0.5]  \n",
       "4  125.486992  (0.3, 0.4]  "
      ]
     },
     "execution_count": 6,
     "metadata": {},
     "output_type": "execute_result"
    }
   ],
   "source": [
    "data.head()"
   ]
  },
  {
   "cell_type": "code",
   "execution_count": 8,
   "metadata": {},
   "outputs": [
    {
     "data": {
      "text/html": [
       "<div>\n",
       "<style scoped>\n",
       "    .dataframe tbody tr th:only-of-type {\n",
       "        vertical-align: middle;\n",
       "    }\n",
       "\n",
       "    .dataframe tbody tr th {\n",
       "        vertical-align: top;\n",
       "    }\n",
       "\n",
       "    .dataframe thead th {\n",
       "        text-align: right;\n",
       "    }\n",
       "</style>\n",
       "<table border=\"1\" class=\"dataframe\">\n",
       "  <thead>\n",
       "    <tr style=\"text-align: right;\">\n",
       "      <th></th>\n",
       "      <th>Unnamed: 0</th>\n",
       "      <th>flyID</th>\n",
       "      <th>treatment</th>\n",
       "      <th>winglength</th>\n",
       "      <th>wingHz</th>\n",
       "      <th>leftHalHz</th>\n",
       "      <th>rightHalHz</th>\n",
       "      <th>binned</th>\n",
       "    </tr>\n",
       "  </thead>\n",
       "  <tbody>\n",
       "    <tr>\n",
       "      <td>2</td>\n",
       "      <td>2</td>\n",
       "      <td>fly1</td>\n",
       "      <td>cutwing3_1</td>\n",
       "      <td>0.58</td>\n",
       "      <td>151.648352</td>\n",
       "      <td>151.904762</td>\n",
       "      <td>151.831502</td>\n",
       "      <td>(0.5, 0.6]</td>\n",
       "    </tr>\n",
       "    <tr>\n",
       "      <td>8</td>\n",
       "      <td>8</td>\n",
       "      <td>fly2</td>\n",
       "      <td>cutwing3_1</td>\n",
       "      <td>0.53</td>\n",
       "      <td>135.773809</td>\n",
       "      <td>81.405410</td>\n",
       "      <td>136.190476</td>\n",
       "      <td>(0.5, 0.6]</td>\n",
       "    </tr>\n",
       "    <tr>\n",
       "      <td>14</td>\n",
       "      <td>14</td>\n",
       "      <td>fly3</td>\n",
       "      <td>cutwing3_1</td>\n",
       "      <td>0.55</td>\n",
       "      <td>130.644258</td>\n",
       "      <td>121.367819</td>\n",
       "      <td>130.525210</td>\n",
       "      <td>(0.5, 0.6]</td>\n",
       "    </tr>\n",
       "    <tr>\n",
       "      <td>20</td>\n",
       "      <td>20</td>\n",
       "      <td>fly5</td>\n",
       "      <td>cutwing3_1</td>\n",
       "      <td>0.55</td>\n",
       "      <td>152.289377</td>\n",
       "      <td>77.495974</td>\n",
       "      <td>90.231126</td>\n",
       "      <td>(0.5, 0.6]</td>\n",
       "    </tr>\n",
       "    <tr>\n",
       "      <td>25</td>\n",
       "      <td>25</td>\n",
       "      <td>fly6</td>\n",
       "      <td>cutwing3_1</td>\n",
       "      <td>0.51</td>\n",
       "      <td>118.201324</td>\n",
       "      <td>74.224054</td>\n",
       "      <td>108.497306</td>\n",
       "      <td>(0.5, 0.6]</td>\n",
       "    </tr>\n",
       "  </tbody>\n",
       "</table>\n",
       "</div>"
      ],
      "text/plain": [
       "    Unnamed: 0 flyID   treatment  winglength      wingHz   leftHalHz  \\\n",
       "2            2  fly1  cutwing3_1        0.58  151.648352  151.904762   \n",
       "8            8  fly2  cutwing3_1        0.53  135.773809   81.405410   \n",
       "14          14  fly3  cutwing3_1        0.55  130.644258  121.367819   \n",
       "20          20  fly5  cutwing3_1        0.55  152.289377   77.495974   \n",
       "25          25  fly6  cutwing3_1        0.51  118.201324   74.224054   \n",
       "\n",
       "    rightHalHz      binned  \n",
       "2   151.831502  (0.5, 0.6]  \n",
       "8   136.190476  (0.5, 0.6]  \n",
       "14  130.525210  (0.5, 0.6]  \n",
       "20   90.231126  (0.5, 0.6]  \n",
       "25  108.497306  (0.5, 0.6]  "
      ]
     },
     "execution_count": 8,
     "metadata": {},
     "output_type": "execute_result"
    }
   ],
   "source": [
    "# remove fly 6 from stats\n",
    "# subset = data[(data.binned == '(0.5, 0.6]') & (data.flyID != 'fly6')]\n",
    "# subset"
   ]
  },
  {
   "cell_type": "code",
   "execution_count": 10,
   "metadata": {},
   "outputs": [],
   "source": [
    "# subdata = data.loc[data.flyID != 'fly6', :]\n",
    "subdata = data.copy()"
   ]
  },
  {
   "cell_type": "code",
   "execution_count": 11,
   "metadata": {},
   "outputs": [
    {
     "name": "stderr",
     "output_type": "stream",
     "text": [
      "C:\\Users\\Tanvi\\AppData\\Local\\Continuum\\anaconda3\\lib\\site-packages\\scipy\\stats\\morestats.py:2971: UserWarning: Sample size too small for normal approximation.\n",
      "  warnings.warn(\"Sample size too small for normal approximation.\")\n"
     ]
    }
   ],
   "source": [
    "# do wilcoxon for each winglength\n",
    "\n",
    "EpiRidge_SumStats = pd.DataFrame(data = None,\n",
    "                                index = data.binned.unique(),\n",
    "                                columns = ['RidgeCutHal-wing', 'controlHal-wing'])\n",
    "\n",
    "for binned, df_binned in subdata.groupby('binned'):\n",
    "#     print(binned)\n",
    "    wing = df_binned.wingHz.values\n",
    "    left = df_binned.leftHalHz.values\n",
    "    right = df_binned.rightHalHz.values\n",
    "\n",
    "    U, p = stats.wilcoxon(wing, left, alternative='greater', mode = 'approx')\n",
    "    EpiRidge_SumStats.loc[binned, 'RidgeCutHal-wing']= p\n",
    "#     print('wing and ridge cut haltere, p value is %0.5f and U value %0.3f' %(p,U))\n",
    "\n",
    "    U, p = stats.wilcoxon(wing, right, alternative='greater', mode = 'approx')\n",
    "    EpiRidge_SumStats.loc[binned, 'controlHal-wing']= p\n",
    "#     print('wing and control haltere, p value is %0.5f and U value %0.3f' %(p, U))"
   ]
  },
  {
   "cell_type": "code",
   "execution_count": 12,
   "metadata": {},
   "outputs": [
    {
     "data": {
      "text/html": [
       "<div>\n",
       "<style scoped>\n",
       "    .dataframe tbody tr th:only-of-type {\n",
       "        vertical-align: middle;\n",
       "    }\n",
       "\n",
       "    .dataframe tbody tr th {\n",
       "        vertical-align: top;\n",
       "    }\n",
       "\n",
       "    .dataframe thead th {\n",
       "        text-align: right;\n",
       "    }\n",
       "</style>\n",
       "<table border=\"1\" class=\"dataframe\">\n",
       "  <thead>\n",
       "    <tr style=\"text-align: right;\">\n",
       "      <th></th>\n",
       "      <th>RidgeCutHal-wing</th>\n",
       "      <th>controlHal-wing</th>\n",
       "    </tr>\n",
       "  </thead>\n",
       "  <tbody>\n",
       "    <tr>\n",
       "      <td>(0.7, 0.9]</td>\n",
       "      <td>0.458256</td>\n",
       "      <td>0.541744</td>\n",
       "    </tr>\n",
       "    <tr>\n",
       "      <td>(0.5, 0.6]</td>\n",
       "      <td>0.0398079</td>\n",
       "      <td>0.250092</td>\n",
       "    </tr>\n",
       "    <tr>\n",
       "      <td>(0.4, 0.5]</td>\n",
       "      <td>0.0215572</td>\n",
       "      <td>0.0215572</td>\n",
       "    </tr>\n",
       "    <tr>\n",
       "      <td>(0.3, 0.4]</td>\n",
       "      <td>0.0215572</td>\n",
       "      <td>0.0215572</td>\n",
       "    </tr>\n",
       "    <tr>\n",
       "      <td>(0.9, 1.0]</td>\n",
       "      <td>0.962632</td>\n",
       "      <td>0.553631</td>\n",
       "    </tr>\n",
       "    <tr>\n",
       "      <td>(0.6, 0.7]</td>\n",
       "      <td>0.0398079</td>\n",
       "      <td>0.657085</td>\n",
       "    </tr>\n",
       "  </tbody>\n",
       "</table>\n",
       "</div>"
      ],
      "text/plain": [
       "           RidgeCutHal-wing controlHal-wing\n",
       "(0.7, 0.9]         0.458256        0.541744\n",
       "(0.5, 0.6]        0.0398079        0.250092\n",
       "(0.4, 0.5]        0.0215572       0.0215572\n",
       "(0.3, 0.4]        0.0215572       0.0215572\n",
       "(0.9, 1.0]         0.962632        0.553631\n",
       "(0.6, 0.7]        0.0398079        0.657085"
      ]
     },
     "execution_count": 12,
     "metadata": {},
     "output_type": "execute_result"
    }
   ],
   "source": [
    "EpiRidge_SumStats"
   ]
  },
  {
   "cell_type": "code",
   "execution_count": 9,
   "metadata": {},
   "outputs": [],
   "source": [
    "EpiRidge_SumStats.to_csv(direc + 'summaryStats_withoutFly6.csv')"
   ]
  },
  {
   "cell_type": "markdown",
   "metadata": {},
   "source": [
    "## loaded haltere"
   ]
  },
  {
   "cell_type": "code",
   "execution_count": 100,
   "metadata": {},
   "outputs": [],
   "source": [
    "direc = r\"./dataFolder/Submission 3/Final Submission/Data to be uploaded to Dryad/HaltereLoading_Figure5/\""
   ]
  },
  {
   "cell_type": "code",
   "execution_count": 101,
   "metadata": {},
   "outputs": [],
   "source": [
    "data = pd.read_csv(direc + 'compiledDataForAggregratePlots.csv')"
   ]
  },
  {
   "cell_type": "code",
   "execution_count": 102,
   "metadata": {},
   "outputs": [
    {
     "data": {
      "text/html": [
       "<div>\n",
       "<style scoped>\n",
       "    .dataframe tbody tr th:only-of-type {\n",
       "        vertical-align: middle;\n",
       "    }\n",
       "\n",
       "    .dataframe tbody tr th {\n",
       "        vertical-align: top;\n",
       "    }\n",
       "\n",
       "    .dataframe thead th {\n",
       "        text-align: right;\n",
       "    }\n",
       "</style>\n",
       "<table border=\"1\" class=\"dataframe\">\n",
       "  <thead>\n",
       "    <tr style=\"text-align: right;\">\n",
       "      <th></th>\n",
       "      <th>Unnamed: 0</th>\n",
       "      <th>flyID</th>\n",
       "      <th>wingHz</th>\n",
       "      <th>leftHalHz</th>\n",
       "      <th>rightHalHz</th>\n",
       "      <th>treatment</th>\n",
       "    </tr>\n",
       "  </thead>\n",
       "  <tbody>\n",
       "    <tr>\n",
       "      <td>0</td>\n",
       "      <td>0</td>\n",
       "      <td>fly1</td>\n",
       "      <td>96.904762</td>\n",
       "      <td>97.142857</td>\n",
       "      <td>96.904762</td>\n",
       "      <td>intacthaltere</td>\n",
       "    </tr>\n",
       "    <tr>\n",
       "      <td>1</td>\n",
       "      <td>1</td>\n",
       "      <td>fly1</td>\n",
       "      <td>102.130326</td>\n",
       "      <td>102.393484</td>\n",
       "      <td>102.393484</td>\n",
       "      <td>loadedhaltere1</td>\n",
       "    </tr>\n",
       "    <tr>\n",
       "      <td>2</td>\n",
       "      <td>2</td>\n",
       "      <td>fly1</td>\n",
       "      <td>112.452700</td>\n",
       "      <td>107.893285</td>\n",
       "      <td>112.125903</td>\n",
       "      <td>loadedhaltere2</td>\n",
       "    </tr>\n",
       "    <tr>\n",
       "      <td>3</td>\n",
       "      <td>3</td>\n",
       "      <td>fly1</td>\n",
       "      <td>109.064327</td>\n",
       "      <td>49.968041</td>\n",
       "      <td>109.356725</td>\n",
       "      <td>loadedhaltere3</td>\n",
       "    </tr>\n",
       "    <tr>\n",
       "      <td>4</td>\n",
       "      <td>4</td>\n",
       "      <td>fly1</td>\n",
       "      <td>109.064327</td>\n",
       "      <td>109.356725</td>\n",
       "      <td>109.064327</td>\n",
       "      <td>removedload</td>\n",
       "    </tr>\n",
       "  </tbody>\n",
       "</table>\n",
       "</div>"
      ],
      "text/plain": [
       "   Unnamed: 0 flyID      wingHz   leftHalHz  rightHalHz       treatment\n",
       "0           0  fly1   96.904762   97.142857   96.904762   intacthaltere\n",
       "1           1  fly1  102.130326  102.393484  102.393484  loadedhaltere1\n",
       "2           2  fly1  112.452700  107.893285  112.125903  loadedhaltere2\n",
       "3           3  fly1  109.064327   49.968041  109.356725  loadedhaltere3\n",
       "4           4  fly1  109.064327  109.356725  109.064327     removedload"
      ]
     },
     "execution_count": 102,
     "metadata": {},
     "output_type": "execute_result"
    }
   ],
   "source": [
    "data.head()"
   ]
  },
  {
   "cell_type": "markdown",
   "metadata": {},
   "source": [
    "#### wilcoxon test"
   ]
  },
  {
   "cell_type": "code",
   "execution_count": 104,
   "metadata": {},
   "outputs": [],
   "source": [
    "# alternative hupothesis is that left/right haltere is less than wing\n",
    "\n",
    "loadedHal_summaryStats = pd.DataFrame(data = None, \n",
    "                                      index = data.treatment.unique(), \n",
    "                                      columns = ['loadedHal-wing', 'controlHal-wing'])\n",
    "\n",
    "for trt, df in data.groupby('treatment'):\n",
    "    rightHal= df.rightHalHz.values\n",
    "    leftHal = df.leftHalHz.values\n",
    "    wing = df.wingHz.values\n",
    "\n",
    "    U, p = stats.wilcoxon(rightHal, wing, alternative='less', mode = 'approx')\n",
    "#     print('left-right haltere, p value is %0.5f and U value is %0.5f' %(p, U))\n",
    "    loadedHal_summaryStats.loc[trt, 'controlHal-wing'] = p\n",
    "\n",
    "    U, p = stats.wilcoxon(leftHal, wing, alternative='less', mode = 'approx')\n",
    "#     print('left haltere-wing, p value is %0.5f and U value is %0.5f' %(p, U))\n",
    "    loadedHal_summaryStats.loc[trt, 'loadedHal-wing'] = p\n",
    "loadedHal_summaryStats.to_csv(r'./dataFolder/Submission 3/Final Submission/Data to be uploaded to Dryad/HaltereLoading_Figure5/summaryStats.csv')"
   ]
  },
  {
   "cell_type": "code",
   "execution_count": 105,
   "metadata": {},
   "outputs": [
    {
     "data": {
      "text/html": [
       "<div>\n",
       "<style scoped>\n",
       "    .dataframe tbody tr th:only-of-type {\n",
       "        vertical-align: middle;\n",
       "    }\n",
       "\n",
       "    .dataframe tbody tr th {\n",
       "        vertical-align: top;\n",
       "    }\n",
       "\n",
       "    .dataframe thead th {\n",
       "        text-align: right;\n",
       "    }\n",
       "</style>\n",
       "<table border=\"1\" class=\"dataframe\">\n",
       "  <thead>\n",
       "    <tr style=\"text-align: right;\">\n",
       "      <th></th>\n",
       "      <th>loadedHal-wing</th>\n",
       "      <th>controlHal-wing</th>\n",
       "    </tr>\n",
       "  </thead>\n",
       "  <tbody>\n",
       "    <tr>\n",
       "      <td>intacthaltere</td>\n",
       "      <td>0.875568</td>\n",
       "      <td>0.827384</td>\n",
       "    </tr>\n",
       "    <tr>\n",
       "      <td>loadedhaltere1</td>\n",
       "      <td>0.963031</td>\n",
       "      <td>0.986146</td>\n",
       "    </tr>\n",
       "    <tr>\n",
       "      <td>loadedhaltere2</td>\n",
       "      <td>0.0138539</td>\n",
       "      <td>0.662929</td>\n",
       "    </tr>\n",
       "    <tr>\n",
       "      <td>loadedhaltere3</td>\n",
       "      <td>0.0138539</td>\n",
       "      <td>0.986146</td>\n",
       "    </tr>\n",
       "    <tr>\n",
       "      <td>removedload</td>\n",
       "      <td>0.231536</td>\n",
       "      <td>0.342915</td>\n",
       "    </tr>\n",
       "  </tbody>\n",
       "</table>\n",
       "</div>"
      ],
      "text/plain": [
       "               loadedHal-wing controlHal-wing\n",
       "intacthaltere        0.875568        0.827384\n",
       "loadedhaltere1       0.963031        0.986146\n",
       "loadedhaltere2      0.0138539        0.662929\n",
       "loadedhaltere3      0.0138539        0.986146\n",
       "removedload          0.231536        0.342915"
      ]
     },
     "execution_count": 105,
     "metadata": {},
     "output_type": "execute_result"
    }
   ],
   "source": [
    "loadedHal_summaryStats"
   ]
  },
  {
   "cell_type": "code",
   "execution_count": null,
   "metadata": {},
   "outputs": [],
   "source": [
    "data[data.treatment == 'loadedhaltere2']"
   ]
  },
  {
   "cell_type": "code",
   "execution_count": 106,
   "metadata": {},
   "outputs": [],
   "source": [
    "loadedHal_summaryStats.to_csv(direc + 'summaryStats.csv')"
   ]
  },
  {
   "cell_type": "markdown",
   "metadata": {},
   "source": [
    "## amplitude for both epi and haltere"
   ]
  },
  {
   "cell_type": "code",
   "execution_count": 10,
   "metadata": {},
   "outputs": [],
   "source": [
    "data_epi = pd.read_csv('./dataFolder/AmplitudeAnalysis/v2/epi_ridge_cut/median_summary.csv')"
   ]
  },
  {
   "cell_type": "code",
   "execution_count": 11,
   "metadata": {},
   "outputs": [
    {
     "data": {
      "text/html": [
       "<div>\n",
       "<style scoped>\n",
       "    .dataframe tbody tr th:only-of-type {\n",
       "        vertical-align: middle;\n",
       "    }\n",
       "\n",
       "    .dataframe tbody tr th {\n",
       "        vertical-align: top;\n",
       "    }\n",
       "\n",
       "    .dataframe thead th {\n",
       "        text-align: right;\n",
       "    }\n",
       "</style>\n",
       "<table border=\"1\" class=\"dataframe\">\n",
       "  <thead>\n",
       "    <tr style=\"text-align: right;\">\n",
       "      <th></th>\n",
       "      <th>Unnamed: 0</th>\n",
       "      <th>Unnamed: 0.1</th>\n",
       "      <th>flyID</th>\n",
       "      <th>body</th>\n",
       "      <th>med_amplitude</th>\n",
       "      <th>winglength</th>\n",
       "      <th>binned</th>\n",
       "    </tr>\n",
       "  </thead>\n",
       "  <tbody>\n",
       "    <tr>\n",
       "      <td>0</td>\n",
       "      <td>0</td>\n",
       "      <td>0</td>\n",
       "      <td>fly1</td>\n",
       "      <td>LH</td>\n",
       "      <td>124.793194</td>\n",
       "      <td>0.38</td>\n",
       "      <td>(0.3, 0.4]</td>\n",
       "    </tr>\n",
       "    <tr>\n",
       "      <td>1</td>\n",
       "      <td>1</td>\n",
       "      <td>1</td>\n",
       "      <td>fly1</td>\n",
       "      <td>LW</td>\n",
       "      <td>86.794979</td>\n",
       "      <td>0.38</td>\n",
       "      <td>(0.3, 0.4]</td>\n",
       "    </tr>\n",
       "    <tr>\n",
       "      <td>2</td>\n",
       "      <td>2</td>\n",
       "      <td>2</td>\n",
       "      <td>fly1</td>\n",
       "      <td>RH</td>\n",
       "      <td>123.358511</td>\n",
       "      <td>0.38</td>\n",
       "      <td>(0.3, 0.4]</td>\n",
       "    </tr>\n",
       "    <tr>\n",
       "      <td>3</td>\n",
       "      <td>3</td>\n",
       "      <td>3</td>\n",
       "      <td>fly1</td>\n",
       "      <td>RW</td>\n",
       "      <td>107.727884</td>\n",
       "      <td>0.38</td>\n",
       "      <td>(0.3, 0.4]</td>\n",
       "    </tr>\n",
       "    <tr>\n",
       "      <td>4</td>\n",
       "      <td>4</td>\n",
       "      <td>4</td>\n",
       "      <td>fly1</td>\n",
       "      <td>LH</td>\n",
       "      <td>148.176682</td>\n",
       "      <td>0.50</td>\n",
       "      <td>(0.4, 0.5]</td>\n",
       "    </tr>\n",
       "  </tbody>\n",
       "</table>\n",
       "</div>"
      ],
      "text/plain": [
       "   Unnamed: 0  Unnamed: 0.1 flyID body  med_amplitude  winglength      binned\n",
       "0           0             0  fly1   LH     124.793194        0.38  (0.3, 0.4]\n",
       "1           1             1  fly1   LW      86.794979        0.38  (0.3, 0.4]\n",
       "2           2             2  fly1   RH     123.358511        0.38  (0.3, 0.4]\n",
       "3           3             3  fly1   RW     107.727884        0.38  (0.3, 0.4]\n",
       "4           4             4  fly1   LH     148.176682        0.50  (0.4, 0.5]"
      ]
     },
     "execution_count": 11,
     "metadata": {},
     "output_type": "execute_result"
    }
   ],
   "source": [
    "data_epi.head()"
   ]
  },
  {
   "cell_type": "code",
   "execution_count": 12,
   "metadata": {},
   "outputs": [],
   "source": [
    "# drop fly 8 and 9 \n",
    "data_epi.drop(data_epi.loc[data_epi.flyID.isin(['fly8', 'fly9']), :].index, inplace = True)"
   ]
  },
  {
   "cell_type": "code",
   "execution_count": 15,
   "metadata": {},
   "outputs": [
    {
     "data": {
      "text/plain": [
       "array(['fly1', 'fly2', 'fly3', 'fly5', 'fly7'], dtype=object)"
      ]
     },
     "execution_count": 15,
     "metadata": {},
     "output_type": "execute_result"
    }
   ],
   "source": [
    "data_epi.flyID.unique()"
   ]
  },
  {
   "cell_type": "code",
   "execution_count": 13,
   "metadata": {},
   "outputs": [
    {
     "name": "stdout",
     "output_type": "stream",
     "text": [
      "LH has a p value of 0.14826 and U values of 8.148\n",
      "LW has a p value of 0.00844 and U values of 15.495\n",
      "            (0.3, 0.4]  (0.4, 0.5]  (0.5, 0.6]  (0.6, 0.7]  (0.7, 0.9]  \\\n",
      "(0.3, 0.4]    1.000000    0.224681    0.018083    0.005211    0.003510   \n",
      "(0.4, 0.5]    0.224681    1.000000    0.201390    0.083514    0.077281   \n",
      "(0.5, 0.6]    0.018083    0.201390    1.000000    0.667340    0.741720   \n",
      "(0.6, 0.7]    0.005211    0.083514    0.667340    1.000000    0.887675   \n",
      "(0.7, 0.9]    0.003510    0.077281    0.741720    0.887675    1.000000   \n",
      "(0.9, 1.0]    0.001179    0.031336    0.452013    0.764930    0.629931   \n",
      "\n",
      "            (0.9, 1.0]  \n",
      "(0.3, 0.4]    0.001179  \n",
      "(0.4, 0.5]    0.031336  \n",
      "(0.5, 0.6]    0.452013  \n",
      "(0.6, 0.7]    0.764930  \n",
      "(0.7, 0.9]    0.629931  \n",
      "(0.9, 1.0]    1.000000  \n",
      "RH has a p value of 0.47061 and U values of 4.570\n",
      "RW has a p value of 0.02403 and U values of 12.931\n",
      "            (0.3, 0.4]  (0.4, 0.5]  (0.5, 0.6]  (0.6, 0.7]  (0.7, 0.9]  \\\n",
      "(0.3, 0.4]    1.000000    0.430517    0.025420    0.020291    0.003691   \n",
      "(0.4, 0.5]    0.430517    1.000000    0.116985    0.097284    0.026301   \n",
      "(0.5, 0.6]    0.025420    0.116985    1.000000    0.931498    0.649016   \n",
      "(0.6, 0.7]    0.020291    0.097284    0.931498    1.000000    0.718126   \n",
      "(0.7, 0.9]    0.003691    0.026301    0.649016    0.718126    1.000000   \n",
      "(0.9, 1.0]    0.015551    0.083645    0.949426    0.978314    0.678212   \n",
      "\n",
      "            (0.9, 1.0]  \n",
      "(0.3, 0.4]    0.015551  \n",
      "(0.4, 0.5]    0.083645  \n",
      "(0.5, 0.6]    0.949426  \n",
      "(0.6, 0.7]    0.978314  \n",
      "(0.7, 0.9]    0.678212  \n",
      "(0.9, 1.0]    1.000000  \n"
     ]
    }
   ],
   "source": [
    "for wing, s_df in data_epi.groupby('body'):\n",
    "    U, p = stats.kruskal(*[group[\"med_amplitude\"].values for name, group in s_df.groupby(\"binned\")])\n",
    "    print('%s has a p value of %0.5f and U values of %0.3f' %(wing, p, U))\n",
    "    if p < 0.05:\n",
    "        print(sp.posthoc_dunn(s_df, val_col='med_amplitude', group_col='binned'))"
   ]
  },
  {
   "cell_type": "code",
   "execution_count": 14,
   "metadata": {},
   "outputs": [
    {
     "name": "stdout",
     "output_type": "stream",
     "text": [
      "(0.3, 0.4] had p value of 0.00781 and Statistic of 0.000\n",
      "(0.4, 0.5] had p value of 0.00195 and Statistic of 0.000\n",
      "(0.5, 0.6] had p value of 0.00781 and Statistic of 0.000\n",
      "(0.6, 0.7] had p value of 0.00781 and Statistic of 0.000\n",
      "(0.7, 0.9] had p value of 0.00049 and Statistic of 0.000\n",
      "(0.9, 1.0] had p value of 0.00195 and Statistic of 0.000\n"
     ]
    }
   ],
   "source": [
    "# at each bin compare left and right wing\n",
    "\n",
    "sub_df = data_epi[data_epi['body'].isin(['LW', 'RW'])]\n",
    "\n",
    "for binned, s_df in sub_df.groupby('binned'):\n",
    "    U, p = stats.wilcoxon(*[group[\"med_amplitude\"].values for name, group in s_df.groupby(\"binned\")])\n",
    "    print('%s had p value of %0.5f and Statistic of %0.3f' %(binned, p, U))"
   ]
  },
  {
   "cell_type": "code",
   "execution_count": 129,
   "metadata": {},
   "outputs": [
    {
     "data": {
      "text/html": [
       "<div>\n",
       "<style scoped>\n",
       "    .dataframe tbody tr th:only-of-type {\n",
       "        vertical-align: middle;\n",
       "    }\n",
       "\n",
       "    .dataframe tbody tr th {\n",
       "        vertical-align: top;\n",
       "    }\n",
       "\n",
       "    .dataframe thead th {\n",
       "        text-align: right;\n",
       "    }\n",
       "</style>\n",
       "<table border=\"1\" class=\"dataframe\">\n",
       "  <thead>\n",
       "    <tr style=\"text-align: right;\">\n",
       "      <th></th>\n",
       "      <th>Unnamed: 0</th>\n",
       "      <th>flyID</th>\n",
       "      <th>body</th>\n",
       "      <th>med_amplitude</th>\n",
       "      <th>winglength</th>\n",
       "    </tr>\n",
       "  </thead>\n",
       "  <tbody>\n",
       "    <tr>\n",
       "      <td>0</td>\n",
       "      <td>0</td>\n",
       "      <td>fly1</td>\n",
       "      <td>LH</td>\n",
       "      <td>152.341363</td>\n",
       "      <td>intacthalteres</td>\n",
       "    </tr>\n",
       "    <tr>\n",
       "      <td>1</td>\n",
       "      <td>1</td>\n",
       "      <td>fly1</td>\n",
       "      <td>LW</td>\n",
       "      <td>158.869661</td>\n",
       "      <td>intacthalteres</td>\n",
       "    </tr>\n",
       "    <tr>\n",
       "      <td>2</td>\n",
       "      <td>2</td>\n",
       "      <td>fly1</td>\n",
       "      <td>RH</td>\n",
       "      <td>144.618297</td>\n",
       "      <td>intacthalteres</td>\n",
       "    </tr>\n",
       "    <tr>\n",
       "      <td>3</td>\n",
       "      <td>3</td>\n",
       "      <td>fly1</td>\n",
       "      <td>RW</td>\n",
       "      <td>156.706477</td>\n",
       "      <td>intacthalteres</td>\n",
       "    </tr>\n",
       "    <tr>\n",
       "      <td>4</td>\n",
       "      <td>4</td>\n",
       "      <td>fly1</td>\n",
       "      <td>LH</td>\n",
       "      <td>149.809164</td>\n",
       "      <td>loadedhaltere1</td>\n",
       "    </tr>\n",
       "  </tbody>\n",
       "</table>\n",
       "</div>"
      ],
      "text/plain": [
       "   Unnamed: 0 flyID body  med_amplitude      winglength\n",
       "0           0  fly1   LH     152.341363  intacthalteres\n",
       "1           1  fly1   LW     158.869661  intacthalteres\n",
       "2           2  fly1   RH     144.618297  intacthalteres\n",
       "3           3  fly1   RW     156.706477  intacthalteres\n",
       "4           4  fly1   LH     149.809164  loadedhaltere1"
      ]
     },
     "execution_count": 129,
     "metadata": {},
     "output_type": "execute_result"
    }
   ],
   "source": [
    "data_hal = pd.read_csv('./dataFolder/AmplitudeAnalysis/v2/haltere_loading/median_summary.csv')\n",
    "data_hal.head()"
   ]
  },
  {
   "cell_type": "code",
   "execution_count": 130,
   "metadata": {},
   "outputs": [
    {
     "name": "stdout",
     "output_type": "stream",
     "text": [
      "LH has a p value of 0.81265 and U values of 1.578\n",
      "LW has a p value of 0.18039 and U values of 6.262\n",
      "RH has a p value of 0.18039 and U values of 6.262\n",
      "RW has a p value of 0.17834 and U values of 6.292\n"
     ]
    }
   ],
   "source": [
    "for wing, s_df in data_hal.groupby('body'):\n",
    "    U, p = stats.kruskal(*[group[\"med_amplitude\"].values for name, group in s_df.groupby(\"winglength\")])\n",
    "    print('%s has a p value of %0.5f and U values of %0.3f' %(wing, p, U))\n",
    "    if p < 0.05:\n",
    "        print(sp.posthoc_dunn(s_df, val_col='med_amplitude', group_col='binned'))"
   ]
  },
  {
   "cell_type": "code",
   "execution_count": 131,
   "metadata": {},
   "outputs": [
    {
     "name": "stdout",
     "output_type": "stream",
     "text": [
      "intacthalteres had p value of 0.06250 and Statistic of 1.000\n",
      "loadedhaltere1 had p value of 1.00000 and Statistic of 10.000\n",
      "loadedhaltere2 had p value of 0.06250 and Statistic of 1.000\n",
      "loadedhaltere3 had p value of 0.56250 and Statistic of 7.000\n",
      "removedload had p value of 1.00000 and Statistic of 10.000\n"
     ]
    }
   ],
   "source": [
    "# at each bin compare left and right wing\n",
    "\n",
    "sub_df = data_hal[data_hal['body'].isin(['LW', 'RW'])]\n",
    "\n",
    "for binned, s_df in sub_df.groupby('winglength'):\n",
    "    U, p = stats.wilcoxon(*[group[\"med_amplitude\"].values for name, group in s_df.groupby(\"body\")])\n",
    "    print('%s had p value of %0.5f and Statistic of %0.3f' %(binned, p, U))"
   ]
  },
  {
   "cell_type": "code",
   "execution_count": null,
   "metadata": {},
   "outputs": [],
   "source": []
  }
 ],
 "metadata": {
  "kernelspec": {
   "display_name": "Python 3",
   "language": "python",
   "name": "python3"
  },
  "language_info": {
   "codemirror_mode": {
    "name": "ipython",
    "version": 3
   },
   "file_extension": ".py",
   "mimetype": "text/x-python",
   "name": "python",
   "nbconvert_exporter": "python",
   "pygments_lexer": "ipython3",
   "version": "3.6.5"
  }
 },
 "nbformat": 4,
 "nbformat_minor": 2
}
